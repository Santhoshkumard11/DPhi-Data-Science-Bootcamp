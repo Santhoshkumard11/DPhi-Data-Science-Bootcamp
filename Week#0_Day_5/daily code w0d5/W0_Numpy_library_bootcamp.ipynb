{
  "nbformat": 4,
  "nbformat_minor": 0,
  "metadata": {
    "kernelspec": {
      "display_name": "Python 3",
      "language": "python",
      "name": "python3"
    },
    "language_info": {
      "codemirror_mode": {
        "name": "ipython",
        "version": 3
      },
      "file_extension": ".py",
      "mimetype": "text/x-python",
      "name": "python",
      "nbconvert_exporter": "python",
      "pygments_lexer": "ipython3",
      "version": "3.7.5"
    },
    "colab": {
      "name": "W0-Numpy_library_bootcamp.ipynb",
      "provenance": [],
      "collapsed_sections": [
        "duzjeUcif80N",
        "zuBioeTlf80X",
        "L4FLs2Y-f80g",
        "GwLfLSTlf80l",
        "2-uucNPFf801",
        "cUHAWcogf81A",
        "glWK1SmQf81L",
        "8Zzy41d-f81X",
        "IUcJXROuf81e",
        "3UynyX_tf82I",
        "RjHuCML-f82Z",
        "Q4CsNBFlf82q",
        "7dO7jOTAf82z",
        "VTFMFZL5f83I",
        "rNyg6F4Rf83U",
        "F1c5rQ_ef83k",
        "MKctH8ahf84O",
        "XQrlx6_sf84s",
        "4fQJHzwsf85n",
        "5mza7Wgaf85v",
        "cxq-GcGNf86X",
        "4IZrRPhaf86z",
        "eEOFfrmhf87E",
        "fLS5wApRf87o",
        "A7-1g-4nf88X",
        "01h2ZBRof88c",
        "l4lf81DJf88y",
        "iXJBJnNuf89E",
        "Bwr6bR0Yf89Z",
        "XmZ4smUcf89q",
        "72_3EDqvf89u"
      ]
    }
  },
  "cells": [
    {
      "cell_type": "markdown",
      "metadata": {
        "id": "625hlYMPf8zF",
        "colab_type": "text"
      },
      "source": [
        "# Week 0 - Topic 9\n",
        "**Authors:** Sai Gayatri Vadali **|** Julián Darío Miranda.\n",
        "# `Numpy`, Scientific and numeric library\n"
      ]
    },
    {
      "cell_type": "markdown",
      "metadata": {
        "id": "xJOXAgfBf8zI",
        "colab_type": "text"
      },
      "source": [
        "`Numerical Python` popularly known as `Numpy` is core library for scientific computing. It provides high performance multi-dimensional array object and tools for working with these objects. \n",
        "\n",
        "In the following sections, we will be working on the `Numpy` library and its uses. We will compare the performance of some `Numpy` operations with their classic `Python` equivalent and discuss the uses of the library. Let us begin!"
      ]
    },
    {
      "cell_type": "markdown",
      "metadata": {
        "id": "NQCUhFQSf8zK",
        "colab_type": "text"
      },
      "source": [
        "## 1. Comparing `Python` List vs `Numpy` array"
      ]
    },
    {
      "cell_type": "markdown",
      "metadata": {
        "id": "NSQtOH1Rf8zL",
        "colab_type": "text"
      },
      "source": [
        "Consider the following snippet adapted from https://webcourses.ucf.edu/courses/. We start importing the `numpy` and `timeit` libraries. `Numpy`, as we have stated, enables scientific computing and high performance tasks executions with multi-dimensional or n-dimensional arrays. The `Timer` module from `timeit` library is used for the purpose of calculating the time that certain scripts take."
      ]
    },
    {
      "cell_type": "code",
      "metadata": {
        "id": "i1i1tS9tf8zN",
        "colab_type": "code",
        "colab": {}
      },
      "source": [
        "import numpy as np\n",
        "from timeit import Timer"
      ],
      "execution_count": 0,
      "outputs": []
    },
    {
      "cell_type": "markdown",
      "metadata": {
        "id": "louBYzo8f8zY",
        "colab_type": "text"
      },
      "source": [
        "With imported libraries, we proceed to create two example arrays with numbers in the range [0, 9999]:"
      ]
    },
    {
      "cell_type": "code",
      "metadata": {
        "id": "241igxSDf8za",
        "colab_type": "code",
        "colab": {}
      },
      "source": [
        "size_of_vec = 10000\n",
        "X_list = range(size_of_vec)\n",
        "Y_list = range(size_of_vec)\n",
        "X = np.arange(size_of_vec)\n",
        "Y = np.arange(size_of_vec)"
      ],
      "execution_count": 0,
      "outputs": []
    },
    {
      "cell_type": "markdown",
      "metadata": {
        "id": "AzHFPnhEf8zh",
        "colab_type": "text"
      },
      "source": [
        "To compare the performance of two scripts, one explicitly developed with `Python` and another with `Numpy`, we defined two user functions:"
      ]
    },
    {
      "cell_type": "code",
      "metadata": {
        "id": "SawZl2J_f8zi",
        "colab_type": "code",
        "colab": {}
      },
      "source": [
        "def pure_python_version(): #Explicitly Python based with lists\n",
        "    Z = []\n",
        "    for i in range(len(X_list)):\n",
        "        Z.append(X_list[i] + Y_list[i])\n",
        "    \n",
        "def numpy_version(): #Explicitly Numpy based with vectorization\n",
        "    Z = X + Y "
      ],
      "execution_count": 0,
      "outputs": []
    },
    {
      "cell_type": "markdown",
      "metadata": {
        "id": "9BgUjtIrf8zq",
        "colab_type": "text"
      },
      "source": [
        "We call the developed functions and measure the time it takes to execute them once:"
      ]
    },
    {
      "cell_type": "code",
      "metadata": {
        "id": "dXd9ssVef8zr",
        "colab_type": "code",
        "outputId": "e48a964a-8a59-4b01-e9b3-bb7299ea858c",
        "colab": {
          "base_uri": "https://localhost:8080/",
          "height": 51
        }
      },
      "source": [
        "timer_obj1 = Timer(\"pure_python_version()\", \n",
        "                   \"from __main__ import pure_python_version\")\n",
        "timer_obj2 = Timer(\"numpy_version()\", \n",
        "                   \"from __main__ import numpy_version\")\n",
        "\n",
        "print(\"Pure python version:\",timer_obj1.timeit(10))\n",
        "print(\"Numpy version:\",timer_obj2.timeit(10))"
      ],
      "execution_count": 11,
      "outputs": [
        {
          "output_type": "stream",
          "text": [
            "Pure python version: 0.07681977800001505\n",
            "Numpy version: 0.0005145959999595107\n"
          ],
          "name": "stdout"
        }
      ]
    },
    {
      "cell_type": "markdown",
      "metadata": {
        "id": "XICWRcHEf8z1",
        "colab_type": "text"
      },
      "source": [
        "As we can see, the vectorized sum approach with `Numpy` is much faster than the purely `Python` based approach."
      ]
    },
    {
      "cell_type": "markdown",
      "metadata": {
        "id": "hCAlmr9ff8z2",
        "colab_type": "text"
      },
      "source": [
        "## 2.Creating `Numpy` array from `Python` list"
      ]
    },
    {
      "cell_type": "markdown",
      "metadata": {
        "id": "sb_vLAaof8z4",
        "colab_type": "text"
      },
      "source": [
        "Let's start by creating a `numpy` array from a predefined list with te values 165, 170, 171, 180, 189, and 178:"
      ]
    },
    {
      "cell_type": "code",
      "metadata": {
        "id": "kkLxDnnVf8z5",
        "colab_type": "code",
        "outputId": "ec8f530e-a1a7-4b8c-cdf0-5791719b19cf",
        "colab": {
          "base_uri": "https://localhost:8080/",
          "height": 51
        }
      },
      "source": [
        "heights = [165, 170, 171, 180, 189, 178]\n",
        "print(type(heights))\n",
        "\n",
        "heights_np = np.array(heights)\n",
        "print(type(heights_np))"
      ],
      "execution_count": 12,
      "outputs": [
        {
          "output_type": "stream",
          "text": [
            "<class 'list'>\n",
            "<class 'numpy.ndarray'>\n"
          ],
          "name": "stdout"
        }
      ]
    },
    {
      "cell_type": "markdown",
      "metadata": {
        "id": "iUwolQ_-f80D",
        "colab_type": "text"
      },
      "source": [
        "The type of object defined at first is a `list`. After conversion with the `.array()` function, the object is converted into a `ndarray` object. This means that we have created an array of multiple dimensions (`n` dimensions) from a `list`. In this case, the `numpy` array is a **one-dimensional array**.\n",
        "\n",
        "Now let's see how to create a **two-dimensional array**:"
      ]
    },
    {
      "cell_type": "code",
      "metadata": {
        "id": "HBRmbMLsf80E",
        "colab_type": "code",
        "outputId": "0d3f2d94-570d-48ad-b400-583e36794a30",
        "colab": {
          "base_uri": "https://localhost:8080/",
          "height": 119
        }
      },
      "source": [
        "weights = np.array([[50, 45, 56, 78],[78, 89, 59, 90],[89, 78, 69, 70],[67, 69, 89, 70],[90,89, 80, 84],[89, 59, 90, 78]])\n",
        "print(weights)"
      ],
      "execution_count": 13,
      "outputs": [
        {
          "output_type": "stream",
          "text": [
            "[[50 45 56 78]\n",
            " [78 89 59 90]\n",
            " [89 78 69 70]\n",
            " [67 69 89 70]\n",
            " [90 89 80 84]\n",
            " [89 59 90 78]]\n"
          ],
          "name": "stdout"
        }
      ]
    },
    {
      "cell_type": "markdown",
      "metadata": {
        "id": "duzjeUcif80N",
        "colab_type": "text"
      },
      "source": [
        "## 3. Exploring some of the key attributes of `ndarray` objects"
      ]
    },
    {
      "cell_type": "markdown",
      "metadata": {
        "id": "JyAN5tiCf80O",
        "colab_type": "text"
      },
      "source": [
        "Multidimensional arrays have the following important attributes:\n",
        "\n",
        "- `ndim`: number of dimensions of the array\n",
        "- `shape`: shape of the array in the format `(number_rows, number_columns)`\n",
        "- `size`: total number of elements\n",
        "- `dtypes`: type of data stored in the array\n",
        "- `strides`: number of bytes that must be moved to store each row and column in memory, in the format `(number_bytes_files, number_bytes_columns)`\n",
        "\n",
        "Let's see an example:"
      ]
    },
    {
      "cell_type": "code",
      "metadata": {
        "id": "TKVMAgWCf80P",
        "colab_type": "code",
        "outputId": "f7688f54-3928-48f0-f7bf-4f8970a96cea",
        "colab": {
          "base_uri": "https://localhost:8080/",
          "height": 102
        }
      },
      "source": [
        "print(\"dimension:\", weights.ndim)\n",
        "print(\"shape:\", weights.shape)\n",
        "print(\"size:\", weights.size)\n",
        "print(\"dtype:\", weights.dtype)\n",
        "print(\"strides:\", weights.strides)"
      ],
      "execution_count": 14,
      "outputs": [
        {
          "output_type": "stream",
          "text": [
            "dimension: 2\n",
            "shape: (6, 4)\n",
            "size: 24\n",
            "dtype: int64\n",
            "strides: (32, 8)\n"
          ],
          "name": "stdout"
        }
      ]
    },
    {
      "cell_type": "markdown",
      "metadata": {
        "id": "y-sKcGcGf80W",
        "colab_type": "text"
      },
      "source": [
        "The exemplified arrangement has:\n",
        "\n",
        "- `ndim` of 2 because it is a two-dimensional array.\n",
        "- `shape` of (6, 4) as it is made up of 6 rows and 4 columns.\n",
        "- `size` of 24 since it has 24 elements in total, 6 elements per column or what is the same, 4 elements per row.\n",
        "- int32 `dtypes` because each element of the array is a 32-bit (4-byte) integer\n",
        "- `strides` of (16, 4) since 16 bytes (4 integers of 4 bytes in the rows) are needed to store each row in memory and 4 bytes (1 integer per column) to store each column in memory."
      ]
    },
    {
      "cell_type": "markdown",
      "metadata": {
        "id": "zuBioeTlf80X",
        "colab_type": "text"
      },
      "source": [
        "## Exercise 1\n",
        "\n",
        "Convert the two-dimensional `ndarray` `weights` into a three-dimensional object without changing its shape."
      ]
    },
    {
      "cell_type": "code",
      "metadata": {
        "id": "7cpZ-m05f80Y",
        "colab_type": "code",
        "colab": {}
      },
      "source": [
        "# Answer"
      ],
      "execution_count": 0,
      "outputs": []
    },
    {
      "cell_type": "markdown",
      "metadata": {
        "id": "L4FLs2Y-f80g",
        "colab_type": "text"
      },
      "source": [
        "## 4. Exploring some of the key functions defined for `numpy` arrays"
      ]
    },
    {
      "cell_type": "markdown",
      "metadata": {
        "id": "4hZBZk5jf80k",
        "colab_type": "text"
      },
      "source": [
        "In this section we are going to explore some of the most important functions of `numpy` arrays:\n",
        "\n",
        "1. `zeros(shape=(n,m))`: Allows to create a zero-array with the shape (`n` rows, `m` columns)\n",
        "2. `arange(start=i, stop=j, step=u)`: creates a one-dimensional array whose first value is `i` inclusive, last value is `j` exclusive, and each value varies  `s` steps from the previous.\n",
        "3. `linspace(start=i, stop=j, num=n)`: creates a one-dimensional array whose first value is `i` inclusive, last value is `j` inclusive and contains `n` values in total. Each value differs from the previous one with the same magnitude that differs from the next.\n",
        "4. `full(shape=(n,m), fill_value=f)`: Allows to create an array with the shape (`n` rows,` m` columns), where all positions have the value `f`.\n",
        "\n",
        "Let's delve into each of them:"
      ]
    },
    {
      "cell_type": "markdown",
      "metadata": {
        "id": "GwLfLSTlf80l",
        "colab_type": "text"
      },
      "source": [
        "### 4.1. np.zeros()"
      ]
    },
    {
      "cell_type": "markdown",
      "metadata": {
        "id": "J-zrQhMSf80q",
        "colab_type": "text"
      },
      "source": [
        "The `zeros(shape=(n,m), dtypes)` function creates a zero-array with the shape (`n` rows, `m` columns) and data types of `dtypes`:"
      ]
    },
    {
      "cell_type": "code",
      "metadata": {
        "id": "9qRWHkudf80t",
        "colab_type": "code",
        "outputId": "7096731b-31be-476f-f382-48ce53ad164c",
        "colab": {
          "base_uri": "https://localhost:8080/",
          "height": 68
        }
      },
      "source": [
        "x = np.zeros(shape=(3,5), dtype =\"int32\")\n",
        "print(x)"
      ],
      "execution_count": 16,
      "outputs": [
        {
          "output_type": "stream",
          "text": [
            "[[0 0 0 0 0]\n",
            " [0 0 0 0 0]\n",
            " [0 0 0 0 0]]\n"
          ],
          "name": "stdout"
        }
      ]
    },
    {
      "cell_type": "markdown",
      "metadata": {
        "id": "HPwZ4v9wf800",
        "colab_type": "text"
      },
      "source": [
        "As you can notice, we have created a two-dimensional array of zeros of three rows and five columns where each element is a 32-bit integer."
      ]
    },
    {
      "cell_type": "markdown",
      "metadata": {
        "id": "2-uucNPFf801",
        "colab_type": "text"
      },
      "source": [
        "### 4.2. np.arange()"
      ]
    },
    {
      "cell_type": "markdown",
      "metadata": {
        "id": "QuRU-nFrf802",
        "colab_type": "text"
      },
      "source": [
        "The `arange(start=i, stop=j, step=u)` function creates a one-dimensional array whose first value is `i` inclusive, last value is `j` exclusive, and each value varies  `s` steps from the previous:"
      ]
    },
    {
      "cell_type": "code",
      "metadata": {
        "id": "l61EVL0mf803",
        "colab_type": "code",
        "outputId": "cc3801e3-0104-4c04-d29a-f9de149fe46a",
        "colab": {
          "base_uri": "https://localhost:8080/",
          "height": 34
        }
      },
      "source": [
        "x = np.arange(start=100, stop=1000, step=100, dtype=\"int32\")\n",
        "print(x)"
      ],
      "execution_count": 17,
      "outputs": [
        {
          "output_type": "stream",
          "text": [
            "[100 200 300 400 500 600 700 800 900]\n"
          ],
          "name": "stdout"
        }
      ]
    },
    {
      "cell_type": "markdown",
      "metadata": {
        "id": "HDJFZl9df80-",
        "colab_type": "text"
      },
      "source": [
        "This function has allowed us to create a one-dimensional array that starts at 100, ends at 1000 (exclusive) and progresses from 100 to 100, with 32-bit integer values."
      ]
    },
    {
      "cell_type": "markdown",
      "metadata": {
        "id": "cUHAWcogf81A",
        "colab_type": "text"
      },
      "source": [
        "### 4.3. np.linspace()"
      ]
    },
    {
      "cell_type": "markdown",
      "metadata": {
        "id": "k_SPhGvwf81C",
        "colab_type": "text"
      },
      "source": [
        "The `linspace(start=i, stop=j, num=n)` function creates a one-dimensional array whose first value is `i` inclusive, last value is `j` inclusive and contains `n` values in total. Each value differs from the previous one with the same magnitude that differs from the next. Consider the following example:"
      ]
    },
    {
      "cell_type": "code",
      "metadata": {
        "id": "JrRo0FEBf81D",
        "colab_type": "code",
        "outputId": "d747a087-d0ac-4a43-ce9b-476ce4394b13",
        "colab": {
          "base_uri": "https://localhost:8080/",
          "height": 102
        }
      },
      "source": [
        "x_lin = np.linspace(start=10, stop=50, num=30)\n",
        "print(x_lin)"
      ],
      "execution_count": 18,
      "outputs": [
        {
          "output_type": "stream",
          "text": [
            "[10.         11.37931034 12.75862069 14.13793103 15.51724138 16.89655172\n",
            " 18.27586207 19.65517241 21.03448276 22.4137931  23.79310345 25.17241379\n",
            " 26.55172414 27.93103448 29.31034483 30.68965517 32.06896552 33.44827586\n",
            " 34.82758621 36.20689655 37.5862069  38.96551724 40.34482759 41.72413793\n",
            " 43.10344828 44.48275862 45.86206897 47.24137931 48.62068966 50.        ]\n"
          ],
          "name": "stdout"
        }
      ]
    },
    {
      "cell_type": "markdown",
      "metadata": {
        "id": "IsS-p8Yef81I",
        "colab_type": "text"
      },
      "source": [
        "We have created a one-dimensional array that varies linearly from 10 to 50 inclusive, for a total of 30 floating numbers."
      ]
    },
    {
      "cell_type": "markdown",
      "metadata": {
        "id": "glWK1SmQf81L",
        "colab_type": "text"
      },
      "source": [
        "### 4.4. np.full()"
      ]
    },
    {
      "cell_type": "markdown",
      "metadata": {
        "id": "PTgQ9ldVf81M",
        "colab_type": "text"
      },
      "source": [
        "The `full(shape=(n,m), fill_value=f)` function allows to create an array with the shape (`n` rows,` m` columns), where all positions have the value `f`."
      ]
    },
    {
      "cell_type": "code",
      "metadata": {
        "id": "Kf31_4HUf81O",
        "colab_type": "code",
        "outputId": "38cf7735-61d2-4d27-ccc6-ee54800ed66f",
        "colab": {
          "base_uri": "https://localhost:8080/",
          "height": 102
        }
      },
      "source": [
        "x_ful = np.full(shape=(5,6), fill_value=3)\n",
        "print(x_ful)"
      ],
      "execution_count": 19,
      "outputs": [
        {
          "output_type": "stream",
          "text": [
            "[[3 3 3 3 3 3]\n",
            " [3 3 3 3 3 3]\n",
            " [3 3 3 3 3 3]\n",
            " [3 3 3 3 3 3]\n",
            " [3 3 3 3 3 3]]\n"
          ],
          "name": "stdout"
        }
      ]
    },
    {
      "cell_type": "markdown",
      "metadata": {
        "id": "pHL6OuLlf81X",
        "colab_type": "text"
      },
      "source": [
        "We see that a two-dimensional array of 5 rows and 6 columns has been created, all with a value of 3 at their positions."
      ]
    },
    {
      "cell_type": "markdown",
      "metadata": {
        "id": "8Zzy41d-f81X",
        "colab_type": "text"
      },
      "source": [
        "## 5. Exploring additional attributes and functions"
      ]
    },
    {
      "cell_type": "markdown",
      "metadata": {
        "id": "jhBU9CN8f81a",
        "colab_type": "text"
      },
      "source": [
        "Let's review three additional functions: `.reshape()`, `.flatten()` and `.ravel()`."
      ]
    },
    {
      "cell_type": "markdown",
      "metadata": {
        "id": "IUcJXROuf81e",
        "colab_type": "text"
      },
      "source": [
        "### 5.1. Reshaping the array"
      ]
    },
    {
      "cell_type": "markdown",
      "metadata": {
        "id": "p-hZXH5mf81f",
        "colab_type": "text"
      },
      "source": [
        "Let's reshape the `weights` numpy array. First take a look to the contant and the shape of `weights`:"
      ]
    },
    {
      "cell_type": "code",
      "metadata": {
        "id": "Uvye9oIxf81g",
        "colab_type": "code",
        "outputId": "f8328b4c-fdf2-4e47-8bc6-3fc7b0edd093",
        "colab": {
          "base_uri": "https://localhost:8080/",
          "height": 119
        }
      },
      "source": [
        "weights"
      ],
      "execution_count": 20,
      "outputs": [
        {
          "output_type": "execute_result",
          "data": {
            "text/plain": [
              "array([[50, 45, 56, 78],\n",
              "       [78, 89, 59, 90],\n",
              "       [89, 78, 69, 70],\n",
              "       [67, 69, 89, 70],\n",
              "       [90, 89, 80, 84],\n",
              "       [89, 59, 90, 78]])"
            ]
          },
          "metadata": {
            "tags": []
          },
          "execution_count": 20
        }
      ]
    },
    {
      "cell_type": "code",
      "metadata": {
        "id": "y3uZdhkAf81k",
        "colab_type": "code",
        "outputId": "cad1692b-c5a2-47f9-9574-550b1a8fcf43",
        "colab": {
          "base_uri": "https://localhost:8080/",
          "height": 34
        }
      },
      "source": [
        "weights.shape"
      ],
      "execution_count": 21,
      "outputs": [
        {
          "output_type": "execute_result",
          "data": {
            "text/plain": [
              "(6, 4)"
            ]
          },
          "metadata": {
            "tags": []
          },
          "execution_count": 21
        }
      ]
    },
    {
      "cell_type": "markdown",
      "metadata": {
        "id": "AoGBOHFff81n",
        "colab_type": "text"
      },
      "source": [
        "The reshaping procedure is done using the `.reshape((n1,m1))` function, which receives as input parameters a tuple of two values `n1` and `m1` that is, the new shape of the array to be created from the original array:"
      ]
    },
    {
      "cell_type": "code",
      "metadata": {
        "id": "XC76Z_pPf81o",
        "colab_type": "code",
        "outputId": "e5029c4b-dfd5-47e7-c6f7-0e52b2dc7005",
        "colab": {
          "base_uri": "https://localhost:8080/",
          "height": 85
        }
      },
      "source": [
        "weights = weights.reshape((4,6))\n",
        "weights"
      ],
      "execution_count": 22,
      "outputs": [
        {
          "output_type": "execute_result",
          "data": {
            "text/plain": [
              "array([[50, 45, 56, 78, 78, 89],\n",
              "       [59, 90, 89, 78, 69, 70],\n",
              "       [67, 69, 89, 70, 90, 89],\n",
              "       [80, 84, 89, 59, 90, 78]])"
            ]
          },
          "metadata": {
            "tags": []
          },
          "execution_count": 22
        }
      ]
    },
    {
      "cell_type": "code",
      "metadata": {
        "id": "TBIXnjdRf81r",
        "colab_type": "code",
        "outputId": "7f722742-3f69-42f1-adf9-337477ad0082",
        "colab": {
          "base_uri": "https://localhost:8080/",
          "height": 34
        }
      },
      "source": [
        "weights.shape"
      ],
      "execution_count": 23,
      "outputs": [
        {
          "output_type": "execute_result",
          "data": {
            "text/plain": [
              "(4, 6)"
            ]
          },
          "metadata": {
            "tags": []
          },
          "execution_count": 23
        }
      ]
    },
    {
      "cell_type": "markdown",
      "metadata": {
        "id": "OBHeOcP2f81x",
        "colab_type": "text"
      },
      "source": [
        "Can you see the difference? We have changed the shape of the `weights` array, from 6 rows and 4 columns, to 4 rows and 6 columns. The way the values are distributed in the new array is from left-to-right then top-to-bottom. \n",
        "\n",
        "Let's add a new dimension through reshaping the current `weights` array:"
      ]
    },
    {
      "cell_type": "code",
      "metadata": {
        "id": "RqjgG-E-f81y",
        "colab_type": "code",
        "outputId": "8f65553c-057e-4c26-d44b-13937bf7b4dd",
        "colab": {
          "base_uri": "https://localhost:8080/",
          "height": 238
        }
      },
      "source": [
        "weights = weights.reshape((2,6,2))\n",
        "weights"
      ],
      "execution_count": 24,
      "outputs": [
        {
          "output_type": "execute_result",
          "data": {
            "text/plain": [
              "array([[[50, 45],\n",
              "        [56, 78],\n",
              "        [78, 89],\n",
              "        [59, 90],\n",
              "        [89, 78],\n",
              "        [69, 70]],\n",
              "\n",
              "       [[67, 69],\n",
              "        [89, 70],\n",
              "        [90, 89],\n",
              "        [80, 84],\n",
              "        [89, 59],\n",
              "        [90, 78]]])"
            ]
          },
          "metadata": {
            "tags": []
          },
          "execution_count": 24
        }
      ]
    },
    {
      "cell_type": "code",
      "metadata": {
        "id": "gNbMV0uGf811",
        "colab_type": "code",
        "outputId": "84e3dd70-365f-4b06-d01c-fe42e18aaf5c",
        "colab": {
          "base_uri": "https://localhost:8080/",
          "height": 34
        }
      },
      "source": [
        "weights.shape"
      ],
      "execution_count": 25,
      "outputs": [
        {
          "output_type": "execute_result",
          "data": {
            "text/plain": [
              "(2, 6, 2)"
            ]
          },
          "metadata": {
            "tags": []
          },
          "execution_count": 25
        }
      ]
    },
    {
      "cell_type": "markdown",
      "metadata": {
        "id": "lijIZHcnf82G",
        "colab_type": "text"
      },
      "source": [
        "Now, the array is three-dimensionally estructured. Two bi-dimensional (2D) arrays conform the new array, and each of the 2D arrays have two rows and six columns."
      ]
    },
    {
      "cell_type": "markdown",
      "metadata": {
        "id": "3UynyX_tf82I",
        "colab_type": "text"
      },
      "source": [
        "### 5.2. Flattening the array"
      ]
    },
    {
      "cell_type": "markdown",
      "metadata": {
        "id": "IJCbQ0_6f82K",
        "colab_type": "text"
      },
      "source": [
        "The `.flatten()` function returns a copy of an array collapsed into one dimension, no matter how many dimensions the array has. Consider the `weights` two-dimensional array:"
      ]
    },
    {
      "cell_type": "code",
      "metadata": {
        "id": "G5xkP1TQf82L",
        "colab_type": "code",
        "outputId": "f8968f34-67a3-4934-ce75-9bc504049eed",
        "colab": {
          "base_uri": "https://localhost:8080/",
          "height": 238
        }
      },
      "source": [
        "weights"
      ],
      "execution_count": 26,
      "outputs": [
        {
          "output_type": "execute_result",
          "data": {
            "text/plain": [
              "array([[[50, 45],\n",
              "        [56, 78],\n",
              "        [78, 89],\n",
              "        [59, 90],\n",
              "        [89, 78],\n",
              "        [69, 70]],\n",
              "\n",
              "       [[67, 69],\n",
              "        [89, 70],\n",
              "        [90, 89],\n",
              "        [80, 84],\n",
              "        [89, 59],\n",
              "        [90, 78]]])"
            ]
          },
          "metadata": {
            "tags": []
          },
          "execution_count": 26
        }
      ]
    },
    {
      "cell_type": "markdown",
      "metadata": {
        "id": "Z8EB6PCZf82S",
        "colab_type": "text"
      },
      "source": [
        "If we flatten the array, we are re-organizing their elements in a one-dimensional array, as follows:"
      ]
    },
    {
      "cell_type": "code",
      "metadata": {
        "id": "-n2o9S9tf82T",
        "colab_type": "code",
        "outputId": "eb1d4619-0c66-49e6-aa89-0bdb768d2602",
        "colab": {
          "base_uri": "https://localhost:8080/",
          "height": 51
        }
      },
      "source": [
        "weights_flattened = weights.flatten()\n",
        "weights_flattened"
      ],
      "execution_count": 27,
      "outputs": [
        {
          "output_type": "execute_result",
          "data": {
            "text/plain": [
              "array([50, 45, 56, 78, 78, 89, 59, 90, 89, 78, 69, 70, 67, 69, 89, 70, 90,\n",
              "       89, 80, 84, 89, 59, 90, 78])"
            ]
          },
          "metadata": {
            "tags": []
          },
          "execution_count": 27
        }
      ]
    },
    {
      "cell_type": "markdown",
      "metadata": {
        "id": "RjHuCML-f82Z",
        "colab_type": "text"
      },
      "source": [
        "### 5.3. Raveling the array"
      ]
    },
    {
      "cell_type": "markdown",
      "metadata": {
        "id": "7VmmZT4Tf82b",
        "colab_type": "text"
      },
      "source": [
        "The `.ravel()` function returns a flattened view of an array collapsed into one dimension. It works identically to the `.flatten()` function, although a copy in memory is not achieve, just a flatten view of the final result. \n",
        "\n",
        "Consider the `weights` two-dimensional array:"
      ]
    },
    {
      "cell_type": "code",
      "metadata": {
        "id": "KKKMIGbtf82d",
        "colab_type": "code",
        "colab": {}
      },
      "source": [
        "weights_raveld = weights.ravel()"
      ],
      "execution_count": 0,
      "outputs": []
    },
    {
      "cell_type": "code",
      "metadata": {
        "id": "BQSBXxMrf82j",
        "colab_type": "code",
        "outputId": "62102325-3d95-4305-bf44-03ef3e0ab7c3",
        "colab": {
          "base_uri": "https://localhost:8080/",
          "height": 51
        }
      },
      "source": [
        "weights_raveld"
      ],
      "execution_count": 29,
      "outputs": [
        {
          "output_type": "execute_result",
          "data": {
            "text/plain": [
              "array([50, 45, 56, 78, 78, 89, 59, 90, 89, 78, 69, 70, 67, 69, 89, 70, 90,\n",
              "       89, 80, 84, 89, 59, 90, 78])"
            ]
          },
          "metadata": {
            "tags": []
          },
          "execution_count": 29
        }
      ]
    },
    {
      "cell_type": "markdown",
      "metadata": {
        "id": "BhMmZu2gf82p",
        "colab_type": "text"
      },
      "source": [
        "Some key differences between flattening and raveling the array are:\n",
        "- `ravel()` function simply returns a flattened view of Numpy array. If you try to modify this view, you will end up with that same changes in the original array. `flatten()` function returns a flattened copy in memory of the array, so that new changes can be made without affecting the original array.\n",
        "- `ravel()` does not occupy memory, being faster than `flatten()`, which occupies memory when copying the flattened objects."
      ]
    },
    {
      "cell_type": "markdown",
      "metadata": {
        "id": "Q4CsNBFlf82q",
        "colab_type": "text"
      },
      "source": [
        "## Exercise 2\n",
        "\n",
        "Create an array of 51 elements starting at 100 and ending at 500, using the two functions `np.linspace()` and `np.arange()`. Arrays must have the same content, with the names `array_lin` and `array_ara`, respectively. Verify that the arrays have the same content with the `np.array_equal()` function."
      ]
    },
    {
      "cell_type": "code",
      "metadata": {
        "id": "LSn5dk22f82r",
        "colab_type": "code",
        "colab": {}
      },
      "source": [
        "# Answer"
      ],
      "execution_count": 0,
      "outputs": []
    },
    {
      "cell_type": "markdown",
      "metadata": {
        "id": "7dO7jOTAf82z",
        "colab_type": "text"
      },
      "source": [
        "## 6.Array indexing\n"
      ]
    },
    {
      "cell_type": "markdown",
      "metadata": {
        "id": "EfJeld7nf820",
        "colab_type": "text"
      },
      "source": [
        "To access the content of an array we can use indexing through brackets `[ ]`. When using the brackets, we can access the elements on the list by: \n",
        "1. Using a **positive single index** starting from 0\n",
        "2. Using a **negative single index** starting from -1\n",
        "3. Using **positive index intervals** using the `start:end:step` notation to specify starting and ending values as well as the step.\n",
        "4. Using **negative index intervals** using the `start:end:step` notation to specify negative index starting and ending values as well as the step.\n",
        "\n",
        "Occasionally, we can:\n",
        "- Get ride of the the `step` value as `sart:end`, so that by default we slice the data with a `step` of 1. \n",
        "- Get ride of the `start` value as `:fin:step`, and hence our `start` index will be 0, by default.\n",
        "- Omit the `end` value as `start::step`, specifying the final position as the `end` index by default. \n",
        "- Specify the range as `::step`, and hence the `start` position will be 0 and the end position will be the last one of the array.\n",
        "\n",
        "Let's see how indexing works using the `weights` and `heights_np` arrays:"
      ]
    },
    {
      "cell_type": "code",
      "metadata": {
        "id": "R6RqaHeQf820",
        "colab_type": "code",
        "outputId": "6874e261-f602-4529-a3c8-85bd0d474ac2",
        "colab": {
          "base_uri": "https://localhost:8080/",
          "height": 238
        }
      },
      "source": [
        "weights"
      ],
      "execution_count": 31,
      "outputs": [
        {
          "output_type": "execute_result",
          "data": {
            "text/plain": [
              "array([[[50, 45],\n",
              "        [56, 78],\n",
              "        [78, 89],\n",
              "        [59, 90],\n",
              "        [89, 78],\n",
              "        [69, 70]],\n",
              "\n",
              "       [[67, 69],\n",
              "        [89, 70],\n",
              "        [90, 89],\n",
              "        [80, 84],\n",
              "        [89, 59],\n",
              "        [90, 78]]])"
            ]
          },
          "metadata": {
            "tags": []
          },
          "execution_count": 31
        }
      ]
    },
    {
      "cell_type": "code",
      "metadata": {
        "id": "6it2pxt7f828",
        "colab_type": "code",
        "outputId": "892de777-8288-4bf5-af72-2528ef1585eb",
        "colab": {
          "base_uri": "https://localhost:8080/",
          "height": 119
        }
      },
      "source": [
        "weights_or = weights.reshape((6,4))\n",
        "weights_or"
      ],
      "execution_count": 32,
      "outputs": [
        {
          "output_type": "execute_result",
          "data": {
            "text/plain": [
              "array([[50, 45, 56, 78],\n",
              "       [78, 89, 59, 90],\n",
              "       [89, 78, 69, 70],\n",
              "       [67, 69, 89, 70],\n",
              "       [90, 89, 80, 84],\n",
              "       [89, 59, 90, 78]])"
            ]
          },
          "metadata": {
            "tags": []
          },
          "execution_count": 32
        }
      ]
    },
    {
      "cell_type": "code",
      "metadata": {
        "id": "m7UcANUTf83D",
        "colab_type": "code",
        "outputId": "cff9a1db-3a09-4144-926b-682a74b82418",
        "colab": {
          "base_uri": "https://localhost:8080/",
          "height": 34
        }
      },
      "source": [
        "heights_np"
      ],
      "execution_count": 33,
      "outputs": [
        {
          "output_type": "execute_result",
          "data": {
            "text/plain": [
              "array([165, 170, 171, 180, 189, 178])"
            ]
          },
          "metadata": {
            "tags": []
          },
          "execution_count": 33
        }
      ]
    },
    {
      "cell_type": "markdown",
      "metadata": {
        "id": "VTFMFZL5f83I",
        "colab_type": "text"
      },
      "source": [
        "### 6.1 Using a positive single index"
      ]
    },
    {
      "cell_type": "markdown",
      "metadata": {
        "id": "_q3t7JZIf83I",
        "colab_type": "text"
      },
      "source": [
        "When using positive indexing, it is important to consider the first position of the array to be 0:"
      ]
    },
    {
      "cell_type": "code",
      "metadata": {
        "scrolled": true,
        "id": "ZZRGyvCHf83J",
        "colab_type": "code",
        "outputId": "cac95937-c407-425e-87c7-1b287fb39ce7",
        "colab": {
          "base_uri": "https://localhost:8080/",
          "height": 51
        }
      },
      "source": [
        "print(\"Accessing single element in 1D array:\", heights_np[2])\n",
        "print(\"Accessing single element in 2D array:\", weights_or[1][3])"
      ],
      "execution_count": 34,
      "outputs": [
        {
          "output_type": "stream",
          "text": [
            "Accessing single element in 1D array: 171\n",
            "Accessing single element in 2D array: 90\n"
          ],
          "name": "stdout"
        }
      ]
    },
    {
      "cell_type": "code",
      "metadata": {
        "scrolled": false,
        "id": "XKXMVpzFf83N",
        "colab_type": "code",
        "outputId": "a7364cb9-cba9-48ba-8111-1d38e6638024",
        "colab": {
          "base_uri": "https://localhost:8080/",
          "height": 163
        }
      },
      "source": [
        "heights_np[7]"
      ],
      "execution_count": 35,
      "outputs": [
        {
          "output_type": "error",
          "ename": "IndexError",
          "evalue": "ignored",
          "traceback": [
            "\u001b[0;31m---------------------------------------------------------------------------\u001b[0m",
            "\u001b[0;31mIndexError\u001b[0m                                Traceback (most recent call last)",
            "\u001b[0;32m<ipython-input-35-c1b0cf84b168>\u001b[0m in \u001b[0;36m<module>\u001b[0;34m()\u001b[0m\n\u001b[0;32m----> 1\u001b[0;31m \u001b[0mheights_np\u001b[0m\u001b[0;34m[\u001b[0m\u001b[0;36m7\u001b[0m\u001b[0;34m]\u001b[0m\u001b[0;34m\u001b[0m\u001b[0;34m\u001b[0m\u001b[0m\n\u001b[0m",
            "\u001b[0;31mIndexError\u001b[0m: index 7 is out of bounds for axis 0 with size 6"
          ]
        }
      ]
    },
    {
      "cell_type": "markdown",
      "metadata": {
        "id": "M_49bH1Ff83T",
        "colab_type": "text"
      },
      "source": [
        "**Why are we getting this error message?**\n",
        "\n",
        "Well guessed! It is because position 7 does not exist in the `heights_np` array, it is totally out of the bounds defined by the array's shape and size. The array has 6 elements, the last element being in position 5."
      ]
    },
    {
      "cell_type": "markdown",
      "metadata": {
        "id": "rNyg6F4Rf83U",
        "colab_type": "text"
      },
      "source": [
        "### 6.2 Using a negative single index starting"
      ]
    },
    {
      "cell_type": "markdown",
      "metadata": {
        "id": "Lko0mS4tf83V",
        "colab_type": "text"
      },
      "source": [
        "When using negative indexing, it is important to consider the last position of the array to be -1:"
      ]
    },
    {
      "cell_type": "code",
      "metadata": {
        "scrolled": true,
        "id": "_N3rC53qf83V",
        "colab_type": "code",
        "outputId": "69e61f52-8066-46cb-d44e-698b0a00dc5b",
        "colab": {
          "base_uri": "https://localhost:8080/",
          "height": 51
        }
      },
      "source": [
        "print(\"Accessing single element in 1D array:\", heights_np[-4])\n",
        "print(\"Accessing single element in 2D array:\", weights_or[-5][-1])"
      ],
      "execution_count": 37,
      "outputs": [
        {
          "output_type": "stream",
          "text": [
            "Accessing single element in 1D array: 171\n",
            "Accessing single element in 2D array: 90\n"
          ],
          "name": "stdout"
        }
      ]
    },
    {
      "cell_type": "code",
      "metadata": {
        "scrolled": true,
        "id": "azkGg-arf83d",
        "colab_type": "code",
        "outputId": "b41bac4e-c63d-4f86-ea83-5aabeb08c136",
        "colab": {
          "base_uri": "https://localhost:8080/",
          "height": 163
        }
      },
      "source": [
        "heights_np[-8]"
      ],
      "execution_count": 38,
      "outputs": [
        {
          "output_type": "error",
          "ename": "IndexError",
          "evalue": "ignored",
          "traceback": [
            "\u001b[0;31m---------------------------------------------------------------------------\u001b[0m",
            "\u001b[0;31mIndexError\u001b[0m                                Traceback (most recent call last)",
            "\u001b[0;32m<ipython-input-38-7c81311360da>\u001b[0m in \u001b[0;36m<module>\u001b[0;34m()\u001b[0m\n\u001b[0;32m----> 1\u001b[0;31m \u001b[0mheights_np\u001b[0m\u001b[0;34m[\u001b[0m\u001b[0;34m-\u001b[0m\u001b[0;36m8\u001b[0m\u001b[0;34m]\u001b[0m\u001b[0;34m\u001b[0m\u001b[0;34m\u001b[0m\u001b[0m\n\u001b[0m",
            "\u001b[0;31mIndexError\u001b[0m: index -8 is out of bounds for axis 0 with size 6"
          ]
        }
      ]
    },
    {
      "cell_type": "markdown",
      "metadata": {
        "id": "LD9Pb-nIf83j",
        "colab_type": "text"
      },
      "source": [
        "**Why are we getting this error message again?**\n",
        "\n",
        "Well guessed! It is because position -8 does not exist in the `heights_np` array, it is totally out of the bounds defined by the array's shape and size. The array has 6 elements, the last element being in position -1 and the first element being in position -6."
      ]
    },
    {
      "cell_type": "markdown",
      "metadata": {
        "id": "F1c5rQ_ef83k",
        "colab_type": "text"
      },
      "source": [
        "### 6.3 Using positive index intervals"
      ]
    },
    {
      "cell_type": "markdown",
      "metadata": {
        "id": "kXaJXj4zf83m",
        "colab_type": "text"
      },
      "source": [
        "When using positive interval indexing `start:end:step`, the starting value is inclusive and the ending value is exlusive. Here are somoe examples:"
      ]
    },
    {
      "cell_type": "code",
      "metadata": {
        "id": "hCsVNSyyf83n",
        "colab_type": "code",
        "outputId": "33a1a771-4c5f-4751-ae89-713c6d0a8d4a",
        "colab": {
          "base_uri": "https://localhost:8080/",
          "height": 34
        }
      },
      "source": [
        "heights_np[:2] # The default start value is 0"
      ],
      "execution_count": 39,
      "outputs": [
        {
          "output_type": "execute_result",
          "data": {
            "text/plain": [
              "array([165, 170])"
            ]
          },
          "metadata": {
            "tags": []
          },
          "execution_count": 39
        }
      ]
    },
    {
      "cell_type": "code",
      "metadata": {
        "id": "YFgC96dqf83z",
        "colab_type": "code",
        "outputId": "231a67c7-02d0-4441-df2b-f8299ce1faf8",
        "colab": {
          "base_uri": "https://localhost:8080/",
          "height": 34
        }
      },
      "source": [
        "heights_np[2:] # The default end value is the last value of the array"
      ],
      "execution_count": 40,
      "outputs": [
        {
          "output_type": "execute_result",
          "data": {
            "text/plain": [
              "array([171, 180, 189, 178])"
            ]
          },
          "metadata": {
            "tags": []
          },
          "execution_count": 40
        }
      ]
    },
    {
      "cell_type": "code",
      "metadata": {
        "id": "EGOLN-51f836",
        "colab_type": "code",
        "outputId": "0d1783a5-48af-4c6e-b385-be82b6321e1d",
        "colab": {
          "base_uri": "https://localhost:8080/",
          "height": 34
        }
      },
      "source": [
        "heights_np[2:3] # The ending value is exlusive"
      ],
      "execution_count": 41,
      "outputs": [
        {
          "output_type": "execute_result",
          "data": {
            "text/plain": [
              "array([171])"
            ]
          },
          "metadata": {
            "tags": []
          },
          "execution_count": 41
        }
      ]
    },
    {
      "cell_type": "code",
      "metadata": {
        "id": "0ZwwWaqaf84A",
        "colab_type": "code",
        "outputId": "173de7ab-39ef-4e5a-efd4-b930fb6f05cb",
        "colab": {
          "base_uri": "https://localhost:8080/",
          "height": 136
        }
      },
      "source": [
        "weights[:2, ::2]"
      ],
      "execution_count": 42,
      "outputs": [
        {
          "output_type": "execute_result",
          "data": {
            "text/plain": [
              "array([[[50, 45],\n",
              "        [78, 89],\n",
              "        [89, 78]],\n",
              "\n",
              "       [[67, 69],\n",
              "        [90, 89],\n",
              "        [89, 59]]])"
            ]
          },
          "metadata": {
            "tags": []
          },
          "execution_count": 42
        }
      ]
    },
    {
      "cell_type": "code",
      "metadata": {
        "id": "fR-sTpfxf84F",
        "colab_type": "code",
        "outputId": "c0cab50d-f8c1-47ea-bb4e-5c4de5f8a4e5",
        "colab": {
          "base_uri": "https://localhost:8080/",
          "height": 136
        }
      },
      "source": [
        "weights[:3, 3::]"
      ],
      "execution_count": 43,
      "outputs": [
        {
          "output_type": "execute_result",
          "data": {
            "text/plain": [
              "array([[[59, 90],\n",
              "        [89, 78],\n",
              "        [69, 70]],\n",
              "\n",
              "       [[80, 84],\n",
              "        [89, 59],\n",
              "        [90, 78]]])"
            ]
          },
          "metadata": {
            "tags": []
          },
          "execution_count": 43
        }
      ]
    },
    {
      "cell_type": "code",
      "metadata": {
        "id": "y0ln4GDSf84L",
        "colab_type": "code",
        "outputId": "9e1c1a8e-e2ce-4cd7-d44d-95d4c07481a6",
        "colab": {
          "base_uri": "https://localhost:8080/",
          "height": 136
        }
      },
      "source": [
        "weights[:3, :3, :1]"
      ],
      "execution_count": 44,
      "outputs": [
        {
          "output_type": "execute_result",
          "data": {
            "text/plain": [
              "array([[[50],\n",
              "        [56],\n",
              "        [78]],\n",
              "\n",
              "       [[67],\n",
              "        [89],\n",
              "        [90]]])"
            ]
          },
          "metadata": {
            "tags": []
          },
          "execution_count": 44
        }
      ]
    },
    {
      "cell_type": "markdown",
      "metadata": {
        "id": "MKctH8ahf84O",
        "colab_type": "text"
      },
      "source": [
        "### 6.4 Using negative index intervals"
      ]
    },
    {
      "cell_type": "markdown",
      "metadata": {
        "id": "0YDVe-Xbf84P",
        "colab_type": "text"
      },
      "source": [
        "When using positive interval indexing `start:end:step`, the negative starting value is inclusive and the negative ending value is exlusive. Here are somoe examples:"
      ]
    },
    {
      "cell_type": "code",
      "metadata": {
        "id": "oq8ENq2qf84Q",
        "colab_type": "code",
        "outputId": "7fcf34e8-2162-41a0-d31c-f20495e364a7",
        "colab": {
          "base_uri": "https://localhost:8080/",
          "height": 34
        }
      },
      "source": [
        "heights_np[:-4] # Equivalent to heights_np[:2]"
      ],
      "execution_count": 45,
      "outputs": [
        {
          "output_type": "execute_result",
          "data": {
            "text/plain": [
              "array([165, 170])"
            ]
          },
          "metadata": {
            "tags": []
          },
          "execution_count": 45
        }
      ]
    },
    {
      "cell_type": "code",
      "metadata": {
        "id": "O-8PkOlnf84U",
        "colab_type": "code",
        "outputId": "8a7de291-743f-42cd-e33e-c6aa50e62f12",
        "colab": {
          "base_uri": "https://localhost:8080/",
          "height": 34
        }
      },
      "source": [
        "heights_np[-4:] # Equivalent to heights_np[2:]"
      ],
      "execution_count": 46,
      "outputs": [
        {
          "output_type": "execute_result",
          "data": {
            "text/plain": [
              "array([171, 180, 189, 178])"
            ]
          },
          "metadata": {
            "tags": []
          },
          "execution_count": 46
        }
      ]
    },
    {
      "cell_type": "code",
      "metadata": {
        "id": "xZlV59E7f84a",
        "colab_type": "code",
        "outputId": "29b36221-c27a-4121-e5e5-a8ee68e726fb",
        "colab": {
          "base_uri": "https://localhost:8080/",
          "height": 34
        }
      },
      "source": [
        "heights_np[-4:-3] # Equivalent to heights_np[2:3]"
      ],
      "execution_count": 47,
      "outputs": [
        {
          "output_type": "execute_result",
          "data": {
            "text/plain": [
              "array([171])"
            ]
          },
          "metadata": {
            "tags": []
          },
          "execution_count": 47
        }
      ]
    },
    {
      "cell_type": "code",
      "metadata": {
        "id": "nTNK-4kCf84f",
        "colab_type": "code",
        "outputId": "32c39f67-c8d4-4591-cdf1-e1a530f922e0",
        "colab": {
          "base_uri": "https://localhost:8080/",
          "height": 136
        }
      },
      "source": [
        "weights[:2, -3::] # Equivalent to weights[:3, 3::]"
      ],
      "execution_count": 48,
      "outputs": [
        {
          "output_type": "execute_result",
          "data": {
            "text/plain": [
              "array([[[59, 90],\n",
              "        [89, 78],\n",
              "        [69, 70]],\n",
              "\n",
              "       [[80, 84],\n",
              "        [89, 59],\n",
              "        [90, 78]]])"
            ]
          },
          "metadata": {
            "tags": []
          },
          "execution_count": 48
        }
      ]
    },
    {
      "cell_type": "code",
      "metadata": {
        "scrolled": true,
        "id": "B5BrubFYf84n",
        "colab_type": "code",
        "outputId": "5b699eb9-e901-4caa-b84e-ab76ab4fbf48",
        "colab": {
          "base_uri": "https://localhost:8080/",
          "height": 136
        }
      },
      "source": [
        "weights[:3, :-3, :-1] # Equivalent to weights[:3, :3, :1]"
      ],
      "execution_count": 49,
      "outputs": [
        {
          "output_type": "execute_result",
          "data": {
            "text/plain": [
              "array([[[50],\n",
              "        [56],\n",
              "        [78]],\n",
              "\n",
              "       [[67],\n",
              "        [89],\n",
              "        [90]]])"
            ]
          },
          "metadata": {
            "tags": []
          },
          "execution_count": 49
        }
      ]
    },
    {
      "cell_type": "markdown",
      "metadata": {
        "id": "XQrlx6_sf84s",
        "colab_type": "text"
      },
      "source": [
        "## Exercise 3\n",
        "\n",
        "Consider the `weights` array:\n",
        "\n",
        "1. Select all the values that are in the even positions in the rows and in the odd positions in the columns. Create a new array named `weights_custom1` with these values.\n",
        "2. Express the `weights_custom1` array flattened with an in-memory copy. Call the new array `weights_custom2`.\n",
        "3. Select items in positions 2 to 4 inclusive with negative indexing. Name the output array as `weights_custom3`."
      ]
    },
    {
      "cell_type": "code",
      "metadata": {
        "id": "LDS6TnWAf84t",
        "colab_type": "code",
        "colab": {}
      },
      "source": [
        "# Answer #1"
      ],
      "execution_count": 0,
      "outputs": []
    },
    {
      "cell_type": "code",
      "metadata": {
        "id": "_EKlk8_cf848",
        "colab_type": "code",
        "colab": {}
      },
      "source": [
        "# Answer #2"
      ],
      "execution_count": 0,
      "outputs": []
    },
    {
      "cell_type": "code",
      "metadata": {
        "id": "HyZRw1rUf85C",
        "colab_type": "code",
        "colab": {}
      },
      "source": [
        "# Answer #3"
      ],
      "execution_count": 0,
      "outputs": []
    },
    {
      "cell_type": "markdown",
      "metadata": {
        "id": "4fQJHzwsf85n",
        "colab_type": "text"
      },
      "source": [
        "## 7.Manipulating `Numpy` arrays\n"
      ]
    },
    {
      "cell_type": "markdown",
      "metadata": {
        "id": "9WGWmaLZf85p",
        "colab_type": "text"
      },
      "source": [
        "Arrays can be manipulated using arithmetic, logical, or relational operations in an element-wise way. Let's see how these operations are applied, using our arrays `weights_or`, `heights_np`, and and some other arrays that we will create."
      ]
    },
    {
      "cell_type": "markdown",
      "metadata": {
        "id": "5mza7Wgaf85v",
        "colab_type": "text"
      },
      "source": [
        "### 7.1. Arithmetic operations"
      ]
    },
    {
      "cell_type": "markdown",
      "metadata": {
        "id": "ElxXQWhPf85w",
        "colab_type": "text"
      },
      "source": [
        "We are going to operate the content of the arrays with the four traditional arithmetic operations, addition, subtraction, product, and division. Let's first define our arrays again:"
      ]
    },
    {
      "cell_type": "code",
      "metadata": {
        "id": "lxJON3TPf85x",
        "colab_type": "code",
        "outputId": "9fe703df-e6b7-4d73-e107-df3dae3349b7",
        "colab": {
          "base_uri": "https://localhost:8080/",
          "height": 119
        }
      },
      "source": [
        "weights_or"
      ],
      "execution_count": 53,
      "outputs": [
        {
          "output_type": "execute_result",
          "data": {
            "text/plain": [
              "array([[50, 45, 56, 78],\n",
              "       [78, 89, 59, 90],\n",
              "       [89, 78, 69, 70],\n",
              "       [67, 69, 89, 70],\n",
              "       [90, 89, 80, 84],\n",
              "       [89, 59, 90, 78]])"
            ]
          },
          "metadata": {
            "tags": []
          },
          "execution_count": 53
        }
      ]
    },
    {
      "cell_type": "code",
      "metadata": {
        "id": "Y7BUpy43f858",
        "colab_type": "code",
        "outputId": "46e1f15e-8935-4884-f5fd-0f1164c435b3",
        "colab": {
          "base_uri": "https://localhost:8080/",
          "height": 51
        }
      },
      "source": [
        "heights_2 = np.array([165, 175, 180, 189, 187, 186])\n",
        "print('heights_np:', heights_np) \n",
        "print('heights_2: ', heights_2)"
      ],
      "execution_count": 54,
      "outputs": [
        {
          "output_type": "stream",
          "text": [
            "heights_np: [165 170 171 180 189 178]\n",
            "heights_2:  [165 175 180 189 187 186]\n"
          ],
          "name": "stdout"
        }
      ]
    },
    {
      "cell_type": "markdown",
      "metadata": {
        "id": "pDtrCG6Nf86B",
        "colab_type": "text"
      },
      "source": [
        "Let's add the content of the two arrays element-wise:"
      ]
    },
    {
      "cell_type": "code",
      "metadata": {
        "id": "zEqt6dsXf86C",
        "colab_type": "code",
        "outputId": "bad4f6b8-c50d-4b56-e1d7-5379172b9378",
        "colab": {
          "base_uri": "https://localhost:8080/",
          "height": 34
        }
      },
      "source": [
        "heights_add = heights_np + heights_2\n",
        "heights_add"
      ],
      "execution_count": 55,
      "outputs": [
        {
          "output_type": "execute_result",
          "data": {
            "text/plain": [
              "array([330, 345, 351, 369, 376, 364])"
            ]
          },
          "metadata": {
            "tags": []
          },
          "execution_count": 55
        }
      ]
    },
    {
      "cell_type": "markdown",
      "metadata": {
        "id": "uGovxy2Lf86O",
        "colab_type": "text"
      },
      "source": [
        "The `np.add()` function allows adding the content of arrays element-wise:"
      ]
    },
    {
      "cell_type": "code",
      "metadata": {
        "id": "M52rnmGcf86P",
        "colab_type": "code",
        "outputId": "1efcffb3-e509-4fda-d1c4-835427148684",
        "colab": {
          "base_uri": "https://localhost:8080/",
          "height": 34
        }
      },
      "source": [
        "added = np.add(heights_2, heights_np)\n",
        "added"
      ],
      "execution_count": 56,
      "outputs": [
        {
          "output_type": "execute_result",
          "data": {
            "text/plain": [
              "array([330, 345, 351, 369, 376, 364])"
            ]
          },
          "metadata": {
            "tags": []
          },
          "execution_count": 56
        }
      ]
    },
    {
      "cell_type": "markdown",
      "metadata": {
        "id": "cxq-GcGNf86X",
        "colab_type": "text"
      },
      "source": [
        "## Exercise 4\n",
        "\n",
        "Since we have seen how to add element-wise elements of one-dimensional arrays:\n",
        "1. Calculate the subtraction, multiplication and division between the `heights_np` and `heights_2` arrays. Compare the results by using the functions: `np.subtract()`, `np.multiply()`, and `np.divide()`.\n",
        "2. Calculate the product element-wise of the multiplicative inverses ($1/x$) between the arrays `heights_np` and `heights_2`, using numpy functions. For instante, if an element in `heights_np` $x1=5$ and an element in `heights_2` $y1=4$, then the result should be $z=(1/x1)*(1/y1)=1/20=0.05$."
      ]
    },
    {
      "cell_type": "code",
      "metadata": {
        "id": "IVlcdzS2f86Z",
        "colab_type": "code",
        "colab": {}
      },
      "source": [
        "# Answer substraction"
      ],
      "execution_count": 0,
      "outputs": []
    },
    {
      "cell_type": "code",
      "metadata": {
        "id": "OnMnWaHYf86i",
        "colab_type": "code",
        "colab": {}
      },
      "source": [
        "# Answer multiplication"
      ],
      "execution_count": 0,
      "outputs": []
    },
    {
      "cell_type": "code",
      "metadata": {
        "id": "odwi7RKWf86p",
        "colab_type": "code",
        "colab": {}
      },
      "source": [
        "# Answer division"
      ],
      "execution_count": 0,
      "outputs": []
    },
    {
      "cell_type": "code",
      "metadata": {
        "id": "zxpXd64Pf86t",
        "colab_type": "code",
        "colab": {}
      },
      "source": [
        "# Answer multiplicative inverse"
      ],
      "execution_count": 0,
      "outputs": []
    },
    {
      "cell_type": "markdown",
      "metadata": {
        "id": "4IZrRPhaf86z",
        "colab_type": "text"
      },
      "source": [
        "### 7.2. Logical operations"
      ]
    },
    {
      "cell_type": "markdown",
      "metadata": {
        "id": "2GMYJb9tf86z",
        "colab_type": "text"
      },
      "source": [
        "Logical operations are mathematical expressions whose result is a Boolean value of 0 (False) or 1 (True). Among the most common logical operations are the disjunction `or`, conjunction `and`, and negation `not`operations, among others. Let's see an example:"
      ]
    },
    {
      "cell_type": "code",
      "metadata": {
        "id": "73iJ3Fa-f861",
        "colab_type": "code",
        "colab": {}
      },
      "source": [
        "x = np.array([True, True, False, False])\n",
        "y = np.array([True, False, True, False])"
      ],
      "execution_count": 0,
      "outputs": []
    },
    {
      "cell_type": "code",
      "metadata": {
        "id": "twei5wfUf865",
        "colab_type": "code",
        "outputId": "6a543c6d-c7ee-4e33-c7a7-e79944e8e1f5",
        "colab": {
          "base_uri": "https://localhost:8080/",
          "height": 34
        }
      },
      "source": [
        "np.logical_or(x,y)"
      ],
      "execution_count": 59,
      "outputs": [
        {
          "output_type": "execute_result",
          "data": {
            "text/plain": [
              "array([ True,  True,  True, False])"
            ]
          },
          "metadata": {
            "tags": []
          },
          "execution_count": 59
        }
      ]
    },
    {
      "cell_type": "code",
      "metadata": {
        "id": "s3CAf5OAf869",
        "colab_type": "code",
        "outputId": "e8be2f31-6361-40da-a531-23c67eba5c9f",
        "colab": {
          "base_uri": "https://localhost:8080/",
          "height": 34
        }
      },
      "source": [
        "np.logical_and(x,y)"
      ],
      "execution_count": 60,
      "outputs": [
        {
          "output_type": "execute_result",
          "data": {
            "text/plain": [
              "array([ True, False, False, False])"
            ]
          },
          "metadata": {
            "tags": []
          },
          "execution_count": 60
        }
      ]
    },
    {
      "cell_type": "code",
      "metadata": {
        "id": "R1xywrYjf87C",
        "colab_type": "code",
        "outputId": "4d374505-4b4e-4b77-8170-9250734ab3a4",
        "colab": {
          "base_uri": "https://localhost:8080/",
          "height": 34
        }
      },
      "source": [
        "np.logical_not(x)"
      ],
      "execution_count": 61,
      "outputs": [
        {
          "output_type": "execute_result",
          "data": {
            "text/plain": [
              "array([False, False,  True,  True])"
            ]
          },
          "metadata": {
            "tags": []
          },
          "execution_count": 61
        }
      ]
    },
    {
      "cell_type": "markdown",
      "metadata": {
        "id": "eEOFfrmhf87E",
        "colab_type": "text"
      },
      "source": [
        "### 7.3.Comparison - Relational operators"
      ]
    },
    {
      "cell_type": "markdown",
      "metadata": {
        "id": "3MfycNFPf87F",
        "colab_type": "text"
      },
      "source": [
        "The comparison operators allow us to compare the values of the content of `numpy` arrays element-wise. Some operators of interest (a) equality operator `np.equal()`, (b) less than operator `np.less()`/`np.less_equal()`, (c) greater than operator `np.greater()`/`np.greater_equal()`, and (d) difference operator `np.not_equal()`. It is important to note that the output will always be Boolean 0 (False) or 1 (True).\n",
        "\n",
        "Let's see some examples:"
      ]
    },
    {
      "cell_type": "code",
      "metadata": {
        "id": "tkVsUowMf87F",
        "colab_type": "code",
        "colab": {}
      },
      "source": [
        "x = np.array([1, 8, 3, 7, 3, 21])\n",
        "y = np.array([4, 8, 1, 7, 6, 9])"
      ],
      "execution_count": 0,
      "outputs": []
    },
    {
      "cell_type": "code",
      "metadata": {
        "id": "xUtFfWvrf87H",
        "colab_type": "code",
        "outputId": "1f47fb42-bf8a-4a54-ffbf-09ef5b60182c",
        "colab": {
          "base_uri": "https://localhost:8080/",
          "height": 34
        }
      },
      "source": [
        "np.equal(x,y)"
      ],
      "execution_count": 63,
      "outputs": [
        {
          "output_type": "execute_result",
          "data": {
            "text/plain": [
              "array([False,  True, False,  True, False, False])"
            ]
          },
          "metadata": {
            "tags": []
          },
          "execution_count": 63
        }
      ]
    },
    {
      "cell_type": "code",
      "metadata": {
        "id": "uRXU49WWf87K",
        "colab_type": "code",
        "outputId": "b91cb47c-9cda-4e64-9381-f7dbb049aca1",
        "colab": {
          "base_uri": "https://localhost:8080/",
          "height": 34
        }
      },
      "source": [
        "np.not_equal(x,y)"
      ],
      "execution_count": 64,
      "outputs": [
        {
          "output_type": "execute_result",
          "data": {
            "text/plain": [
              "array([ True, False,  True, False,  True,  True])"
            ]
          },
          "metadata": {
            "tags": []
          },
          "execution_count": 64
        }
      ]
    },
    {
      "cell_type": "code",
      "metadata": {
        "id": "Q3WKZKrBf87U",
        "colab_type": "code",
        "outputId": "5864e976-2591-4517-8a04-19243131edf8",
        "colab": {
          "base_uri": "https://localhost:8080/",
          "height": 34
        }
      },
      "source": [
        "np.less_equal(x,y)"
      ],
      "execution_count": 66,
      "outputs": [
        {
          "output_type": "execute_result",
          "data": {
            "text/plain": [
              "array([ True,  True, False,  True,  True, False])"
            ]
          },
          "metadata": {
            "tags": []
          },
          "execution_count": 66
        }
      ]
    },
    {
      "cell_type": "code",
      "metadata": {
        "id": "kY5zDfGcf87Y",
        "colab_type": "code",
        "outputId": "e96ed457-7dbd-467d-fc5a-397b0aaab536",
        "colab": {
          "base_uri": "https://localhost:8080/",
          "height": 34
        }
      },
      "source": [
        "np.greater_equal(x,y)"
      ],
      "execution_count": 65,
      "outputs": [
        {
          "output_type": "execute_result",
          "data": {
            "text/plain": [
              "array([False,  True,  True,  True, False,  True])"
            ]
          },
          "metadata": {
            "tags": []
          },
          "execution_count": 65
        }
      ]
    },
    {
      "cell_type": "code",
      "metadata": {
        "id": "bD8ekMQdf87d",
        "colab_type": "code",
        "outputId": "0f8f9e13-5569-4356-b413-131b64ec9461",
        "colab": {
          "base_uri": "https://localhost:8080/",
          "height": 34
        }
      },
      "source": [
        "np.array_equal(x,y) # Comparing the entire content of both arrays"
      ],
      "execution_count": 67,
      "outputs": [
        {
          "output_type": "execute_result",
          "data": {
            "text/plain": [
              "False"
            ]
          },
          "metadata": {
            "tags": []
          },
          "execution_count": 67
        }
      ]
    },
    {
      "cell_type": "code",
      "metadata": {
        "id": "H5HM9fzkf87h",
        "colab_type": "code",
        "outputId": "cc3c4dd9-44e8-42e0-ded7-013b0c7d6fde",
        "colab": {
          "base_uri": "https://localhost:8080/",
          "height": 34
        }
      },
      "source": [
        "x = np.array([1, 8, 3, 7, 3, 21])\n",
        "y = np.array(list((1, 8, 3, 7, 3, 21)))\n",
        "np.array_equal(x,y) # Comparing the entire content of both arrays"
      ],
      "execution_count": 68,
      "outputs": [
        {
          "output_type": "execute_result",
          "data": {
            "text/plain": [
              "True"
            ]
          },
          "metadata": {
            "tags": []
          },
          "execution_count": 68
        }
      ]
    },
    {
      "cell_type": "markdown",
      "metadata": {
        "id": "fLS5wApRf87o",
        "colab_type": "text"
      },
      "source": [
        "## 8. Broadcasting"
      ]
    },
    {
      "cell_type": "markdown",
      "metadata": {
        "id": "-Vc5-Jnnf87o",
        "colab_type": "text"
      },
      "source": [
        "`numpy` has the ability of operating arrays of different shapes during arithmetic operations using **broadcasting**, so that arithmetic operations on arrays are done on corresponding elements. The boradcasting operation replicates one of the arrays along the dimensions the other, if there is a mismatch of shapes. Consider the following arrays:"
      ]
    },
    {
      "cell_type": "code",
      "metadata": {
        "id": "fgXXgRfWf87p",
        "colab_type": "code",
        "outputId": "5c9c4a04-ccb6-4de5-b21d-90ff2090c3b8",
        "colab": {
          "base_uri": "https://localhost:8080/",
          "height": 119
        }
      },
      "source": [
        "heights_np = heights_np.reshape((6,1))\n",
        "heights_np"
      ],
      "execution_count": 69,
      "outputs": [
        {
          "output_type": "execute_result",
          "data": {
            "text/plain": [
              "array([[165],\n",
              "       [170],\n",
              "       [171],\n",
              "       [180],\n",
              "       [189],\n",
              "       [178]])"
            ]
          },
          "metadata": {
            "tags": []
          },
          "execution_count": 69
        }
      ]
    },
    {
      "cell_type": "code",
      "metadata": {
        "id": "uyDE32FWf87x",
        "colab_type": "code",
        "outputId": "3a8360e9-c6df-472c-fc77-4df657396278",
        "colab": {
          "base_uri": "https://localhost:8080/",
          "height": 238
        }
      },
      "source": [
        "weights"
      ],
      "execution_count": 70,
      "outputs": [
        {
          "output_type": "execute_result",
          "data": {
            "text/plain": [
              "array([[[50, 45],\n",
              "        [56, 78],\n",
              "        [78, 89],\n",
              "        [59, 90],\n",
              "        [89, 78],\n",
              "        [69, 70]],\n",
              "\n",
              "       [[67, 69],\n",
              "        [89, 70],\n",
              "        [90, 89],\n",
              "        [80, 84],\n",
              "        [89, 59],\n",
              "        [90, 78]]])"
            ]
          },
          "metadata": {
            "tags": []
          },
          "execution_count": 70
        }
      ]
    },
    {
      "cell_type": "markdown",
      "metadata": {
        "id": "mQmM6Q7yf870",
        "colab_type": "text"
      },
      "source": [
        "We are going to add the elements of both arrays:"
      ]
    },
    {
      "cell_type": "code",
      "metadata": {
        "id": "VCu2iGPMf871",
        "colab_type": "code",
        "outputId": "3e6bb1d9-f4f8-4a9d-93e9-5ed682544c7d",
        "colab": {
          "base_uri": "https://localhost:8080/",
          "height": 238
        }
      },
      "source": [
        "broad_np = heights_np + weights\n",
        "broad_np"
      ],
      "execution_count": 71,
      "outputs": [
        {
          "output_type": "execute_result",
          "data": {
            "text/plain": [
              "array([[[215, 210],\n",
              "        [226, 248],\n",
              "        [249, 260],\n",
              "        [239, 270],\n",
              "        [278, 267],\n",
              "        [247, 248]],\n",
              "\n",
              "       [[232, 234],\n",
              "        [259, 240],\n",
              "        [261, 260],\n",
              "        [260, 264],\n",
              "        [278, 248],\n",
              "        [268, 256]]])"
            ]
          },
          "metadata": {
            "tags": []
          },
          "execution_count": 71
        }
      ]
    },
    {
      "cell_type": "markdown",
      "metadata": {
        "id": "OjvMdK5Xf875",
        "colab_type": "text"
      },
      "source": [
        "Although the arrays have different dimensions, `numpy` makes a sum for the corresponding elements in common rows and columns, in such a way that the elements of the column vector `heights_np` are added with each column of the two-dimensional vector `weights`.\n",
        "\n",
        "Let's look at one more example:"
      ]
    },
    {
      "cell_type": "code",
      "metadata": {
        "id": "fZdEzysff876",
        "colab_type": "code",
        "colab": {}
      },
      "source": [
        "x = np.ones((3,4))\n",
        "y = np.random.random((5,1,4))"
      ],
      "execution_count": 0,
      "outputs": []
    },
    {
      "cell_type": "code",
      "metadata": {
        "id": "uRcAROTYf879",
        "colab_type": "code",
        "outputId": "fe1fd40d-4fd4-4ff0-8bfb-c9bd5bb41c42",
        "colab": {
          "base_uri": "https://localhost:8080/",
          "height": 68
        }
      },
      "source": [
        "x"
      ],
      "execution_count": 73,
      "outputs": [
        {
          "output_type": "execute_result",
          "data": {
            "text/plain": [
              "array([[1., 1., 1., 1.],\n",
              "       [1., 1., 1., 1.],\n",
              "       [1., 1., 1., 1.]])"
            ]
          },
          "metadata": {
            "tags": []
          },
          "execution_count": 73
        }
      ]
    },
    {
      "cell_type": "code",
      "metadata": {
        "id": "uz4cNW4yf88I",
        "colab_type": "code",
        "outputId": "7f65a3b1-5cb3-4d29-87ad-9e1b790e4a71",
        "colab": {
          "base_uri": "https://localhost:8080/",
          "height": 170
        }
      },
      "source": [
        "y"
      ],
      "execution_count": 74,
      "outputs": [
        {
          "output_type": "execute_result",
          "data": {
            "text/plain": [
              "array([[[0.58650573, 0.8991317 , 0.11794428, 0.95529092]],\n",
              "\n",
              "       [[0.90979584, 0.51435102, 0.54402438, 0.91886755]],\n",
              "\n",
              "       [[0.67730039, 0.08366353, 0.03533193, 0.72036147]],\n",
              "\n",
              "       [[0.32999286, 0.05300852, 0.70901024, 0.48472041]],\n",
              "\n",
              "       [[0.8319779 , 0.46926   , 0.40650511, 0.49699316]]])"
            ]
          },
          "metadata": {
            "tags": []
          },
          "execution_count": 74
        }
      ]
    },
    {
      "cell_type": "code",
      "metadata": {
        "id": "lAVevw1of88R",
        "colab_type": "code",
        "outputId": "b38d8691-2457-4ffd-fc4f-6bb462879551",
        "colab": {
          "base_uri": "https://localhost:8080/",
          "height": 340
        }
      },
      "source": [
        "z = x + y\n",
        "z"
      ],
      "execution_count": 75,
      "outputs": [
        {
          "output_type": "execute_result",
          "data": {
            "text/plain": [
              "array([[[1.58650573, 1.8991317 , 1.11794428, 1.95529092],\n",
              "        [1.58650573, 1.8991317 , 1.11794428, 1.95529092],\n",
              "        [1.58650573, 1.8991317 , 1.11794428, 1.95529092]],\n",
              "\n",
              "       [[1.90979584, 1.51435102, 1.54402438, 1.91886755],\n",
              "        [1.90979584, 1.51435102, 1.54402438, 1.91886755],\n",
              "        [1.90979584, 1.51435102, 1.54402438, 1.91886755]],\n",
              "\n",
              "       [[1.67730039, 1.08366353, 1.03533193, 1.72036147],\n",
              "        [1.67730039, 1.08366353, 1.03533193, 1.72036147],\n",
              "        [1.67730039, 1.08366353, 1.03533193, 1.72036147]],\n",
              "\n",
              "       [[1.32999286, 1.05300852, 1.70901024, 1.48472041],\n",
              "        [1.32999286, 1.05300852, 1.70901024, 1.48472041],\n",
              "        [1.32999286, 1.05300852, 1.70901024, 1.48472041]],\n",
              "\n",
              "       [[1.8319779 , 1.46926   , 1.40650511, 1.49699316],\n",
              "        [1.8319779 , 1.46926   , 1.40650511, 1.49699316],\n",
              "        [1.8319779 , 1.46926   , 1.40650511, 1.49699316]]])"
            ]
          },
          "metadata": {
            "tags": []
          },
          "execution_count": 75
        }
      ]
    },
    {
      "cell_type": "markdown",
      "metadata": {
        "id": "gveruh19f88W",
        "colab_type": "text"
      },
      "source": [
        "Here each row in array `y` has been paired with rows in array `x`, since they have the same amount of column. The result is an array with triple the rows of array `y` and the same number of columns."
      ]
    },
    {
      "cell_type": "markdown",
      "metadata": {
        "id": "A7-1g-4nf88X",
        "colab_type": "text"
      },
      "source": [
        "## Exercise 5\n",
        "\n",
        "Propose an array `y` such that the operation $x + y$ results in the array `z`.\n",
        "```\n",
        "x = [[14, 15, 18],\n",
        "    [62, 90, 98],\n",
        "    [71, 73, 90],\n",
        "    [40, 24, 17],\n",
        "    [11, 81, 14],\n",
        "    [26, 81, 31]]\n",
        "\n",
        "z = [[24,  40,  58],\n",
        "    [72, 115, 138],\n",
        "    [81,  98, 130],\n",
        "    [50,  49,  57],\n",
        "    [21, 106,  54],\n",
        "    [36, 106,  71]]\n",
        "```"
      ]
    },
    {
      "cell_type": "code",
      "metadata": {
        "id": "MDxjJAjAf88X",
        "colab_type": "code",
        "colab": {}
      },
      "source": [
        "# Answer"
      ],
      "execution_count": 0,
      "outputs": []
    },
    {
      "cell_type": "markdown",
      "metadata": {
        "id": "01h2ZBRof88c",
        "colab_type": "text"
      },
      "source": [
        "## 9.Matrix multiplication"
      ]
    },
    {
      "cell_type": "markdown",
      "metadata": {
        "id": "Cfpn307pf88g",
        "colab_type": "text"
      },
      "source": [
        "Let's delve into the element-wise and dot product multiplication between matrices (two-dimensional arrays). First, we define two matrices:"
      ]
    },
    {
      "cell_type": "code",
      "metadata": {
        "id": "ualh0UyRf88h",
        "colab_type": "code",
        "outputId": "791fee76-0f1e-4a48-f3f7-e1e788a47be5",
        "colab": {
          "base_uri": "https://localhost:8080/",
          "height": 187
        }
      },
      "source": [
        "A = np.array([[1,1,8],[0,1,9],[9,0,8]])\n",
        "print(\"Matrix A:\\n\", A, '\\n')\n",
        "\n",
        "B = np.array([[2,0,0],[3,4,9],[7,8,9]])\n",
        "print('MATRIX B:\\n', B, '\\n')"
      ],
      "execution_count": 76,
      "outputs": [
        {
          "output_type": "stream",
          "text": [
            "Matrix A:\n",
            " [[1 1 8]\n",
            " [0 1 9]\n",
            " [9 0 8]] \n",
            "\n",
            "MATRIX B:\n",
            " [[2 0 0]\n",
            " [3 4 9]\n",
            " [7 8 9]] \n",
            "\n"
          ],
          "name": "stdout"
        }
      ]
    },
    {
      "cell_type": "markdown",
      "metadata": {
        "id": "M1SBY0cdf88n",
        "colab_type": "text"
      },
      "source": [
        "The product between the two matrices can be executed with the classic arithmetic operator `*`:"
      ]
    },
    {
      "cell_type": "code",
      "metadata": {
        "id": "MTw8eMcQf88o",
        "colab_type": "code",
        "outputId": "ba2e05ed-2ec6-4be0-c064-7d6b9de2f528",
        "colab": {
          "base_uri": "https://localhost:8080/",
          "height": 102
        }
      },
      "source": [
        "print(\"Element wise multiplication:\\n\", A*B, '\\n')"
      ],
      "execution_count": 77,
      "outputs": [
        {
          "output_type": "stream",
          "text": [
            "Element wise multiplication:\n",
            " [[ 2  0  0]\n",
            " [ 0  4 81]\n",
            " [63  0 72]] \n",
            "\n"
          ],
          "name": "stdout"
        }
      ]
    },
    {
      "cell_type": "markdown",
      "metadata": {
        "id": "4nb2aUfQf88r",
        "colab_type": "text"
      },
      "source": [
        "The dot product of matrices can be executed with the `@` operator or with the numpy `np.dot()` function:"
      ]
    },
    {
      "cell_type": "code",
      "metadata": {
        "id": "svM0Lk04f88s",
        "colab_type": "code",
        "outputId": "0be1e4cc-d107-4a2e-ad27-96cb8eeea993",
        "colab": {
          "base_uri": "https://localhost:8080/",
          "height": 187
        }
      },
      "source": [
        "print(\"Matrix product:\\n\", A@B, '\\n') # matrix A = (2 ,3) , matrix B= (3,4), output matrix =( 2,4)\n",
        "print(\"Dot product:\\n\", A.dot(B), '\\n')"
      ],
      "execution_count": 78,
      "outputs": [
        {
          "output_type": "stream",
          "text": [
            "Matrix product:\n",
            " [[61 68 81]\n",
            " [66 76 90]\n",
            " [74 64 72]] \n",
            "\n",
            "Dot product:\n",
            " [[61 68 81]\n",
            " [66 76 90]\n",
            " [74 64 72]] \n",
            "\n"
          ],
          "name": "stdout"
        }
      ]
    },
    {
      "cell_type": "markdown",
      "metadata": {
        "id": "l4lf81DJf88y",
        "colab_type": "text"
      },
      "source": [
        "## 10. Arrays with `random` numbers"
      ]
    },
    {
      "cell_type": "markdown",
      "metadata": {
        "id": "VTH1fTJef88y",
        "colab_type": "text"
      },
      "source": [
        "A random number is a result of a variable combination specified by a distribution function. When no distribution is specified, it is assumed that the continuous uniform distribution in the interval [0,1) is used. Some functions for generating random numpy numbers are:\n",
        "- `np.random.random()`: returns random floats in the half-open interval [0.0, 1.0)\n",
        "- `np.random.randint(low, high)`: returns random integers from low (inclusive) to high (exclusive).\n",
        "- `np.random.normal()`: returns random samples from a normal (Gaussian) distribution.\n",
        "\n",
        "Let's see some examples:"
      ]
    },
    {
      "cell_type": "code",
      "metadata": {
        "id": "UKm6quFsf880",
        "colab_type": "code",
        "outputId": "900b7dec-2b2b-4c72-88dd-f63809687779",
        "colab": {
          "base_uri": "https://localhost:8080/",
          "height": 85
        }
      },
      "source": [
        "np.random.random((4,3))"
      ],
      "execution_count": 79,
      "outputs": [
        {
          "output_type": "execute_result",
          "data": {
            "text/plain": [
              "array([[0.11798973, 0.62090018, 0.25967593],\n",
              "       [0.43534172, 0.39078729, 0.29537843],\n",
              "       [0.62527037, 0.36664864, 0.90304918],\n",
              "       [0.80110352, 0.06759967, 0.24346256]])"
            ]
          },
          "metadata": {
            "tags": []
          },
          "execution_count": 79
        }
      ]
    },
    {
      "cell_type": "code",
      "metadata": {
        "id": "Z6KREOQ6f886",
        "colab_type": "code",
        "outputId": "b6a59e21-a242-416c-a593-3a2f4b072f07",
        "colab": {
          "base_uri": "https://localhost:8080/",
          "height": 51
        }
      },
      "source": [
        "np.random.randint(10, 20, size=(2, 4))"
      ],
      "execution_count": 80,
      "outputs": [
        {
          "output_type": "execute_result",
          "data": {
            "text/plain": [
              "array([[18, 14, 15, 16],\n",
              "       [15, 13, 15, 19]])"
            ]
          },
          "metadata": {
            "tags": []
          },
          "execution_count": 80
        }
      ]
    },
    {
      "cell_type": "code",
      "metadata": {
        "id": "vxMDECBPf889",
        "colab_type": "code",
        "outputId": "89ed3423-92c4-4751-c620-62ad1ea2ad7b",
        "colab": {
          "base_uri": "https://localhost:8080/",
          "height": 51
        }
      },
      "source": [
        "np.random.normal(size=10)"
      ],
      "execution_count": 81,
      "outputs": [
        {
          "output_type": "execute_result",
          "data": {
            "text/plain": [
              "array([ 0.0446794 ,  0.04824569, -0.34208871,  0.50114241,  1.35975059,\n",
              "       -0.56957288,  1.0875766 , -0.09560878,  0.51696095,  1.74689523])"
            ]
          },
          "metadata": {
            "tags": []
          },
          "execution_count": 81
        }
      ]
    },
    {
      "cell_type": "markdown",
      "metadata": {
        "id": "MtooXTQef89A",
        "colab_type": "text"
      },
      "source": [
        "Ee can also specify a `seed`, so that the sequence of random numbers is repeatable (if you execute the following code several times, you will get the same random results):"
      ]
    },
    {
      "cell_type": "code",
      "metadata": {
        "id": "Df77Kx3wf89B",
        "colab_type": "code",
        "outputId": "97e350cb-82b2-4624-d01f-06d108f40d06",
        "colab": {
          "base_uri": "https://localhost:8080/",
          "height": 51
        }
      },
      "source": [
        "from numpy.random import seed\n",
        "from numpy.random import rand\n",
        "\n",
        "# Seed random number generator\n",
        "seed(42)\n",
        "\n",
        "# Generate random numbers between 0-1\n",
        "values = rand(10)\n",
        "print(values)"
      ],
      "execution_count": 82,
      "outputs": [
        {
          "output_type": "stream",
          "text": [
            "[0.37454012 0.95071431 0.73199394 0.59865848 0.15601864 0.15599452\n",
            " 0.05808361 0.86617615 0.60111501 0.70807258]\n"
          ],
          "name": "stdout"
        }
      ]
    },
    {
      "cell_type": "markdown",
      "metadata": {
        "id": "iXJBJnNuf89E",
        "colab_type": "text"
      },
      "source": [
        "## 11. Concatenate, and stack `Numpy` arrays"
      ]
    },
    {
      "cell_type": "markdown",
      "metadata": {
        "id": "kVY0Sczdf89F",
        "colab_type": "text"
      },
      "source": [
        "The **concatenation** `np.concatenate()` is a process of joining several arrays to form one, on the same axis. **Stacking** `np.stack()` is a process of joining arrays on a new axis. Let's dive a little bit more on this concepts with practical examples:"
      ]
    },
    {
      "cell_type": "code",
      "metadata": {
        "id": "EeXmRI4vf89G",
        "colab_type": "code",
        "outputId": "a46c3d5d-b43e-4d52-d31c-f8c370ebd340",
        "colab": {
          "base_uri": "https://localhost:8080/",
          "height": 51
        }
      },
      "source": [
        "my_array = np.array([1,2,34,5])\n",
        "x = np.array([1,4,5,6])\n",
        "print('x: \\t  ', x)\n",
        "print('my_array: ', my_array)"
      ],
      "execution_count": 83,
      "outputs": [
        {
          "output_type": "stream",
          "text": [
            "x: \t   [1 4 5 6]\n",
            "my_array:  [ 1  2 34  5]\n"
          ],
          "name": "stdout"
        }
      ]
    },
    {
      "cell_type": "code",
      "metadata": {
        "id": "clNfLcnof89I",
        "colab_type": "code",
        "outputId": "9b9784b7-71bb-409d-c992-e9502322d4a1",
        "colab": {
          "base_uri": "https://localhost:8080/",
          "height": 102
        }
      },
      "source": [
        "print('Append:\\n',np.append(my_array,x))\n",
        "y = np.append(my_array, x)\n",
        "\n",
        "# Concatentate `my_array` and `x`\n",
        "print('\\nConcatenate:\\n',np.concatenate((my_array,x)))"
      ],
      "execution_count": 84,
      "outputs": [
        {
          "output_type": "stream",
          "text": [
            "Append:\n",
            " [ 1  2 34  5  1  4  5  6]\n",
            "\n",
            "Concatenate:\n",
            " [ 1  2 34  5  1  4  5  6]\n"
          ],
          "name": "stdout"
        }
      ]
    },
    {
      "cell_type": "code",
      "metadata": {
        "id": "_7bJKBFtf89Q",
        "colab_type": "code",
        "outputId": "0c2d3e16-f36e-446d-ba1a-4a973b5ad2e4",
        "colab": {
          "base_uri": "https://localhost:8080/",
          "height": 68
        }
      },
      "source": [
        "# Stack arrays vertically (row-wise)\n",
        "print(\"Stack row wise:\")\n",
        "print(np.vstack((my_array, x)))"
      ],
      "execution_count": 85,
      "outputs": [
        {
          "output_type": "stream",
          "text": [
            "Stack row wise:\n",
            "[[ 1  2 34  5]\n",
            " [ 1  4  5  6]]\n"
          ],
          "name": "stdout"
        }
      ]
    },
    {
      "cell_type": "code",
      "metadata": {
        "id": "SWYSIGd2f89V",
        "colab_type": "code",
        "outputId": "60e29cef-e982-4b74-ec1a-c8320313ee2e",
        "colab": {
          "base_uri": "https://localhost:8080/",
          "height": 102
        }
      },
      "source": [
        "# Stack arrays horizontally\n",
        "print(\"Stack horizantally:\")\n",
        "print(np.hstack((my_array,x)))\n",
        "\n",
        "print(\"\\nAnother way:\")\n",
        "print(np.r_[my_array,x])"
      ],
      "execution_count": 86,
      "outputs": [
        {
          "output_type": "stream",
          "text": [
            "Stack horizantally:\n",
            "[ 1  2 34  5  1  4  5  6]\n",
            "\n",
            "Another way:\n",
            "[ 1  2 34  5  1  4  5  6]\n"
          ],
          "name": "stdout"
        }
      ]
    },
    {
      "cell_type": "code",
      "metadata": {
        "id": "01esLgVJf89X",
        "colab_type": "code",
        "outputId": "e0d42a3a-83a4-44e2-8c91-70502fbb4008",
        "colab": {
          "base_uri": "https://localhost:8080/",
          "height": 204
        }
      },
      "source": [
        "# Stack arrays column-wise\n",
        "print(\"Stack column wise:\")\n",
        "print(np.column_stack(( my_array,x)))\n",
        "\n",
        "print(\"\\nColumn wise repeat:\")\n",
        "print(np.c_[ my_array,x])"
      ],
      "execution_count": 87,
      "outputs": [
        {
          "output_type": "stream",
          "text": [
            "Stack column wise:\n",
            "[[ 1  1]\n",
            " [ 2  4]\n",
            " [34  5]\n",
            " [ 5  6]]\n",
            "\n",
            "Column wise repeat:\n",
            "[[ 1  1]\n",
            " [ 2  4]\n",
            " [34  5]\n",
            " [ 5  6]]\n"
          ],
          "name": "stdout"
        }
      ]
    },
    {
      "cell_type": "markdown",
      "metadata": {
        "id": "BhNtyz95f89Z",
        "colab_type": "text"
      },
      "source": [
        "As you have seen, when we concatenate the arrays, we do it on the same axis. When stacking arrays, we do it on a new axis."
      ]
    },
    {
      "cell_type": "markdown",
      "metadata": {
        "id": "Bwr6bR0Yf89Z",
        "colab_type": "text"
      },
      "source": [
        "## 12. Visualize `Numpy` array"
      ]
    },
    {
      "cell_type": "markdown",
      "metadata": {
        "id": "HmeK1Uo5f89a",
        "colab_type": "text"
      },
      "source": [
        "To visualize the content of a numpy array we can make use of the `matplotlib.pyplot` library, which allows us to visualize data and its distributions, among many other functions."
      ]
    },
    {
      "cell_type": "code",
      "metadata": {
        "id": "_DzI6kD1f89a",
        "colab_type": "code",
        "colab": {}
      },
      "source": [
        "import matplotlib.pyplot as plt"
      ],
      "execution_count": 0,
      "outputs": []
    },
    {
      "cell_type": "markdown",
      "metadata": {
        "id": "3X18qf_pf89c",
        "colab_type": "text"
      },
      "source": [
        "Let's specify an initial state for the Mersenne Twister number generator, a pseudo-random number generator:"
      ]
    },
    {
      "cell_type": "code",
      "metadata": {
        "id": "fnn7PTnpf89c",
        "colab_type": "code",
        "colab": {}
      },
      "source": [
        "rng = np.random.RandomState(10)  "
      ],
      "execution_count": 0,
      "outputs": []
    },
    {
      "cell_type": "markdown",
      "metadata": {
        "id": "FPOQujvIf89e",
        "colab_type": "text"
      },
      "source": [
        "Now we generate random values of two normal distributions with different mean and standard deviation, a distribution of mean 0 and another of mean 5, stacking them in a single array horizontally:"
      ]
    },
    {
      "cell_type": "code",
      "metadata": {
        "id": "yPqv_8MSf89e",
        "colab_type": "code",
        "colab": {
          "base_uri": "https://localhost:8080/",
          "height": 51
        },
        "outputId": "ee316d88-e7e8-4eb9-f74c-0771cb70a062"
      },
      "source": [
        "a = np.hstack((rng.normal(size=1000),rng.normal(loc=5, scale=2, size=1000)))\n",
        "a"
      ],
      "execution_count": 90,
      "outputs": [
        {
          "output_type": "execute_result",
          "data": {
            "text/plain": [
              "array([ 1.3315865 ,  0.71527897, -1.54540029, ...,  5.74446677,\n",
              "        6.22449239,  8.42055014])"
            ]
          },
          "metadata": {
            "tags": []
          },
          "execution_count": 90
        }
      ]
    },
    {
      "cell_type": "markdown",
      "metadata": {
        "id": "_9Dof31hf89h",
        "colab_type": "text"
      },
      "source": [
        "Let's visualize the data of the number arrangement of the two distributions, in a histogram with the help of the library `matplotlib.pyplot` to which we have aliased `plt`:"
      ]
    },
    {
      "cell_type": "code",
      "metadata": {
        "id": "0dep-zq-f89i",
        "colab_type": "code",
        "outputId": "78270347-e7e1-4618-e3dd-80f41040f253",
        "colab": {
          "base_uri": "https://localhost:8080/",
          "height": 281
        }
      },
      "source": [
        "plt.hist(a, bins='auto')\n",
        "plt.title(\"Histogram\")\n",
        "plt.show()"
      ],
      "execution_count": 91,
      "outputs": [
        {
          "output_type": "display_data",
          "data": {
            "image/png": "[encoded data removed]",
            "text/plain": [
              "<Figure size 432x288 with 1 Axes>"
            ]
          },
          "metadata": {
            "tags": [],
            "needs_background": "light"
          }
        }
      ]
    },
    {
      "cell_type": "markdown",
      "metadata": {
        "id": "_1VR0dbSf89l",
        "colab_type": "text"
      },
      "source": [
        "As can be seen, this graph denotes the distribution of the two normal distributions with a mean of 0 and 5.\n",
        "\n",
        "As an additional example, we are creating a meshgrid `np.meshgrid()` with values generated from an array of `numpy` with initial value of 5, final value of -5 (exclusive) and step of 0.01. We have calculated the value of `z` which corresponds to the general equation of a circle, so that we can generate the graph shown below:"
      ]
    },
    {
      "cell_type": "code",
      "metadata": {
        "id": "FGS6p0JKf89l",
        "colab_type": "code",
        "outputId": "a0c7a36a-54ef-4139-bc81-130acb50c3d6",
        "colab": {
          "base_uri": "https://localhost:8080/",
          "height": 269
        }
      },
      "source": [
        "# Create an array\n",
        "points = np.arange(-5, 5, 0.01)\n",
        "\n",
        "# Make a meshgrid\n",
        "xs, ys = np.meshgrid(points, points)\n",
        "z = np.sqrt(xs ** 2 + ys ** 2)\n",
        "\n",
        "# Display the image on the axes\n",
        "plt.imshow(z, cmap=plt.cm.Reds)\n",
        "\n",
        "# Draw a color bar\n",
        "plt.colorbar()\n",
        "\n",
        "# Show the plot\n",
        "plt.show()"
      ],
      "execution_count": 92,
      "outputs": [
        {
          "output_type": "display_data",
          "data": {
            "image/png": "[encoded data removed]",
            "text/plain": [
              "<Figure size 432x288 with 2 Axes>"
            ]
          },
          "metadata": {
            "tags": [],
            "needs_background": "light"
          }
        }
      ]
    },
    {
      "cell_type": "markdown",
      "metadata": {
        "id": "XmZ4smUcf89q",
        "colab_type": "text"
      },
      "source": [
        "## 13. Save the numpy ndarray object into a npy file"
      ]
    },
    {
      "cell_type": "markdown",
      "metadata": {
        "id": "mor-Nulpf89r",
        "colab_type": "text"
      },
      "source": [
        "Finally, one of the most important parts of the entire analysis process, the storage of the results. We can do this with the `np.savetxt()` function:"
      ]
    },
    {
      "cell_type": "code",
      "metadata": {
        "id": "bQsxuM45f89s",
        "colab_type": "code",
        "colab": {}
      },
      "source": [
        "import numpy as np\n",
        "x = np.arange(0.0,5.0,1.0)\n",
        "np.savetxt('test.txt', x, delimiter=',')"
      ],
      "execution_count": 0,
      "outputs": []
    },
    {
      "cell_type": "markdown",
      "metadata": {
        "id": "72_3EDqvf89u",
        "colab_type": "text"
      },
      "source": [
        "## Conclusions"
      ]
    },
    {
      "cell_type": "markdown",
      "metadata": {
        "id": "6wI9rklxf89v",
        "colab_type": "text"
      },
      "source": [
        "We have learned the fundamentals of the `numpy` library for scientific computing, which allows us to create multidimensional arrays and operate them using arithmetic, logical, and relational operators. We have also learned how to restructure arrangements in various ways, as well as the basic tools for visualization. \n",
        "\n",
        "In the next case study, we will see what is related to the `pandas` library, so we are ready to do data analysis dynamically and efficiently!"
      ]
    }
  ]
}