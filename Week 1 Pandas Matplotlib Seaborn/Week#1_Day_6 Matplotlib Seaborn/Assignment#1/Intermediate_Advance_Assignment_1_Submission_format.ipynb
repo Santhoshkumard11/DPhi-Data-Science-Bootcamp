{
 "cells": [
  {
   "cell_type": "markdown",
   "metadata": {
    "colab_type": "text",
    "id": "rprz892FdpnE"
   },
   "source": [
    "**Name:** Sumaia Parveen Shupti\n"
   ]
  },
  {
   "cell_type": "code",
   "execution_count": 1,
   "metadata": {
    "colab": {},
    "colab_type": "code",
    "id": "cCZFa9D-dgdx"
   },
   "outputs": [],
   "source": [
    "# Import required libraries here\n",
    "\n",
    "import matplotlib.pyplot as plt\n",
    "import numpy as np\n",
    "import pandas as pd\n",
    "import seaborn as sns"
   ]
  },
  {
   "cell_type": "code",
   "execution_count": 2,
   "metadata": {
    "colab": {},
    "colab_type": "code",
    "id": "rf0Ib729fAEe",
    "outputId": "058babf7-049d-4a23-eb6d-a4456702a6a1"
   },
   "outputs": [
    {
     "data": {
      "text/html": [
       "<div>\n",
       "<style scoped>\n",
       "    .dataframe tbody tr th:only-of-type {\n",
       "        vertical-align: middle;\n",
       "    }\n",
       "\n",
       "    .dataframe tbody tr th {\n",
       "        vertical-align: top;\n",
       "    }\n",
       "\n",
       "    .dataframe thead th {\n",
       "        text-align: right;\n",
       "    }\n",
       "</style>\n",
       "<table border=\"1\" class=\"dataframe\">\n",
       "  <thead>\n",
       "    <tr style=\"text-align: right;\">\n",
       "      <th></th>\n",
       "      <th>Learner_ID</th>\n",
       "      <th>Quiz1</th>\n",
       "      <th>Quiz2</th>\n",
       "      <th>Quiz3</th>\n",
       "      <th>Quiz4</th>\n",
       "      <th>Quiz5</th>\n",
       "      <th>Quiz6</th>\n",
       "      <th>Quiz7</th>\n",
       "      <th>Total_Score</th>\n",
       "      <th>Group_ID</th>\n",
       "      <th>Learner_Category</th>\n",
       "    </tr>\n",
       "  </thead>\n",
       "  <tbody>\n",
       "    <tr>\n",
       "      <th>0</th>\n",
       "      <td>AB1</td>\n",
       "      <td>10</td>\n",
       "      <td>10</td>\n",
       "      <td>8</td>\n",
       "      <td>9</td>\n",
       "      <td>10</td>\n",
       "      <td>10</td>\n",
       "      <td>10</td>\n",
       "      <td>67</td>\n",
       "      <td>AB_G1</td>\n",
       "      <td>Absolute Beginner</td>\n",
       "    </tr>\n",
       "    <tr>\n",
       "      <th>1</th>\n",
       "      <td>AB2</td>\n",
       "      <td>10</td>\n",
       "      <td>10</td>\n",
       "      <td>10</td>\n",
       "      <td>9</td>\n",
       "      <td>10</td>\n",
       "      <td>9.09</td>\n",
       "      <td>-</td>\n",
       "      <td>58.09</td>\n",
       "      <td>AB_G1</td>\n",
       "      <td>Absolute Beginner</td>\n",
       "    </tr>\n",
       "    <tr>\n",
       "      <th>2</th>\n",
       "      <td>AB3</td>\n",
       "      <td>-</td>\n",
       "      <td>-</td>\n",
       "      <td>-</td>\n",
       "      <td>-</td>\n",
       "      <td>-</td>\n",
       "      <td>-</td>\n",
       "      <td>-</td>\n",
       "      <td>-</td>\n",
       "      <td>AB_G1</td>\n",
       "      <td>Absolute Beginner</td>\n",
       "    </tr>\n",
       "    <tr>\n",
       "      <th>3</th>\n",
       "      <td>AB4</td>\n",
       "      <td>-</td>\n",
       "      <td>-</td>\n",
       "      <td>-</td>\n",
       "      <td>-</td>\n",
       "      <td>-</td>\n",
       "      <td>-</td>\n",
       "      <td>-</td>\n",
       "      <td>-</td>\n",
       "      <td>AB_G1</td>\n",
       "      <td>Absolute Beginner</td>\n",
       "    </tr>\n",
       "    <tr>\n",
       "      <th>4</th>\n",
       "      <td>AB5</td>\n",
       "      <td>10</td>\n",
       "      <td>10</td>\n",
       "      <td>9</td>\n",
       "      <td>9</td>\n",
       "      <td>10</td>\n",
       "      <td>8.18</td>\n",
       "      <td>10</td>\n",
       "      <td>66.18</td>\n",
       "      <td>AB_G1</td>\n",
       "      <td>Absolute Beginner</td>\n",
       "    </tr>\n",
       "  </tbody>\n",
       "</table>\n",
       "</div>"
      ],
      "text/plain": [
       "  Learner_ID Quiz1 Quiz2 Quiz3 Quiz4 Quiz5 Quiz6 Quiz7 Total_Score Group_ID  \\\n",
       "0        AB1    10    10     8     9    10    10    10          67    AB_G1   \n",
       "1        AB2    10    10    10     9    10  9.09     -       58.09    AB_G1   \n",
       "2        AB3     -     -     -     -     -     -     -           -    AB_G1   \n",
       "3        AB4     -     -     -     -     -     -     -           -    AB_G1   \n",
       "4        AB5    10    10     9     9    10  8.18    10       66.18    AB_G1   \n",
       "\n",
       "    Learner_Category  \n",
       "0  Absolute Beginner  \n",
       "1  Absolute Beginner  \n",
       "2  Absolute Beginner  \n",
       "3  Absolute Beginner  \n",
       "4  Absolute Beginner  "
      ]
     },
     "execution_count": 2,
     "metadata": {},
     "output_type": "execute_result"
    }
   ],
   "source": [
    "# Load dataset from CSV File\n",
    "\n",
    "df = pd.read_csv(\"DPhi - Learners - Beginners & Absolute Beginners - Real Dataset - DPhi_Learners.csv\")\n",
    "df.head()"
   ]
  },
  {
   "cell_type": "markdown",
   "metadata": {
    "colab_type": "text",
    "id": "3xQ0_l5nhTce"
   },
   "source": [
    "**Question 1**: Fill all the missing values with 0. (Treat '-' as missing values)"
   ]
  },
  {
   "cell_type": "code",
   "execution_count": 3,
   "metadata": {
    "colab": {},
    "colab_type": "code",
    "id": "giUGdapGgln8",
    "outputId": "db9b95b1-e9c1-4db4-c890-e51ec6efa0c9"
   },
   "outputs": [
    {
     "data": {
      "text/html": [
       "<div>\n",
       "<style scoped>\n",
       "    .dataframe tbody tr th:only-of-type {\n",
       "        vertical-align: middle;\n",
       "    }\n",
       "\n",
       "    .dataframe tbody tr th {\n",
       "        vertical-align: top;\n",
       "    }\n",
       "\n",
       "    .dataframe thead th {\n",
       "        text-align: right;\n",
       "    }\n",
       "</style>\n",
       "<table border=\"1\" class=\"dataframe\">\n",
       "  <thead>\n",
       "    <tr style=\"text-align: right;\">\n",
       "      <th></th>\n",
       "      <th>Learner_ID</th>\n",
       "      <th>Quiz1</th>\n",
       "      <th>Quiz2</th>\n",
       "      <th>Quiz3</th>\n",
       "      <th>Quiz4</th>\n",
       "      <th>Quiz5</th>\n",
       "      <th>Quiz6</th>\n",
       "      <th>Quiz7</th>\n",
       "      <th>Total_Score</th>\n",
       "      <th>Group_ID</th>\n",
       "      <th>Learner_Category</th>\n",
       "    </tr>\n",
       "  </thead>\n",
       "  <tbody>\n",
       "    <tr>\n",
       "      <th>0</th>\n",
       "      <td>AB1</td>\n",
       "      <td>10</td>\n",
       "      <td>10</td>\n",
       "      <td>8</td>\n",
       "      <td>9</td>\n",
       "      <td>10</td>\n",
       "      <td>10</td>\n",
       "      <td>10</td>\n",
       "      <td>67</td>\n",
       "      <td>AB_G1</td>\n",
       "      <td>Absolute Beginner</td>\n",
       "    </tr>\n",
       "    <tr>\n",
       "      <th>1</th>\n",
       "      <td>AB2</td>\n",
       "      <td>10</td>\n",
       "      <td>10</td>\n",
       "      <td>10</td>\n",
       "      <td>9</td>\n",
       "      <td>10</td>\n",
       "      <td>9.09</td>\n",
       "      <td>0</td>\n",
       "      <td>58.09</td>\n",
       "      <td>AB_G1</td>\n",
       "      <td>Absolute Beginner</td>\n",
       "    </tr>\n",
       "    <tr>\n",
       "      <th>2</th>\n",
       "      <td>AB3</td>\n",
       "      <td>0</td>\n",
       "      <td>0</td>\n",
       "      <td>0</td>\n",
       "      <td>0</td>\n",
       "      <td>0</td>\n",
       "      <td>0</td>\n",
       "      <td>0</td>\n",
       "      <td>0</td>\n",
       "      <td>AB_G1</td>\n",
       "      <td>Absolute Beginner</td>\n",
       "    </tr>\n",
       "    <tr>\n",
       "      <th>3</th>\n",
       "      <td>AB4</td>\n",
       "      <td>0</td>\n",
       "      <td>0</td>\n",
       "      <td>0</td>\n",
       "      <td>0</td>\n",
       "      <td>0</td>\n",
       "      <td>0</td>\n",
       "      <td>0</td>\n",
       "      <td>0</td>\n",
       "      <td>AB_G1</td>\n",
       "      <td>Absolute Beginner</td>\n",
       "    </tr>\n",
       "    <tr>\n",
       "      <th>4</th>\n",
       "      <td>AB5</td>\n",
       "      <td>10</td>\n",
       "      <td>10</td>\n",
       "      <td>9</td>\n",
       "      <td>9</td>\n",
       "      <td>10</td>\n",
       "      <td>8.18</td>\n",
       "      <td>10</td>\n",
       "      <td>66.18</td>\n",
       "      <td>AB_G1</td>\n",
       "      <td>Absolute Beginner</td>\n",
       "    </tr>\n",
       "  </tbody>\n",
       "</table>\n",
       "</div>"
      ],
      "text/plain": [
       "  Learner_ID Quiz1 Quiz2 Quiz3 Quiz4 Quiz5 Quiz6 Quiz7 Total_Score Group_ID  \\\n",
       "0        AB1    10    10     8     9    10    10    10          67    AB_G1   \n",
       "1        AB2    10    10    10     9    10  9.09     0       58.09    AB_G1   \n",
       "2        AB3     0     0     0     0     0     0     0           0    AB_G1   \n",
       "3        AB4     0     0     0     0     0     0     0           0    AB_G1   \n",
       "4        AB5    10    10     9     9    10  8.18    10       66.18    AB_G1   \n",
       "\n",
       "    Learner_Category  \n",
       "0  Absolute Beginner  \n",
       "1  Absolute Beginner  \n",
       "2  Absolute Beginner  \n",
       "3  Absolute Beginner  \n",
       "4  Absolute Beginner  "
      ]
     },
     "execution_count": 3,
     "metadata": {},
     "output_type": "execute_result"
    }
   ],
   "source": [
    "# replace \"-\" by 0\n",
    "\n",
    "df = df.replace(\"-\", 0)\n",
    "df.head()"
   ]
  },
  {
   "cell_type": "code",
   "execution_count": 4,
   "metadata": {
    "colab": {},
    "colab_type": "code",
    "id": "Qq_wzRD1i7ID",
    "outputId": "d315d408-2016-4479-fc8c-741d7db09dbd"
   },
   "outputs": [
    {
     "data": {
      "text/html": [
       "<div>\n",
       "<style scoped>\n",
       "    .dataframe tbody tr th:only-of-type {\n",
       "        vertical-align: middle;\n",
       "    }\n",
       "\n",
       "    .dataframe tbody tr th {\n",
       "        vertical-align: top;\n",
       "    }\n",
       "\n",
       "    .dataframe thead th {\n",
       "        text-align: right;\n",
       "    }\n",
       "</style>\n",
       "<table border=\"1\" class=\"dataframe\">\n",
       "  <thead>\n",
       "    <tr style=\"text-align: right;\">\n",
       "      <th></th>\n",
       "      <th>Learner_ID</th>\n",
       "      <th>Quiz1</th>\n",
       "      <th>Quiz2</th>\n",
       "      <th>Quiz3</th>\n",
       "      <th>Quiz4</th>\n",
       "      <th>Quiz5</th>\n",
       "      <th>Quiz6</th>\n",
       "      <th>Quiz7</th>\n",
       "      <th>Total_Score</th>\n",
       "      <th>Group_ID</th>\n",
       "      <th>Learner_Category</th>\n",
       "    </tr>\n",
       "  </thead>\n",
       "  <tbody>\n",
       "    <tr>\n",
       "      <th>0</th>\n",
       "      <td>AB1</td>\n",
       "      <td>10</td>\n",
       "      <td>10.0</td>\n",
       "      <td>8</td>\n",
       "      <td>9</td>\n",
       "      <td>10</td>\n",
       "      <td>10.00</td>\n",
       "      <td>10.0</td>\n",
       "      <td>67.00</td>\n",
       "      <td>AB_G1</td>\n",
       "      <td>Absolute Beginner</td>\n",
       "    </tr>\n",
       "    <tr>\n",
       "      <th>1</th>\n",
       "      <td>AB2</td>\n",
       "      <td>10</td>\n",
       "      <td>10.0</td>\n",
       "      <td>10</td>\n",
       "      <td>9</td>\n",
       "      <td>10</td>\n",
       "      <td>9.09</td>\n",
       "      <td>0.0</td>\n",
       "      <td>58.09</td>\n",
       "      <td>AB_G1</td>\n",
       "      <td>Absolute Beginner</td>\n",
       "    </tr>\n",
       "    <tr>\n",
       "      <th>2</th>\n",
       "      <td>AB3</td>\n",
       "      <td>0</td>\n",
       "      <td>0.0</td>\n",
       "      <td>0</td>\n",
       "      <td>0</td>\n",
       "      <td>0</td>\n",
       "      <td>0.00</td>\n",
       "      <td>0.0</td>\n",
       "      <td>0.00</td>\n",
       "      <td>AB_G1</td>\n",
       "      <td>Absolute Beginner</td>\n",
       "    </tr>\n",
       "    <tr>\n",
       "      <th>3</th>\n",
       "      <td>AB4</td>\n",
       "      <td>0</td>\n",
       "      <td>0.0</td>\n",
       "      <td>0</td>\n",
       "      <td>0</td>\n",
       "      <td>0</td>\n",
       "      <td>0.00</td>\n",
       "      <td>0.0</td>\n",
       "      <td>0.00</td>\n",
       "      <td>AB_G1</td>\n",
       "      <td>Absolute Beginner</td>\n",
       "    </tr>\n",
       "    <tr>\n",
       "      <th>4</th>\n",
       "      <td>AB5</td>\n",
       "      <td>10</td>\n",
       "      <td>10.0</td>\n",
       "      <td>9</td>\n",
       "      <td>9</td>\n",
       "      <td>10</td>\n",
       "      <td>8.18</td>\n",
       "      <td>10.0</td>\n",
       "      <td>66.18</td>\n",
       "      <td>AB_G1</td>\n",
       "      <td>Absolute Beginner</td>\n",
       "    </tr>\n",
       "  </tbody>\n",
       "</table>\n",
       "</div>"
      ],
      "text/plain": [
       "  Learner_ID  Quiz1  Quiz2  Quiz3  Quiz4  Quiz5  Quiz6  Quiz7  Total_Score  \\\n",
       "0        AB1     10   10.0      8      9     10  10.00   10.0        67.00   \n",
       "1        AB2     10   10.0     10      9     10   9.09    0.0        58.09   \n",
       "2        AB3      0    0.0      0      0      0   0.00    0.0         0.00   \n",
       "3        AB4      0    0.0      0      0      0   0.00    0.0         0.00   \n",
       "4        AB5     10   10.0      9      9     10   8.18   10.0        66.18   \n",
       "\n",
       "  Group_ID   Learner_Category  \n",
       "0    AB_G1  Absolute Beginner  \n",
       "1    AB_G1  Absolute Beginner  \n",
       "2    AB_G1  Absolute Beginner  \n",
       "3    AB_G1  Absolute Beginner  \n",
       "4    AB_G1  Absolute Beginner  "
      ]
     },
     "execution_count": 4,
     "metadata": {},
     "output_type": "execute_result"
    }
   ],
   "source": [
    "# Quiz score columns are categorical in nature, convert it to numerical\n",
    "# Your code goes here\n",
    "\n",
    "cols = df.columns.drop(['Learner_ID', 'Group_ID', 'Learner_Category'])\n",
    "df[cols] = df[cols].apply(pd.to_numeric)\n",
    "\n",
    "df.head()"
   ]
  },
  {
   "cell_type": "markdown",
   "metadata": {
    "colab_type": "text",
    "id": "U0Un_PFjjx7O"
   },
   "source": [
    "**Question 2:** Create a plot that would visualize the count of learners in each group and add a legend that would identify the learner catgory."
   ]
  },
  {
   "cell_type": "code",
   "execution_count": 5,
   "metadata": {
    "colab": {},
    "colab_type": "code",
    "id": "1mcpQhSQgloF",
    "outputId": "b9b53e19-cc2e-40f9-a950-065ed8f5eef8"
   },
   "outputs": [
    {
     "data": {
      "text/plain": [
       "<seaborn.axisgrid.FacetGrid at 0x17b71b4e548>"
      ]
     },
     "execution_count": 5,
     "metadata": {},
     "output_type": "execute_result"
    },
    {
     "data": {
      "image/png": "[encoded data removed]",
      "text/plain": [
       "<Figure size 648x432 with 2 Axes>"
      ]
     },
     "metadata": {
      "needs_background": "light"
     },
     "output_type": "display_data"
    }
   ],
   "source": [
    "bars = sns.catplot(\n",
    "    data = df[df['Learner_Category'].isin(['Absolute Beginner', 'Beginner'])],\n",
    "    x = 'Group_ID',\n",
    "    kind = 'count',\n",
    "    row = 'Learner_Category',\n",
    "    aspect = 3,\n",
    "    height = 3,\n",
    "    ci = None\n",
    ")\n",
    "bars.set_titles('Count of Students in Each Group in Each Category')\n",
    "bars.set_xticklabels(rotation = 65, horizontalalignment = 'center')\n",
    "bars.set_axis_labels(\"Group ID\")"
   ]
  },
  {
   "cell_type": "markdown",
   "metadata": {
    "colab_type": "text",
    "id": "1LjKBMo5kCkB"
   },
   "source": [
    "***Write your inferences here:***\n",
    "\n",
    "\n",
    "\n",
    "*1.   All the Beginner groups have more or less 80 students.*\n",
    "\n",
    "*2.   All the Absolute Beginner groups have around 35 students except for AB_G19. AB_G19 seems to have around 60 students.*\n",
    "\n",
    "\n",
    "\n"
   ]
  },
  {
   "cell_type": "markdown",
   "metadata": {
    "colab_type": "text",
    "id": "hzB1Bcy4kj9B"
   },
   "source": [
    "**Question 3:** Visualize the distribution of Total_Scores scored by each category of learners and share your inferences.\n",
    " \n",
    "**Note:** You must ignore quiz score values = 0 while sharing your inferences as it is filled by us in Question 1  "
   ]
  },
  {
   "cell_type": "code",
   "execution_count": 6,
   "metadata": {
    "colab": {},
    "colab_type": "code",
    "id": "pCC42JsIgloK",
    "outputId": "51f99ec9-ff92-4200-d9ff-c06321a8a58f"
   },
   "outputs": [
    {
     "data": {
      "text/plain": [
       "Learner_Category\n",
       "Beginner             15419.99\n",
       "Absolute Beginner    12523.50\n",
       "Name: Total_Score, dtype: float64"
      ]
     },
     "execution_count": 6,
     "metadata": {},
     "output_type": "execute_result"
    }
   ],
   "source": [
    "# What the numbers of total score by each category looks like?\n",
    "\n",
    "df_cat = df.groupby(['Learner_Category'])[\"Total_Score\"].sum().sort_values(ascending = False)\n",
    "df_cat"
   ]
  },
  {
   "cell_type": "code",
   "execution_count": 7,
   "metadata": {
    "colab": {},
    "colab_type": "code",
    "id": "Ff4sVwr-gloO",
    "outputId": "730a78f8-c0bb-40d2-fdae-f6c107d83604"
   },
   "outputs": [
    {
     "data": {
      "image/png": "[encoded data removed]",
      "text/plain": [
       "<Figure size 432x288 with 1 Axes>"
      ]
     },
     "metadata": {
      "needs_background": "light"
     },
     "output_type": "display_data"
    }
   ],
   "source": [
    "# let's plot!\n",
    "\n",
    "plt.figure(figsize = [6, 4])\n",
    "\n",
    "# change the bar color to be less bright blue\n",
    "bars = plt.bar(df_cat.index, df_cat.values, align = 'center', linewidth = 0, color = 'mediumseagreen')\n",
    "\n",
    "# set up the plt title\n",
    "plt.title('Total Score by Each Category', alpha = 0.8, fontsize = 13)\n",
    "\n",
    "# remove all the ticks (both axes), and tick labels on the Y axis\n",
    "plt.yticks([])\n",
    "\n",
    "# remove frame on all sides\n",
    "for spine in plt.gca().spines.values():\n",
    "    spine.set_visible(False) \n",
    "\n",
    "# direct label each bar with Y axis values\n",
    "for bar in bars:\n",
    "    height = bar.get_height()\n",
    "    plt.gca().text(bar.get_x() + bar.get_width()/2, bar.get_height() - 5000, str(int(height)), \n",
    "                 ha ='center', color = 'black', fontsize = 10)\n",
    "\n",
    "plt.show()"
   ]
  },
  {
   "cell_type": "markdown",
   "metadata": {
    "colab_type": "text",
    "id": "LFg4meVnlJAJ"
   },
   "source": [
    "***Write your inferences here:***\n",
    "\n",
    "\n",
    "*1.   The students of \"Beginner\" group seems to perform better in the quizzes than the other group.*\n",
    "\n",
    "*2.   The total score of the \"Absolute Beginner\" group is 12523 which is 2896 less than the \"Beginner\" group.*\n",
    "\n"
   ]
  },
  {
   "cell_type": "markdown",
   "metadata": {
    "colab_type": "text",
    "id": "WO1KyDyik-Ey"
   },
   "source": [
    "**Question 4:** Visualize/draw the trends of mean score of quizzes scored by different groups of learners (there are 19 groups) of the \"absolute beginner\" learner category."
   ]
  },
  {
   "cell_type": "code",
   "execution_count": 8,
   "metadata": {
    "colab": {},
    "colab_type": "code",
    "id": "YFpCicSIlh7c",
    "outputId": "736a60d0-2155-472e-dbe0-348d5c53b677"
   },
   "outputs": [
    {
     "data": {
      "image/png": "[encoded data removed]",
      "text/plain": [
       "<Figure size 1080x360 with 1 Axes>"
      ]
     },
     "metadata": {
      "needs_background": "light"
     },
     "output_type": "display_data"
    }
   ],
   "source": [
    "# Your code goes here\n",
    "\n",
    "df_new = df[df['Learner_Category'] == 'Absolute Beginner']\n",
    "label = df_new.groupby(['Group_ID'])[\"Total_Score\"].mean().sort_values(ascending = False).index\n",
    "\n",
    "plt.figure(figsize = [15, 5])\n",
    "\n",
    "bar2 = df_new.groupby(['Group_ID'])[\"Total_Score\"].mean().sort_values(ascending = False).plot.bar(color = 'lightseagreen', align = 'center')\n",
    "\n",
    "bar2.set_title('Mean Score by the Groups in \"Absolute Beginner\" Category')\n",
    "bar2.set_xticklabels(rotation = 45, horizontalalignment = 'center', labels = label)\n",
    "\n",
    "bar2.spines['right'].set_visible(False) \n",
    "bar2.spines['top'].set_visible(False)\n",
    "\n",
    "plt.show()"
   ]
  },
  {
   "cell_type": "markdown",
   "metadata": {
    "colab_type": "text",
    "id": "NP_67MFLls9X"
   },
   "source": [
    "***Write your inference here:***\n",
    "\n",
    "\n",
    "*1. The mean score of the top three groups (AB_G4, AB_G5, AB_G1) are between 25-30.*  \n",
    "\n",
    "*2. The lowest value of the group mean is around 17 which belongs to AB_G2.*\n",
    "\n"
   ]
  },
  {
   "cell_type": "markdown",
   "metadata": {
    "colab_type": "text",
    "id": "TDRmfIN7lmAJ"
   },
   "source": [
    "**Question 5:** Visualize/draw the trends of mean score of quizzes scored by different groups of learners of the \"beginner\" learner category."
   ]
  },
  {
   "cell_type": "code",
   "execution_count": 9,
   "metadata": {
    "colab": {},
    "colab_type": "code",
    "id": "6OTHJhwBl6Vx",
    "outputId": "f2a67dea-6444-4755-93e0-9b6ae70d181e"
   },
   "outputs": [
    {
     "data": {
      "image/png": "[encoded data removed]",
      "text/plain": [
       "<Figure size 864x360 with 1 Axes>"
      ]
     },
     "metadata": {
      "needs_background": "light"
     },
     "output_type": "display_data"
    }
   ],
   "source": [
    "# Your code goes here\n",
    "\n",
    "df_new2 = df[df['Learner_Category'] == 'Beginner']\n",
    "label = df_new2.groupby(['Group_ID'])[\"Total_Score\"].mean().sort_values(ascending = False).index\n",
    "\n",
    "plt.figure(figsize = [12, 5])\n",
    "\n",
    "bar3 = df_new2.groupby(['Group_ID'])[\"Total_Score\"].mean().sort_values(ascending = False).plot.bar(color = 'seagreen', align = 'center')\n",
    "\n",
    "bar3.set_title('Mean Score by the Groups in \"Beginner\" Category')\n",
    "bar3.set_xticklabels(rotation = 45, horizontalalignment = 'center', labels = label)\n",
    "\n",
    "bar3.spines['right'].set_visible(False) \n",
    "bar3.spines['top'].set_visible(False)\n",
    "\n",
    "plt.show()"
   ]
  },
  {
   "cell_type": "markdown",
   "metadata": {
    "colab_type": "text",
    "id": "i4_1HmDUl89s"
   },
   "source": [
    "***Write your inference here:***\n",
    "\n",
    "\n",
    "*1. The mean score of the top three groups (B_8, B_4, B_3) are between 22-30.*  \n",
    "\n",
    "*2. The lowest value of the group mean is around 17 which belongs to B_7.*   "
   ]
  },
  {
   "cell_type": "markdown",
   "metadata": {
    "colab_type": "text",
    "id": "gpSTdFfwmEvJ"
   },
   "source": [
    "**Question 6:** Put your creative hats on and come up with any other intresting visualizations if you can. Play with the datset as much as you can, it is yours (yes, literally)!"
   ]
  },
  {
   "cell_type": "markdown",
   "metadata": {
    "colab_type": "text",
    "id": "CJ1l6l1Lglod"
   },
   "source": [
    "Let's say we want to see how the students are doing in the quizzes based on the total number they secured in all 7 of them. Let's plot a histogram first. "
   ]
  },
  {
   "cell_type": "code",
   "execution_count": 10,
   "metadata": {
    "colab": {},
    "colab_type": "code",
    "id": "tXLcICw3glof",
    "outputId": "af890c1f-328c-4e4e-f3b9-8da3be40ea33"
   },
   "outputs": [
    {
     "data": {
      "text/plain": [
       "Text(0.5, 1.0, 'Visualization of Number of Students and their Total Score')"
      ]
     },
     "execution_count": 10,
     "metadata": {},
     "output_type": "execute_result"
    },
    {
     "data": {
      "image/png": "[encoded data removed]",
      "text/plain": [
       "<Figure size 432x288 with 1 Axes>"
      ]
     },
     "metadata": {
      "needs_background": "light"
     },
     "output_type": "display_data"
    }
   ],
   "source": [
    "plt.hist(df[\"Total_Score\"])\n",
    "\n",
    "# set x/y labels and plot title\n",
    "plt.xlabel(\"Total Score of the Quizzes\")\n",
    "plt.ylabel(\"Number of Students (Count)\")\n",
    "plt.title(\"Visualization of Number of Students and their Total Score\")"
   ]
  },
  {
   "cell_type": "markdown",
   "metadata": {
    "colab_type": "text",
    "id": "xHA0XduXgloi"
   },
   "source": [
    "Aparently, it's not clear how many students fall into a specific set of groups where we can define the score ranges.\n",
    "\n",
    "Let's try to use binning method and make the visualization more interpretable. "
   ]
  },
  {
   "cell_type": "code",
   "execution_count": 11,
   "metadata": {
    "colab": {},
    "colab_type": "code",
    "id": "w5xOZDEUmNrh",
    "outputId": "51c23d3c-01ce-46cf-df3a-4248dfd5ac1d"
   },
   "outputs": [
    {
     "data": {
      "text/plain": [
       "array([ 0.  , 13.91, 27.82, 41.73, 55.64, 69.55])"
      ]
     },
     "execution_count": 11,
     "metadata": {},
     "output_type": "execute_result"
    }
   ],
   "source": [
    "# we want 5 bins of scores here\n",
    "\n",
    "bins = np.linspace(min(df[\"Total_Score\"]), max(df[\"Total_Score\"]), 6)\n",
    "bins"
   ]
  },
  {
   "cell_type": "code",
   "execution_count": 12,
   "metadata": {
    "colab": {},
    "colab_type": "code",
    "id": "YrVvpVubglon"
   },
   "outputs": [],
   "source": [
    "# let's give the bins/groups some idenfyable names\n",
    "\n",
    "group_names = ['Need Improvement' ,'Fair', 'Good', 'Excellent', 'Boss!']"
   ]
  },
  {
   "cell_type": "code",
   "execution_count": 13,
   "metadata": {
    "colab": {},
    "colab_type": "code",
    "id": "bybjZFNDglor",
    "outputId": "14a575c0-8c6f-4ae7-d124-2bebc498ffc0"
   },
   "outputs": [
    {
     "data": {
      "text/html": [
       "<div>\n",
       "<style scoped>\n",
       "    .dataframe tbody tr th:only-of-type {\n",
       "        vertical-align: middle;\n",
       "    }\n",
       "\n",
       "    .dataframe tbody tr th {\n",
       "        vertical-align: top;\n",
       "    }\n",
       "\n",
       "    .dataframe thead th {\n",
       "        text-align: right;\n",
       "    }\n",
       "</style>\n",
       "<table border=\"1\" class=\"dataframe\">\n",
       "  <thead>\n",
       "    <tr style=\"text-align: right;\">\n",
       "      <th></th>\n",
       "      <th>Total_Score</th>\n",
       "      <th>Groups_Score</th>\n",
       "    </tr>\n",
       "  </thead>\n",
       "  <tbody>\n",
       "    <tr>\n",
       "      <th>0</th>\n",
       "      <td>67.00</td>\n",
       "      <td>Boss!</td>\n",
       "    </tr>\n",
       "    <tr>\n",
       "      <th>1</th>\n",
       "      <td>58.09</td>\n",
       "      <td>Boss!</td>\n",
       "    </tr>\n",
       "    <tr>\n",
       "      <th>2</th>\n",
       "      <td>0.00</td>\n",
       "      <td>Need Improvement</td>\n",
       "    </tr>\n",
       "    <tr>\n",
       "      <th>3</th>\n",
       "      <td>0.00</td>\n",
       "      <td>Need Improvement</td>\n",
       "    </tr>\n",
       "    <tr>\n",
       "      <th>4</th>\n",
       "      <td>66.18</td>\n",
       "      <td>Boss!</td>\n",
       "    </tr>\n",
       "  </tbody>\n",
       "</table>\n",
       "</div>"
      ],
      "text/plain": [
       "   Total_Score      Groups_Score\n",
       "0        67.00             Boss!\n",
       "1        58.09             Boss!\n",
       "2         0.00  Need Improvement\n",
       "3         0.00  Need Improvement\n",
       "4        66.18             Boss!"
      ]
     },
     "execution_count": 13,
     "metadata": {},
     "output_type": "execute_result"
    }
   ],
   "source": [
    "#Let's put each of students into a specific group that we just defined. \n",
    "\n",
    "df['Groups_Score'] = pd.cut(df['Total_Score'], bins, labels = group_names, include_lowest = True )\n",
    "df[['Total_Score','Groups_Score']].head()"
   ]
  },
  {
   "cell_type": "code",
   "execution_count": 14,
   "metadata": {
    "colab": {},
    "colab_type": "code",
    "id": "fl18Q6dLglov",
    "outputId": "d8c462fd-b010-4a8c-e04e-f9d751b15ee2"
   },
   "outputs": [
    {
     "data": {
      "text/plain": [
       "Need Improvement    859\n",
       "Excellent           235\n",
       "Boss!               175\n",
       "Good                 90\n",
       "Fair                 88\n",
       "Name: Groups_Score, dtype: int64"
      ]
     },
     "execution_count": 14,
     "metadata": {},
     "output_type": "execute_result"
    }
   ],
   "source": [
    "# how many students fall into each group??\n",
    "\n",
    "df[\"Groups_Score\"].value_counts()"
   ]
  },
  {
   "cell_type": "markdown",
   "metadata": {
    "colab_type": "text",
    "id": "CDu4QeE6gloz"
   },
   "source": [
    "#### Let's plot the final results! "
   ]
  },
  {
   "cell_type": "code",
   "execution_count": 15,
   "metadata": {
    "colab": {},
    "colab_type": "code",
    "id": "pgVOYZbWglo0",
    "outputId": "1d5d8e18-ebc6-45f1-b484-9d8629fa4d3c"
   },
   "outputs": [
    {
     "data": {
      "text/plain": [
       "Text(0.5, 1.0, 'Binned Student Performance')"
      ]
     },
     "execution_count": 15,
     "metadata": {},
     "output_type": "execute_result"
    },
    {
     "data": {
      "image/png": "[encoded data removed]",
      "text/plain": [
       "<Figure size 432x288 with 1 Axes>"
      ]
     },
     "metadata": {
      "needs_background": "light"
     },
     "output_type": "display_data"
    }
   ],
   "source": [
    "plt.bar(group_names, df[\"Groups_Score\"].value_counts())\n",
    "\n",
    "\n",
    "plt.ylabel(\"Student Count\")\n",
    "plt.title(\"Binned Student Performance\")"
   ]
  },
  {
   "cell_type": "markdown",
   "metadata": {
    "colab_type": "text",
    "id": "0sf4v-R4glo_"
   },
   "source": [
    "We could have some idea about the mean score sof each group from the following boxplot. "
   ]
  },
  {
   "cell_type": "code",
   "execution_count": 16,
   "metadata": {
    "colab": {},
    "colab_type": "code",
    "id": "XuIyF84xglpA",
    "outputId": "e9750450-ed84-4af8-d50e-417816d3b890"
   },
   "outputs": [
    {
     "data": {
      "image/png": "[encoded data removed]",
      "text/plain": [
       "<Figure size 432x288 with 1 Axes>"
      ]
     },
     "metadata": {
      "needs_background": "light"
     },
     "output_type": "display_data"
    }
   ],
   "source": [
    "ax = sns.boxplot(x =\"Groups_Score\", y = \"Total_Score\", data = df)"
   ]
  },
  {
   "cell_type": "markdown",
   "metadata": {
    "colab_type": "text",
    "id": "MQlmI-IAglpD"
   },
   "source": [
    "Thanks coaches for all your hard work! Love yoy guys! <3 \n",
    "\n",
    "-- Sumaia"
   ]
  }
 ],
 "metadata": {
  "colab": {
   "name": "Intermediate_Advance_Assignment_1_Submission_format.ipynb",
   "provenance": []
  },
  "kernelspec": {
   "display_name": "Python 3",
   "language": "python",
   "name": "python3"
  },
  "language_info": {
   "codemirror_mode": {
    "name": "ipython",
    "version": 3
   },
   "file_extension": ".py",
   "mimetype": "text/x-python",
   "name": "python",
   "nbconvert_exporter": "python",
   "pygments_lexer": "ipython3",
   "version": "3.7.6"
  }
 },
 "nbformat": 4,
 "nbformat_minor": 4
}
