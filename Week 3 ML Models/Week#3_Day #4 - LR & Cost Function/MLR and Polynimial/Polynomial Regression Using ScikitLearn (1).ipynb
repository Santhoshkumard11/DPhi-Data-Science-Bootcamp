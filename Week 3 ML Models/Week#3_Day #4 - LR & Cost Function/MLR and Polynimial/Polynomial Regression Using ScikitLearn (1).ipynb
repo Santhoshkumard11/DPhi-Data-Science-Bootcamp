{
 "cells": [
  {
   "cell_type": "markdown",
   "metadata": {},
   "source": [
    "# Polynomial Regression With ScikitLearn\n",
    "**Author**: Tan Li Tung"
   ]
  },
  {
   "cell_type": "markdown",
   "metadata": {},
   "source": [
    "**Machine learning** is a method used to iteratively learn from data without being explicitly programmed by humans. It is very useful when we want to find a pattern that lies within a large dataset.\n",
    "\n",
    "There are two types of machine learning problem, which are the **Regression** and **Classification** problem. In short, regression problem returns a value (example: the extimated price of a house), while classfication problem returns a category (exmaple: cat or dog).\n",
    "\n",
    "In this notebook, we will focus on **Linear Regression** using a library called `ScikitLearn`.\n",
    "\n",
    "This notebook is divided into 2 parts:\n",
    "1. Linear regression for a simple `y = mx + c` problem.\n",
    "2. Linear regression for polynomial."
   ]
  },
  {
   "cell_type": "markdown",
   "metadata": {},
   "source": [
    "## Section 1: Linear Regression for y = mx + c"
   ]
  },
  {
   "cell_type": "code",
   "execution_count": 1,
   "metadata": {},
   "outputs": [],
   "source": [
    "# libraries for random number\n",
    "from random import seed\n",
    "from random import random\n",
    "\n",
    "# libraries for numerical\n",
    "import pandas as pd  \n",
    "import numpy as np \n",
    "import operator\n",
    "\n",
    "# libraries for visualization\n",
    "import matplotlib.pyplot as plt  \n",
    "import seaborn as sns\n",
    "\n",
    "# libraries for machine learning\n",
    "from sklearn.model_selection import train_test_split \n",
    "from sklearn.linear_model import LinearRegression\n",
    "from sklearn.metrics import mean_squared_error, r2_score\n",
    "from sklearn.preprocessing import PolynomialFeatures\n",
    "from sklearn import metrics\n",
    "\n",
    "# to plot the diagrams within the cells\n",
    "%matplotlib inline"
   ]
  },
  {
   "cell_type": "markdown",
   "metadata": {},
   "source": [
    "In the first part, we will examine a simple linear problem.\n",
    "In general, a linear equation can be expressed by:\n",
    "$$y = mx + c$$\n",
    "\n",
    "In the first part, we will create a model that can find out the coefficient `m` and intercept `c`.\n",
    "We will use the equation: $$y = 2x + 1$$ for this section.\n",
    "\n",
    "To add some complexity, let's create some noise to the function."
   ]
  },
  {
   "cell_type": "code",
   "execution_count": 2,
   "metadata": {},
   "outputs": [
    {
     "name": "stdout",
     "output_type": "stream",
     "text": [
      "x:  [ 1  2  3  4  5  6  7  8  9 10]\n",
      "y:  [ 2.34952414  5.03394754  7.02756272  8.60862357 10.14849019 13.908339\n",
      " 14.75610283 16.8558573  19.4042343  21.18921145]\n"
     ]
    }
   ],
   "source": [
    "x = np.array([1, 2, 3, 4, 5, 6, 7, 8, 9, 10])\n",
    "noise = np.random.uniform(-1, 1, 10)\n",
    "y = np.array(2 * x + 1 + noise)\n",
    "print(\"x: \", x)\n",
    "print(\"y: \", y)"
   ]
  },
  {
   "cell_type": "code",
   "execution_count": 3,
   "metadata": {},
   "outputs": [
    {
     "data": {
      "text/html": [
       "<div>\n",
       "<style scoped>\n",
       "    .dataframe tbody tr th:only-of-type {\n",
       "        vertical-align: middle;\n",
       "    }\n",
       "\n",
       "    .dataframe tbody tr th {\n",
       "        vertical-align: top;\n",
       "    }\n",
       "\n",
       "    .dataframe thead th {\n",
       "        text-align: right;\n",
       "    }\n",
       "</style>\n",
       "<table border=\"1\" class=\"dataframe\">\n",
       "  <thead>\n",
       "    <tr style=\"text-align: right;\">\n",
       "      <th></th>\n",
       "      <th>x</th>\n",
       "      <th>y</th>\n",
       "    </tr>\n",
       "  </thead>\n",
       "  <tbody>\n",
       "    <tr>\n",
       "      <th>0</th>\n",
       "      <td>1</td>\n",
       "      <td>2.349524</td>\n",
       "    </tr>\n",
       "    <tr>\n",
       "      <th>1</th>\n",
       "      <td>2</td>\n",
       "      <td>5.033948</td>\n",
       "    </tr>\n",
       "    <tr>\n",
       "      <th>2</th>\n",
       "      <td>3</td>\n",
       "      <td>7.027563</td>\n",
       "    </tr>\n",
       "    <tr>\n",
       "      <th>3</th>\n",
       "      <td>4</td>\n",
       "      <td>8.608624</td>\n",
       "    </tr>\n",
       "    <tr>\n",
       "      <th>4</th>\n",
       "      <td>5</td>\n",
       "      <td>10.148490</td>\n",
       "    </tr>\n",
       "    <tr>\n",
       "      <th>5</th>\n",
       "      <td>6</td>\n",
       "      <td>13.908339</td>\n",
       "    </tr>\n",
       "    <tr>\n",
       "      <th>6</th>\n",
       "      <td>7</td>\n",
       "      <td>14.756103</td>\n",
       "    </tr>\n",
       "    <tr>\n",
       "      <th>7</th>\n",
       "      <td>8</td>\n",
       "      <td>16.855857</td>\n",
       "    </tr>\n",
       "    <tr>\n",
       "      <th>8</th>\n",
       "      <td>9</td>\n",
       "      <td>19.404234</td>\n",
       "    </tr>\n",
       "    <tr>\n",
       "      <th>9</th>\n",
       "      <td>10</td>\n",
       "      <td>21.189211</td>\n",
       "    </tr>\n",
       "  </tbody>\n",
       "</table>\n",
       "</div>"
      ],
      "text/plain": [
       "    x          y\n",
       "0   1   2.349524\n",
       "1   2   5.033948\n",
       "2   3   7.027563\n",
       "3   4   8.608624\n",
       "4   5  10.148490\n",
       "5   6  13.908339\n",
       "6   7  14.756103\n",
       "7   8  16.855857\n",
       "8   9  19.404234\n",
       "9  10  21.189211"
      ]
     },
     "execution_count": 3,
     "metadata": {},
     "output_type": "execute_result"
    }
   ],
   "source": [
    "df = pd.DataFrame({'x': x, 'y': y})\n",
    "df"
   ]
  },
  {
   "cell_type": "code",
   "execution_count": 4,
   "metadata": {},
   "outputs": [
    {
     "data": {
      "image/png": "[encoded data removed]",
      "text/plain": [
       "<Figure size 432x288 with 1 Axes>"
      ]
     },
     "metadata": {
      "needs_background": "light"
     },
     "output_type": "display_data"
    }
   ],
   "source": [
    "plt.scatter(x, y)\n",
    "plt.plot(x, 2 * x + 1)\n",
    "plt.title('X vs Y')\n",
    "plt.xlabel('Input, X')\n",
    "plt.ylabel('Output, Y')\n",
    "plt.show()"
   ]
  },
  {
   "cell_type": "markdown",
   "metadata": {},
   "source": [
    "Now, we want to create a model that can map the input to the output. `ScikitLearn` library provide us the simplicity to do it by using `LinearRegression()`. The `.fit` function maps the input to the output and find the coefficient and intercept. Do note that we need to reshape the input. The (-1, 1) tells Python that we want the shape to be 1 column, the `-1` is asking the python to figure out what to put in it. In our case, we want to reshape a (1, 10) to (10, 1), so the -1 will be replaced by 10."
   ]
  },
  {
   "cell_type": "code",
   "execution_count": 5,
   "metadata": {},
   "outputs": [
    {
     "name": "stdout",
     "output_type": "stream",
     "text": [
      "(10, 1)\n"
     ]
    }
   ],
   "source": [
    "model = LinearRegression()\n",
    "model.fit(x.reshape(-1, 1), y.reshape(-1, 1))\n",
    "print(x.reshape(-1, 1).shape)"
   ]
  },
  {
   "cell_type": "markdown",
   "metadata": {},
   "source": [
    "We can obtain the coefficient `m` by using the `.coef_` property."
   ]
  },
  {
   "cell_type": "code",
   "execution_count": 6,
   "metadata": {
    "scrolled": true
   },
   "outputs": [
    {
     "name": "stdout",
     "output_type": "stream",
     "text": [
      "[[2.06965426]]\n"
     ]
    }
   ],
   "source": [
    "print(model.coef_)"
   ]
  },
  {
   "cell_type": "markdown",
   "metadata": {},
   "source": [
    "We can obtain the intercept `c` by using the `.intercept_` property."
   ]
  },
  {
   "cell_type": "code",
   "execution_count": 7,
   "metadata": {},
   "outputs": [
    {
     "name": "stdout",
     "output_type": "stream",
     "text": [
      "[0.54509088]\n"
     ]
    }
   ],
   "source": [
    "print(model.intercept_)"
   ]
  },
  {
   "cell_type": "markdown",
   "metadata": {},
   "source": [
    "Now let's use some data that the model never seen before to test our model. The `.predict()` method will allow us to predict the output using the model that we built just now."
   ]
  },
  {
   "cell_type": "code",
   "execution_count": 8,
   "metadata": {},
   "outputs": [
    {
     "name": "stdout",
     "output_type": "stream",
     "text": [
      "[[23.31128773]\n",
      " [25.38094198]\n",
      " [27.45059624]\n",
      " [29.5202505 ]\n",
      " [31.58990476]]\n"
     ]
    }
   ],
   "source": [
    "x_test = np.array([11, 12, 13, 14, 15])\n",
    "y_test = np.array([23, 25, 27, 29, 31])\n",
    "y_pred = model.predict(x_test.reshape(-1, 1))\n",
    "print(y_pred)"
   ]
  },
  {
   "cell_type": "markdown",
   "metadata": {},
   "source": [
    "The results are not as accurate as the expected result (y_test). This means there is an error. We can calculate the error by three method:\n",
    "1. Mean Absolute Error (MAE)\n",
    "2. Mean Squared Error (MSE)\n",
    "3. Root Mean Squared Error (RMSE)\n",
    "\n",
    "Thankfully, `ScikitLearn` library provide us the built-in function to do that, which we have imported in the import section."
   ]
  },
  {
   "cell_type": "code",
   "execution_count": 9,
   "metadata": {},
   "outputs": [
    {
     "name": "stdout",
     "output_type": "stream",
     "text": [
      "Mean Absolute Error: 0.45059624237615736\n",
      "Mean Squared Error: 0.21274040508501094\n",
      "Root Mean Squared Error: 0.4612379050826275\n"
     ]
    }
   ],
   "source": [
    "print('Mean Absolute Error:', metrics.mean_absolute_error(y_test, y_pred))\n",
    "print('Mean Squared Error:', metrics.mean_squared_error(y_test, y_pred))\n",
    "print('Root Mean Squared Error:', np.sqrt(metrics.mean_squared_error(y_test, y_pred)))"
   ]
  },
  {
   "cell_type": "markdown",
   "metadata": {},
   "source": [
    "Now let us visualize the predicted output and the actual output."
   ]
  },
  {
   "cell_type": "code",
   "execution_count": 10,
   "metadata": {},
   "outputs": [
    {
     "data": {
      "text/plain": [
       "Text(0.5, 1.0, 'Actual Y vs Predicted Y')"
      ]
     },
     "execution_count": 10,
     "metadata": {},
     "output_type": "execute_result"
    },
    {
     "data": {
      "image/png": "[encoded data removed]",
      "text/plain": [
       "<Figure size 432x288 with 1 Axes>"
      ]
     },
     "metadata": {
      "needs_background": "light"
     },
     "output_type": "display_data"
    }
   ],
   "source": [
    "plt.scatter(y_test, y_pred)\n",
    "plt.xlabel(\"Y Actual\")\n",
    "plt.ylabel(\"Y Predicted\")\n",
    "plt.title(\"Actual Y vs Predicted Y\")"
   ]
  },
  {
   "cell_type": "markdown",
   "metadata": {},
   "source": [
    "## Section 2: Polynomial Problem\n",
    "A polynomial can be expressed generally by:\n",
    "$$y = m_nx^n + m_{n-1}x^{n-1} + + m_{n-2}x^{n-2} + ... + m_{2}x^{2} + m_1x + c$$\n",
    "Similar to the previous section, we have coefficient of $$m_n, m_{n-1}, ..., m_1$$ and an intercept `c`.\n",
    "\n",
    "In this section, we will use the function: $$y = 0.5x^3-2x^2 + x $$\n",
    "\n",
    "This time, we will also randomize the x so that the data can be generated randomly."
   ]
  },
  {
   "cell_type": "code",
   "execution_count": 11,
   "metadata": {},
   "outputs": [
    {
     "data": {
      "image/png": "[encoded data removed]",
      "text/plain": [
       "<Figure size 432x288 with 1 Axes>"
      ]
     },
     "metadata": {
      "needs_background": "light"
     },
     "output_type": "display_data"
    }
   ],
   "source": [
    "np.random.seed(0)\n",
    "x2 = 3 * np.random.normal(0, 1, 20)\n",
    "y2 = 0.5 * (x2 ** 3) - 2 * (x2 ** 2) + x2 + np.random.normal(-3, 3, 20)\n",
    "plt.scatter(x2, y2, s = 10) # s = 10 makes the market smaller\n",
    "plt.show()"
   ]
  },
  {
   "cell_type": "markdown",
   "metadata": {},
   "source": [
    "We would like to create a model that can run for different degree. So we define a funtion that create a model by taking a parameter `degree`. In this piece of code, you will see that the x and y function are redefined. This is because the data type of x will change when we sort the x values before plotting."
   ]
  },
  {
   "cell_type": "code",
   "execution_count": 12,
   "metadata": {},
   "outputs": [],
   "source": [
    "def polynomial_model(degree):\n",
    "    np.random.seed(0)\n",
    "    x2 = 3 * np.random.normal(0, 1, 20)\n",
    "    y2 = x2 - 2 * (x2 ** 2) + 0.5 * (x2 ** 3) + np.random.normal(-3, 3, 20)\n",
    "    x2 = x2[:, np.newaxis]\n",
    "    y2 = y2[:, np.newaxis]\n",
    "    polynomial_features= PolynomialFeatures(degree = degree)\n",
    "    x_poly = polynomial_features.fit_transform(x2)\n",
    "    model = LinearRegression()\n",
    "    model.fit(x_poly, y2)\n",
    "    y_poly_pred = model.predict(x_poly)\n",
    "    \n",
    "    # Finding the RMSE and R2 score\n",
    "    rmse = np.sqrt(mean_squared_error(y2,y_poly_pred))\n",
    "    r2 = r2_score(y2,y_poly_pred)\n",
    "    print(\"RMSE: \", rmse)\n",
    "    print(\"R2: \", r2)\n",
    "    \n",
    "    plt.figure(figsize = (8, 6))\n",
    "    plt.scatter(x2, y2, s = 10)\n",
    "    \n",
    "    # Sort the values of x before line plot\n",
    "    sorted_zip = sorted(zip(x2, y_poly_pred))\n",
    "    x2, y_poly_pred = zip(*sorted_zip) # Zip(*) means unpack a zip, make every argument a single element\n",
    "    plt.plot(x2, y_poly_pred, color='m')\n",
    "    plt.show()\n",
    "    \n",
    "    return (rmse, r2, np.asarray(y_poly_pred))"
   ]
  },
  {
   "cell_type": "markdown",
   "metadata": {},
   "source": [
    "If you wonder what the `[:, n.newaxis]` does:\n",
    "\n",
    "![title](https://i.stack.imgur.com/zkMBy.png)"
   ]
  },
  {
   "cell_type": "code",
   "execution_count": 13,
   "metadata": {},
   "outputs": [
    {
     "name": "stdout",
     "output_type": "stream",
     "text": [
      "RMSE:  10.810057845605048\n",
      "R2:  0.7114299715230077\n"
     ]
    },
    {
     "data": {
      "image/png": "[encoded data removed]",
      "text/plain": [
       "<Figure size 576x432 with 1 Axes>"
      ]
     },
     "metadata": {
      "needs_background": "light"
     },
     "output_type": "display_data"
    }
   ],
   "source": [
    "rmse_return, r2_return, y_poly_pred_return = polynomial_model(1)\n",
    "\n",
    "# Creating array and list to store the data for each degree\n",
    "rmse = np.array([1.0, 2.0, 3.0, 15.0])\n",
    "r2 = np.array([1.0, 2.0, 3.0, 15.0])\n",
    "y_poly_pred = []\n",
    "\n",
    "# Append the data into the array and list\n",
    "rmse[0] = rmse_return\n",
    "r2[0] = r2_return\n",
    "y_poly_pred.append(y_poly_pred_return)"
   ]
  },
  {
   "cell_type": "code",
   "execution_count": 14,
   "metadata": {},
   "outputs": [
    {
     "name": "stdout",
     "output_type": "stream",
     "text": [
      "RMSE:  10.360813483914935\n",
      "R2:  0.7349163769925623\n"
     ]
    },
    {
     "data": {
      "image/png": "[encoded data removed]",
      "text/plain": [
       "<Figure size 576x432 with 1 Axes>"
      ]
     },
     "metadata": {
      "needs_background": "light"
     },
     "output_type": "display_data"
    }
   ],
   "source": [
    "rmse_return, r2_return, y_poly_pred_return = polynomial_model(2)\n",
    "\n",
    "rmse[1] = rmse_return\n",
    "r2[1] = r2_return\n",
    "y_poly_pred.append(y_poly_pred_return)"
   ]
  },
  {
   "cell_type": "code",
   "execution_count": 15,
   "metadata": {},
   "outputs": [
    {
     "name": "stdout",
     "output_type": "stream",
     "text": [
      "RMSE:  3.4498955074087267\n",
      "R2:  0.9706094936257561\n"
     ]
    },
    {
     "data": {
      "image/png": "[encoded data removed]",
      "text/plain": [
       "<Figure size 576x432 with 1 Axes>"
      ]
     },
     "metadata": {
      "needs_background": "light"
     },
     "output_type": "display_data"
    }
   ],
   "source": [
    "rmse_return, r2_return, y_poly_pred_return = polynomial_model(3)\n",
    "\n",
    "rmse[2] = rmse_return\n",
    "r2[2] = r2_return\n",
    "y_poly_pred.append(y_poly_pred_return)"
   ]
  },
  {
   "cell_type": "code",
   "execution_count": 16,
   "metadata": {},
   "outputs": [
    {
     "name": "stdout",
     "output_type": "stream",
     "text": [
      "RMSE:  1.433940164595766\n",
      "R2:  0.9949224144957173\n"
     ]
    },
    {
     "data": {
      "image/png": "[encoded data removed]",
      "text/plain": [
       "<Figure size 576x432 with 1 Axes>"
      ]
     },
     "metadata": {
      "needs_background": "light"
     },
     "output_type": "display_data"
    }
   ],
   "source": [
    "rmse_return, r2_return, y_poly_pred_return = polynomial_model(15)\n",
    "\n",
    "rmse[3] = rmse_return\n",
    "r2[3] = r2_return\n",
    "y_poly_pred.append(y_poly_pred_return)\n",
    "y_poly_pred = np.asarray(y_poly_pred)"
   ]
  },
  {
   "cell_type": "markdown",
   "metadata": {},
   "source": [
    "We can see that the R2 score is getting higher and higher! And eventually, the R2 score is 0.99 for degree of 15! **However, this is not the best model!** When the degree goes to 15, the model starts to consider the noise. This means taht the model has started to \"memorize\" each data instead of getting a general pattern of the data. This scenario is when we called a *overfitting*. We want the model to learn the general pattern but not got into deep about all of the noise. Therefore, the most appropriate degree to use in this case is 3, which is same as our predefined polynomial!\n",
    "\n",
    "After we examine the result of different degree, we can plot the chart together. We can remove the degree = 15 since we know that it is overfitted."
   ]
  },
  {
   "cell_type": "code",
   "execution_count": 17,
   "metadata": {
    "scrolled": true
   },
   "outputs": [
    {
     "data": {
      "image/png": "[encoded data removed]",
      "text/plain": [
       "<Figure size 432x288 with 1 Axes>"
      ]
     },
     "metadata": {
      "needs_background": "light"
     },
     "output_type": "display_data"
    }
   ],
   "source": [
    "np.random.seed(0)\n",
    "x2 = 3 * np.random.normal(0, 1, 20)\n",
    "y2 = x2 - 2 * (x2 ** 2) + 0.5 * (x2 ** 3) + np.random.normal(-3, 3, 20)\n",
    "plt.scatter(x2, y2)\n",
    "plt.plot(sorted(x2), sorted(y_poly_pred[0]))\n",
    "plt.plot(sorted(x2), sorted(y_poly_pred[1]))\n",
    "plt.plot(sorted(x2), sorted(y_poly_pred[2]))\n",
    "plt.show()"
   ]
  },
  {
   "cell_type": "markdown",
   "metadata": {},
   "source": [
    "Now lets plot the R2 vs degree chart."
   ]
  },
  {
   "cell_type": "code",
   "execution_count": 18,
   "metadata": {},
   "outputs": [
    {
     "data": {
      "image/png": "[encoded data removed]",
      "text/plain": [
       "<Figure size 432x288 with 1 Axes>"
      ]
     },
     "metadata": {
      "needs_background": "light"
     },
     "output_type": "display_data"
    }
   ],
   "source": [
    "plt.plot(np.array([1, 2, 3, 15]), r2)\n",
    "plt.xlabel(\"Degree of Polynomial\")\n",
    "plt.ylabel(\"R2 Score\")\n",
    "plt.show()"
   ]
  },
  {
   "cell_type": "markdown",
   "metadata": {},
   "source": [
    "# Conclusion\n",
    "We have covered from a simple `y = mx + c` linear regression to polynomial linear regression! This sums up the topic of polynomial regression. To learn more about ScikitLearn, you can visit the [ScikitLearn Official Documentation](https://scikit-learn.org/stable/).\n",
    "\n",
    "# Things to Remember\n",
    "Data Science is not all about Python and all the fantastic libraries. It is about how you gain valueable insights or knowledge from the data to assist you or your organization in making better decision! Python is just one of the tools to achieve that!"
   ]
  },
  {
   "cell_type": "markdown",
   "metadata": {},
   "source": [
    "# What's Next\n",
    "Now, you have seen how to perform machine learning using `ScikitLearn`. Next, you can try to apply what you learn on different datasets! Here are some awesome [datasets](https://scikit-learn.org/stable/datasets/index.html) you can use to try it out! \n",
    "\n",
    "This dataset are from `ScikitLearn` itself, do try it out for the boston and diabetes dataset!\n",
    "\n",
    "Also, you can explore more tools and libraries like PyTorch and TensorFlow in the future! But that is another whole new story!\n",
    "\n",
    "Good luck and all the best!"
   ]
  },
  {
   "cell_type": "code",
   "execution_count": null,
   "metadata": {},
   "outputs": [],
   "source": []
  }
 ],
 "metadata": {
  "kernelspec": {
   "display_name": "Python 3",
   "language": "python",
   "name": "python3"
  },
  "language_info": {
   "codemirror_mode": {
    "name": "ipython",
    "version": 3
   },
   "file_extension": ".py",
   "mimetype": "text/x-python",
   "name": "python",
   "nbconvert_exporter": "python",
   "pygments_lexer": "ipython3",
   "version": "3.7.6"
  }
 },
 "nbformat": 4,
 "nbformat_minor": 4
}
