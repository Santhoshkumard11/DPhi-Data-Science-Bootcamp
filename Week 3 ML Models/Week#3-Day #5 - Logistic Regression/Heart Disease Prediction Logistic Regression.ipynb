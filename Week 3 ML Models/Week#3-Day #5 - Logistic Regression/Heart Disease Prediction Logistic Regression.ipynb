{
 "cells": [
  {
   "cell_type": "markdown",
   "metadata": {
    "_cell_guid": "a55f85f4-3e45-4a64-8fd4-d6c4c23c4c77",
    "_uuid": "b34438b648d12caafb20d1ff0b8242ee6093f55e",
    "colab_type": "text",
    "id": "GYGV8A08rwxU"
   },
   "source": [
    "# Predicting Heart Disease using Logistic Regression"
   ]
  },
  {
   "cell_type": "markdown",
   "metadata": {
    "_cell_guid": "d8d1ffac-5027-420e-bbfb-cb4aef123890",
    "_uuid": "75521b34607283fa0c48a4aaf4ec9616fcd6c47f",
    "colab_type": "text",
    "id": "vMwBJ5iRrwxX"
   },
   "source": [
    "### Introduction\n",
    "\n",
    "World Health Organization has  estimated 12 million deaths occur worldwide, every year due to Heart diseases. Half the deaths in the United States and other developed countries are due to cardio vascular diseases. The early prognosis of cardiovascular diseases can aid in making decisions on lifestyle changes in high risk patients and in turn reduce the complications. This research intends to pinpoint the most relevant/risk factors of heart disease as well as predict the overall risk using logistic regression.\n"
   ]
  },
  {
   "cell_type": "code",
   "execution_count": 2,
   "metadata": {
    "_cell_guid": "0505f675-ca00-47b6-b43c-b83cd68a8185",
    "_uuid": "a920b2bbb8694dd8e3d715fd9a333c47c5923c49",
    "colab": {
     "base_uri": "https://localhost:8080/",
     "height": 71
    },
    "colab_type": "code",
    "id": "NJkSF643rwxY",
    "outputId": "8263c0c5-e575-40b7-9ee0-7628ba8d19c5"
   },
   "outputs": [],
   "source": [
    "import pandas as pd\n",
    "import numpy as np\n",
    "import statsmodels.api as sm\n",
    "import scipy.stats as st\n",
    "import matplotlib.pyplot as plt\n",
    "import seaborn as sn\n",
    "from sklearn.metrics import confusion_matrix\n",
    "import matplotlib.mlab as mlab\n",
    "%matplotlib inline"
   ]
  },
  {
   "cell_type": "markdown",
   "metadata": {
    "_cell_guid": "7e94f5d9-568d-4d04-8920-7b8b3d0bcb96",
    "_uuid": "04563e20d085b8b5c7ee9ec44bc8e3135489cbdd",
    "colab_type": "text",
    "id": "k3NmHrtxrwxe"
   },
   "source": [
    "## Data Preparation\n",
    "\n",
    "### Source:\n",
    "\n",
    "The dataset is publically available on the Kaggle website, and it is from an ongoing ongoing cardiovascular study on residents of the town of Framingham, Massachusetts.  The classification goal is to predict whether the patient has 10-year risk of future coronary heart disease (CHD).The dataset provides the patients’ information. It includes over 4,000 records and 15 attributes."
   ]
  },
  {
   "cell_type": "code",
   "execution_count": 3,
   "metadata": {
    "colab": {
     "base_uri": "https://localhost:8080/",
     "height": 224
    },
    "colab_type": "code",
    "id": "PpjzzEB3v0jY",
    "outputId": "bfd568d1-a452-49f8-c863-d61592a3cb83"
   },
   "outputs": [
    {
     "data": {
      "text/html": [
       "<div>\n",
       "<style scoped>\n",
       "    .dataframe tbody tr th:only-of-type {\n",
       "        vertical-align: middle;\n",
       "    }\n",
       "\n",
       "    .dataframe tbody tr th {\n",
       "        vertical-align: top;\n",
       "    }\n",
       "\n",
       "    .dataframe thead th {\n",
       "        text-align: right;\n",
       "    }\n",
       "</style>\n",
       "<table border=\"1\" class=\"dataframe\">\n",
       "  <thead>\n",
       "    <tr style=\"text-align: right;\">\n",
       "      <th></th>\n",
       "      <th>male</th>\n",
       "      <th>age</th>\n",
       "      <th>currentSmoker</th>\n",
       "      <th>cigsPerDay</th>\n",
       "      <th>BPMeds</th>\n",
       "      <th>prevalentStroke</th>\n",
       "      <th>prevalentHyp</th>\n",
       "      <th>diabetes</th>\n",
       "      <th>totChol</th>\n",
       "      <th>sysBP</th>\n",
       "      <th>diaBP</th>\n",
       "      <th>BMI</th>\n",
       "      <th>heartRate</th>\n",
       "      <th>glucose</th>\n",
       "      <th>TenYearCHD</th>\n",
       "    </tr>\n",
       "  </thead>\n",
       "  <tbody>\n",
       "    <tr>\n",
       "      <th>0</th>\n",
       "      <td>1</td>\n",
       "      <td>39</td>\n",
       "      <td>0</td>\n",
       "      <td>0.0</td>\n",
       "      <td>0.0</td>\n",
       "      <td>0</td>\n",
       "      <td>0</td>\n",
       "      <td>0</td>\n",
       "      <td>195.0</td>\n",
       "      <td>106.0</td>\n",
       "      <td>70.0</td>\n",
       "      <td>26.97</td>\n",
       "      <td>80.0</td>\n",
       "      <td>77.0</td>\n",
       "      <td>0</td>\n",
       "    </tr>\n",
       "    <tr>\n",
       "      <th>1</th>\n",
       "      <td>0</td>\n",
       "      <td>46</td>\n",
       "      <td>0</td>\n",
       "      <td>0.0</td>\n",
       "      <td>0.0</td>\n",
       "      <td>0</td>\n",
       "      <td>0</td>\n",
       "      <td>0</td>\n",
       "      <td>250.0</td>\n",
       "      <td>121.0</td>\n",
       "      <td>81.0</td>\n",
       "      <td>28.73</td>\n",
       "      <td>95.0</td>\n",
       "      <td>76.0</td>\n",
       "      <td>0</td>\n",
       "    </tr>\n",
       "    <tr>\n",
       "      <th>2</th>\n",
       "      <td>1</td>\n",
       "      <td>48</td>\n",
       "      <td>1</td>\n",
       "      <td>20.0</td>\n",
       "      <td>0.0</td>\n",
       "      <td>0</td>\n",
       "      <td>0</td>\n",
       "      <td>0</td>\n",
       "      <td>245.0</td>\n",
       "      <td>127.5</td>\n",
       "      <td>80.0</td>\n",
       "      <td>25.34</td>\n",
       "      <td>75.0</td>\n",
       "      <td>70.0</td>\n",
       "      <td>0</td>\n",
       "    </tr>\n",
       "    <tr>\n",
       "      <th>3</th>\n",
       "      <td>0</td>\n",
       "      <td>61</td>\n",
       "      <td>1</td>\n",
       "      <td>30.0</td>\n",
       "      <td>0.0</td>\n",
       "      <td>0</td>\n",
       "      <td>1</td>\n",
       "      <td>0</td>\n",
       "      <td>225.0</td>\n",
       "      <td>150.0</td>\n",
       "      <td>95.0</td>\n",
       "      <td>28.58</td>\n",
       "      <td>65.0</td>\n",
       "      <td>103.0</td>\n",
       "      <td>1</td>\n",
       "    </tr>\n",
       "    <tr>\n",
       "      <th>4</th>\n",
       "      <td>0</td>\n",
       "      <td>46</td>\n",
       "      <td>1</td>\n",
       "      <td>23.0</td>\n",
       "      <td>0.0</td>\n",
       "      <td>0</td>\n",
       "      <td>0</td>\n",
       "      <td>0</td>\n",
       "      <td>285.0</td>\n",
       "      <td>130.0</td>\n",
       "      <td>84.0</td>\n",
       "      <td>23.10</td>\n",
       "      <td>85.0</td>\n",
       "      <td>85.0</td>\n",
       "      <td>0</td>\n",
       "    </tr>\n",
       "  </tbody>\n",
       "</table>\n",
       "</div>"
      ],
      "text/plain": [
       "   male  age  currentSmoker  cigsPerDay  BPMeds  prevalentStroke  \\\n",
       "0     1   39              0         0.0     0.0                0   \n",
       "1     0   46              0         0.0     0.0                0   \n",
       "2     1   48              1        20.0     0.0                0   \n",
       "3     0   61              1        30.0     0.0                0   \n",
       "4     0   46              1        23.0     0.0                0   \n",
       "\n",
       "   prevalentHyp  diabetes  totChol  sysBP  diaBP    BMI  heartRate  glucose  \\\n",
       "0             0         0    195.0  106.0   70.0  26.97       80.0     77.0   \n",
       "1             0         0    250.0  121.0   81.0  28.73       95.0     76.0   \n",
       "2             0         0    245.0  127.5   80.0  25.34       75.0     70.0   \n",
       "3             1         0    225.0  150.0   95.0  28.58       65.0    103.0   \n",
       "4             0         0    285.0  130.0   84.0  23.10       85.0     85.0   \n",
       "\n",
       "   TenYearCHD  \n",
       "0           0  \n",
       "1           0  \n",
       "2           0  \n",
       "3           1  \n",
       "4           0  "
      ]
     },
     "execution_count": 3,
     "metadata": {},
     "output_type": "execute_result"
    }
   ],
   "source": [
    "url = 'https://raw.githubusercontent.com/ayonroy2000/Talks/master/framingham.csv?token=AKG32T2IBXSNHIDY56KUWFK65ZEWY'\n",
    "heart_df= pd.read_csv(url)\n",
    "heart_df.drop(['education'],axis=1,inplace=True)\n",
    "heart_df.head()"
   ]
  },
  {
   "cell_type": "markdown",
   "metadata": {
    "_cell_guid": "76329cfe-8273-432f-9cd0-f25fd24e561a",
    "_uuid": "c2293e6a93a0c89d0ab0faaaa5f37b55fcaa0f17",
    "colab_type": "text",
    "id": "8NSS_D3vrwxm"
   },
   "source": [
    "### Variables :"
   ]
  },
  {
   "cell_type": "markdown",
   "metadata": {
    "_cell_guid": "190ccf73-7d24-44d9-98b5-3198fbd13510",
    "_uuid": "920a27387872578520ad578aa8c3b1cf510a9452",
    "colab_type": "text",
    "id": "z7rSOAkerwxn"
   },
   "source": [
    "Each attribute is a potential risk factor. There are both demographic, behavioural and medical risk factors.\n",
    "\n",
    " - Demographic:\n",
    "sex: male or female;(Nominal)\n",
    "\n",
    "    -  age: age of the patient;(Continuous - Although the recorded ages have been truncated to whole numbers, the concept of age is continuous)\n",
    "\n",
    "\n",
    " - Behavioural:\n",
    "\n",
    "    -  currentSmoker: whether or not the patient is a current smoker (Nominal)\n",
    "\n",
    "    -  cigsPerDay: the number of cigarettes that the person smoked on average in one day.(can be considered continuous as one can have any number of cigarretts, even half a cigarette.)\n",
    "\n",
    " - Medical( history):\n",
    "\n",
    "    -  BPMeds: whether or not the patient was on blood pressure medication (Nominal)\n",
    "\n",
    "    -  prevalentStroke: whether or not the patient had previously had a stroke (Nominal)\n",
    "\n",
    "    -  prevalentHyp: whether or not the patient was hypertensive (Nominal)\n",
    "\n",
    "    -  diabetes: whether or not the patient had diabetes (Nominal)\n",
    "\n",
    " - Medical(current):\n",
    "\n",
    "    -  totChol: total cholesterol level (Continuous)\n",
    "\n",
    "    -  sysBP: systolic blood pressure (Continuous)\n",
    "\n",
    "    -  diaBP: diastolic blood pressure (Continuous)\n",
    "\n",
    "    -  BMI: Body Mass Index (Continuous)\n",
    "\n",
    "    -  heartRate: heart rate (Continuous - In medical research, variables such as heart rate though in fact discrete, yet are considered continuous because of large number of possible values.)\n",
    "\n",
    "    -  glucose: glucose level (Continuous)\n",
    "\n",
    "\n",
    " - Predict variable (desired target):\n",
    "\n",
    "    -  10 year risk of coronary heart disease CHD (binary: “1”, means “Yes”, “0” means “No”)\n"
   ]
  },
  {
   "cell_type": "code",
   "execution_count": 4,
   "metadata": {
    "_cell_guid": "dd2265c1-70ee-4bbc-82dd-68871fdaa042",
    "_uuid": "d894b86d4cfc1c8e0c4403ed9c844b31ac13446a",
    "colab": {},
    "colab_type": "code",
    "id": "Ol8Bv5xFrwxo"
   },
   "outputs": [],
   "source": [
    "heart_df.rename(columns={'male':'Gender_male'},inplace=True)"
   ]
  },
  {
   "cell_type": "markdown",
   "metadata": {
    "_cell_guid": "a4ba245a-9280-46ac-8f97-aca5d1fdedb6",
    "_uuid": "9d599adc546d312c08958a050fbdfbb814e3cf0d",
    "colab_type": "text",
    "id": "iTF-U6MKrwxu"
   },
   "source": [
    "### Missing values"
   ]
  },
  {
   "cell_type": "code",
   "execution_count": 5,
   "metadata": {
    "_cell_guid": "6c32b561-0667-4c3d-b8b2-bb7aefc29a38",
    "_uuid": "d34f24db4b4eb3d49a3dfdaecfea442682822d37",
    "colab": {
     "base_uri": "https://localhost:8080/",
     "height": 289
    },
    "colab_type": "code",
    "id": "wCoR1G0Mrwxv",
    "outputId": "86b08d00-a3a3-4f90-f5bb-c3b0386b89b1"
   },
   "outputs": [
    {
     "data": {
      "text/plain": [
       "Gender_male          0\n",
       "age                  0\n",
       "currentSmoker        0\n",
       "cigsPerDay          29\n",
       "BPMeds              53\n",
       "prevalentStroke      0\n",
       "prevalentHyp         0\n",
       "diabetes             0\n",
       "totChol             50\n",
       "sysBP                0\n",
       "diaBP                0\n",
       "BMI                 19\n",
       "heartRate            1\n",
       "glucose            388\n",
       "TenYearCHD           0\n",
       "dtype: int64"
      ]
     },
     "execution_count": 5,
     "metadata": {},
     "output_type": "execute_result"
    }
   ],
   "source": [
    "heart_df.isnull().sum()"
   ]
  },
  {
   "cell_type": "code",
   "execution_count": 6,
   "metadata": {
    "_cell_guid": "2e1c244f-856d-482c-b4ff-ae4ec60df36b",
    "_uuid": "05fe0f931aa94963eb044e8b4ab8f3984c536670",
    "colab": {
     "base_uri": "https://localhost:8080/",
     "height": 51
    },
    "colab_type": "code",
    "id": "kM6UO0Rjrwxz",
    "outputId": "ee8927b2-5d0a-431c-fbf2-ef37f4b6d4cc"
   },
   "outputs": [
    {
     "name": "stdout",
     "output_type": "stream",
     "text": [
      "Total number of rows with missing values is  489\n",
      "since it is only 12 percent of the entire dataset the rows with missing values are excluded.\n"
     ]
    }
   ],
   "source": [
    "count=0\n",
    "for i in heart_df.isnull().sum(axis=1):\n",
    "    if i>0:\n",
    "        count=count+1\n",
    "print('Total number of rows with missing values is ', count)\n",
    "print('since it is only',round((count/len(heart_df.index))*100), 'percent of the entire dataset the rows with missing values are excluded.')"
   ]
  },
  {
   "cell_type": "code",
   "execution_count": 7,
   "metadata": {
    "_cell_guid": "dfb2215d-ade3-4370-9e51-ac53a78e1ab4",
    "_uuid": "6995b6b17ee8452633cd9cb256071fb57ec5a9a7",
    "colab": {},
    "colab_type": "code",
    "id": "qpmFfWv0rwx4"
   },
   "outputs": [],
   "source": [
    "heart_df.dropna(axis=0,inplace=True)"
   ]
  },
  {
   "cell_type": "markdown",
   "metadata": {
    "_cell_guid": "2d0e05b9-08fe-43df-85c8-072218145b6e",
    "_uuid": "8f59e41e841e8970a2ea90765aa273de834049b8",
    "colab_type": "text",
    "id": "KEGL76wurwx-"
   },
   "source": [
    "## Exploratory Analysis"
   ]
  },
  {
   "cell_type": "code",
   "execution_count": 8,
   "metadata": {
    "_cell_guid": "c4422c44-97d7-44d9-a4ae-793e6e2da4c4",
    "_uuid": "354f82983a107141a40f8952a451123bb30e4a7a",
    "colab": {
     "base_uri": "https://localhost:8080/",
     "height": 1000
    },
    "colab_type": "code",
    "id": "7s4ySpfFrwx_",
    "outputId": "59aaf0e4-c793-49fe-f9cc-f26981eccc8b"
   },
   "outputs": [
    {
     "data": {
      "image/png": "[encoded data removed]",
      "text/plain": [
       "<Figure size 1440x1440 with 15 Axes>"
      ]
     },
     "metadata": {
      "needs_background": "light"
     },
     "output_type": "display_data"
    }
   ],
   "source": [
    "def draw_histograms(dataframe, features, rows, cols):\n",
    "    fig=plt.figure(figsize=(20,20))\n",
    "    for i, feature in enumerate(features):\n",
    "        ax=fig.add_subplot(rows,cols,i+1)\n",
    "        dataframe[feature].hist(bins=20,ax=ax,facecolor='midnightblue')\n",
    "        ax.set_title(feature+\" Distribution\",color='DarkRed')\n",
    "        \n",
    "    fig.tight_layout()  \n",
    "    plt.show()\n",
    "draw_histograms(heart_df,heart_df.columns,6,3)"
   ]
  },
  {
   "cell_type": "code",
   "execution_count": 9,
   "metadata": {
    "_cell_guid": "721db095-34fd-46b0-a269-9b1ed00df438",
    "_uuid": "aeba17b21c54351fc541d4ab3cc85e18ba8a6d20",
    "colab": {
     "base_uri": "https://localhost:8080/",
     "height": 68
    },
    "colab_type": "code",
    "id": "_JSDlGBgrwyC",
    "outputId": "461dec6d-7662-4234-f4b7-0e5a80192ab4"
   },
   "outputs": [
    {
     "data": {
      "text/plain": [
       "0    3179\n",
       "1     572\n",
       "Name: TenYearCHD, dtype: int64"
      ]
     },
     "execution_count": 9,
     "metadata": {},
     "output_type": "execute_result"
    }
   ],
   "source": [
    "heart_df.TenYearCHD.value_counts()"
   ]
  },
  {
   "cell_type": "code",
   "execution_count": 10,
   "metadata": {
    "_cell_guid": "01fcff0d-31f9-4831-89de-ead65ad41158",
    "_uuid": "03a569f5ff9a039256f6584654222a5edbf457fe",
    "colab": {
     "base_uri": "https://localhost:8080/",
     "height": 296
    },
    "colab_type": "code",
    "id": "f1PlFmSArwyG",
    "outputId": "8c0f6f79-c8a4-4370-8a96-f24bd28dd6ac"
   },
   "outputs": [
    {
     "data": {
      "text/plain": [
       "<matplotlib.axes._subplots.AxesSubplot at 0x207f07a08c8>"
      ]
     },
     "execution_count": 10,
     "metadata": {},
     "output_type": "execute_result"
    },
    {
     "data": {
      "image/png": "[encoded data removed]",
      "text/plain": [
       "<Figure size 432x288 with 1 Axes>"
      ]
     },
     "metadata": {
      "needs_background": "light"
     },
     "output_type": "display_data"
    }
   ],
   "source": [
    "sn.countplot(x='TenYearCHD',data=heart_df)"
   ]
  },
  {
   "cell_type": "markdown",
   "metadata": {
    "_cell_guid": "955ded98-f1bd-4756-badb-70ada8067f2f",
    "_uuid": "bbc3663c10718e4b1e85d6be97c4c2bf2fa098fd",
    "colab_type": "text",
    "id": "dRb1BWtWrwyN"
   },
   "source": [
    "There are 3179 patents with no heart disease and 572 patients with risk of heart disease."
   ]
  },
  {
   "cell_type": "code",
   "execution_count": 11,
   "metadata": {
    "_cell_guid": "1706a968-b8e0-4393-b9bd-72a8761ee3c0",
    "_uuid": "f3913969f492436b291f154646e0584be9c64ec4",
    "colab": {
     "base_uri": "https://localhost:8080/",
     "height": 317
    },
    "colab_type": "code",
    "id": "U8NFhHrxrwyS",
    "outputId": "036aa49e-ef01-4709-abec-d15a3ea54990"
   },
   "outputs": [
    {
     "data": {
      "text/html": [
       "<div>\n",
       "<style scoped>\n",
       "    .dataframe tbody tr th:only-of-type {\n",
       "        vertical-align: middle;\n",
       "    }\n",
       "\n",
       "    .dataframe tbody tr th {\n",
       "        vertical-align: top;\n",
       "    }\n",
       "\n",
       "    .dataframe thead th {\n",
       "        text-align: right;\n",
       "    }\n",
       "</style>\n",
       "<table border=\"1\" class=\"dataframe\">\n",
       "  <thead>\n",
       "    <tr style=\"text-align: right;\">\n",
       "      <th></th>\n",
       "      <th>Gender_male</th>\n",
       "      <th>age</th>\n",
       "      <th>currentSmoker</th>\n",
       "      <th>cigsPerDay</th>\n",
       "      <th>BPMeds</th>\n",
       "      <th>prevalentStroke</th>\n",
       "      <th>prevalentHyp</th>\n",
       "      <th>diabetes</th>\n",
       "      <th>totChol</th>\n",
       "      <th>sysBP</th>\n",
       "      <th>diaBP</th>\n",
       "      <th>BMI</th>\n",
       "      <th>heartRate</th>\n",
       "      <th>glucose</th>\n",
       "      <th>TenYearCHD</th>\n",
       "    </tr>\n",
       "  </thead>\n",
       "  <tbody>\n",
       "    <tr>\n",
       "      <th>count</th>\n",
       "      <td>3751.000000</td>\n",
       "      <td>3751.000000</td>\n",
       "      <td>3751.000000</td>\n",
       "      <td>3751.000000</td>\n",
       "      <td>3751.000000</td>\n",
       "      <td>3751.000000</td>\n",
       "      <td>3751.000000</td>\n",
       "      <td>3751.000000</td>\n",
       "      <td>3751.000000</td>\n",
       "      <td>3751.000000</td>\n",
       "      <td>3751.000000</td>\n",
       "      <td>3751.000000</td>\n",
       "      <td>3751.000000</td>\n",
       "      <td>3751.000000</td>\n",
       "      <td>3751.000000</td>\n",
       "    </tr>\n",
       "    <tr>\n",
       "      <th>mean</th>\n",
       "      <td>0.445215</td>\n",
       "      <td>49.573447</td>\n",
       "      <td>0.488403</td>\n",
       "      <td>9.008531</td>\n",
       "      <td>0.030392</td>\n",
       "      <td>0.005599</td>\n",
       "      <td>0.311917</td>\n",
       "      <td>0.027193</td>\n",
       "      <td>236.928019</td>\n",
       "      <td>132.368435</td>\n",
       "      <td>82.938550</td>\n",
       "      <td>25.808288</td>\n",
       "      <td>75.704079</td>\n",
       "      <td>81.880032</td>\n",
       "      <td>0.152493</td>\n",
       "    </tr>\n",
       "    <tr>\n",
       "      <th>std</th>\n",
       "      <td>0.497056</td>\n",
       "      <td>8.570204</td>\n",
       "      <td>0.499932</td>\n",
       "      <td>11.925097</td>\n",
       "      <td>0.171686</td>\n",
       "      <td>0.074623</td>\n",
       "      <td>0.463338</td>\n",
       "      <td>0.162666</td>\n",
       "      <td>44.611594</td>\n",
       "      <td>22.046522</td>\n",
       "      <td>11.932779</td>\n",
       "      <td>4.065599</td>\n",
       "      <td>11.956382</td>\n",
       "      <td>23.882233</td>\n",
       "      <td>0.359546</td>\n",
       "    </tr>\n",
       "    <tr>\n",
       "      <th>min</th>\n",
       "      <td>0.000000</td>\n",
       "      <td>32.000000</td>\n",
       "      <td>0.000000</td>\n",
       "      <td>0.000000</td>\n",
       "      <td>0.000000</td>\n",
       "      <td>0.000000</td>\n",
       "      <td>0.000000</td>\n",
       "      <td>0.000000</td>\n",
       "      <td>113.000000</td>\n",
       "      <td>83.500000</td>\n",
       "      <td>48.000000</td>\n",
       "      <td>15.540000</td>\n",
       "      <td>44.000000</td>\n",
       "      <td>40.000000</td>\n",
       "      <td>0.000000</td>\n",
       "    </tr>\n",
       "    <tr>\n",
       "      <th>25%</th>\n",
       "      <td>0.000000</td>\n",
       "      <td>42.000000</td>\n",
       "      <td>0.000000</td>\n",
       "      <td>0.000000</td>\n",
       "      <td>0.000000</td>\n",
       "      <td>0.000000</td>\n",
       "      <td>0.000000</td>\n",
       "      <td>0.000000</td>\n",
       "      <td>206.000000</td>\n",
       "      <td>117.000000</td>\n",
       "      <td>75.000000</td>\n",
       "      <td>23.085000</td>\n",
       "      <td>68.000000</td>\n",
       "      <td>71.000000</td>\n",
       "      <td>0.000000</td>\n",
       "    </tr>\n",
       "    <tr>\n",
       "      <th>50%</th>\n",
       "      <td>0.000000</td>\n",
       "      <td>49.000000</td>\n",
       "      <td>0.000000</td>\n",
       "      <td>0.000000</td>\n",
       "      <td>0.000000</td>\n",
       "      <td>0.000000</td>\n",
       "      <td>0.000000</td>\n",
       "      <td>0.000000</td>\n",
       "      <td>234.000000</td>\n",
       "      <td>128.000000</td>\n",
       "      <td>82.000000</td>\n",
       "      <td>25.410000</td>\n",
       "      <td>75.000000</td>\n",
       "      <td>78.000000</td>\n",
       "      <td>0.000000</td>\n",
       "    </tr>\n",
       "    <tr>\n",
       "      <th>75%</th>\n",
       "      <td>1.000000</td>\n",
       "      <td>56.000000</td>\n",
       "      <td>1.000000</td>\n",
       "      <td>20.000000</td>\n",
       "      <td>0.000000</td>\n",
       "      <td>0.000000</td>\n",
       "      <td>1.000000</td>\n",
       "      <td>0.000000</td>\n",
       "      <td>264.000000</td>\n",
       "      <td>144.000000</td>\n",
       "      <td>90.000000</td>\n",
       "      <td>28.060000</td>\n",
       "      <td>82.000000</td>\n",
       "      <td>87.000000</td>\n",
       "      <td>0.000000</td>\n",
       "    </tr>\n",
       "    <tr>\n",
       "      <th>max</th>\n",
       "      <td>1.000000</td>\n",
       "      <td>70.000000</td>\n",
       "      <td>1.000000</td>\n",
       "      <td>70.000000</td>\n",
       "      <td>1.000000</td>\n",
       "      <td>1.000000</td>\n",
       "      <td>1.000000</td>\n",
       "      <td>1.000000</td>\n",
       "      <td>696.000000</td>\n",
       "      <td>295.000000</td>\n",
       "      <td>142.500000</td>\n",
       "      <td>56.800000</td>\n",
       "      <td>143.000000</td>\n",
       "      <td>394.000000</td>\n",
       "      <td>1.000000</td>\n",
       "    </tr>\n",
       "  </tbody>\n",
       "</table>\n",
       "</div>"
      ],
      "text/plain": [
       "       Gender_male          age  currentSmoker   cigsPerDay       BPMeds  \\\n",
       "count  3751.000000  3751.000000    3751.000000  3751.000000  3751.000000   \n",
       "mean      0.445215    49.573447       0.488403     9.008531     0.030392   \n",
       "std       0.497056     8.570204       0.499932    11.925097     0.171686   \n",
       "min       0.000000    32.000000       0.000000     0.000000     0.000000   \n",
       "25%       0.000000    42.000000       0.000000     0.000000     0.000000   \n",
       "50%       0.000000    49.000000       0.000000     0.000000     0.000000   \n",
       "75%       1.000000    56.000000       1.000000    20.000000     0.000000   \n",
       "max       1.000000    70.000000       1.000000    70.000000     1.000000   \n",
       "\n",
       "       prevalentStroke  prevalentHyp     diabetes      totChol        sysBP  \\\n",
       "count      3751.000000   3751.000000  3751.000000  3751.000000  3751.000000   \n",
       "mean          0.005599      0.311917     0.027193   236.928019   132.368435   \n",
       "std           0.074623      0.463338     0.162666    44.611594    22.046522   \n",
       "min           0.000000      0.000000     0.000000   113.000000    83.500000   \n",
       "25%           0.000000      0.000000     0.000000   206.000000   117.000000   \n",
       "50%           0.000000      0.000000     0.000000   234.000000   128.000000   \n",
       "75%           0.000000      1.000000     0.000000   264.000000   144.000000   \n",
       "max           1.000000      1.000000     1.000000   696.000000   295.000000   \n",
       "\n",
       "             diaBP          BMI    heartRate      glucose   TenYearCHD  \n",
       "count  3751.000000  3751.000000  3751.000000  3751.000000  3751.000000  \n",
       "mean     82.938550    25.808288    75.704079    81.880032     0.152493  \n",
       "std      11.932779     4.065599    11.956382    23.882233     0.359546  \n",
       "min      48.000000    15.540000    44.000000    40.000000     0.000000  \n",
       "25%      75.000000    23.085000    68.000000    71.000000     0.000000  \n",
       "50%      82.000000    25.410000    75.000000    78.000000     0.000000  \n",
       "75%      90.000000    28.060000    82.000000    87.000000     0.000000  \n",
       "max     142.500000    56.800000   143.000000   394.000000     1.000000  "
      ]
     },
     "execution_count": 11,
     "metadata": {},
     "output_type": "execute_result"
    }
   ],
   "source": [
    "heart_df.describe()"
   ]
  },
  {
   "cell_type": "markdown",
   "metadata": {
    "_cell_guid": "d791f658-cfbb-496b-93d1-b2d0ef639b7e",
    "_uuid": "a14fae661d7902e8c58a9b57b6f6873b6aeb0a79",
    "colab_type": "text",
    "id": "AnamVECbrwyV"
   },
   "source": [
    "## Logistic Regression"
   ]
  },
  {
   "cell_type": "markdown",
   "metadata": {
    "_cell_guid": "17d7af59-bd19-4448-b26c-f2c52b6c5381",
    "_uuid": "2244062f695fd7f76c0b86af5b49d6a597679c4d",
    "colab_type": "text",
    "id": "4iP2WCHhrwyW"
   },
   "source": [
    "Logistic regression is a type of regression analysis in statistics used for prediction of outcome of a categorical dependent variable from a set of predictor or independent variables. In logistic regression the dependent variable is always binary. Logistic regression is mainly used to for prediction and also calculating the probability of success. \n",
    "\n",
    "## Logistic Regression is one of the basic and popular algorithms to solve a binary classification problems\n",
    "\n",
    "For each input, logistic regression outputs a probability that this input belongs to the 2 classes\n",
    "\n",
    "Set a probability threshold boundary and that determines which class the input belongs to\n",
    "\n",
    "Binary classification problems (2 classes)\n",
    "\n",
    "Emails (Spam / Not Spam)\n",
    "\n",
    "Transactions (Fraudulent / Not Fraudulent)\n",
    "\n",
    "Loan Default (Yes / No)\n",
    "\n",
    "# Why Not Use Linear Regression for Classification?\n",
    "\n",
    "Linear regression is used to solve regression problems with continuous values\n",
    "\n",
    "Logistic regression is used to solve classification problems with discrete categories\n",
    "\n",
    "Binary classification (Classes 0 and 1)\n",
    "\n",
    " The difference between Linear Regression and Logistic Regression can be represented diagrammatically as follows-\n",
    "   \n",
    "   \n",
    "   ![Linear Regression Vs Logistic Regression](https://external-content.duckduckgo.com/iu/?u=http%3A%2F%2Fres.cloudinary.com%2Fdyd911kmh%2Fimage%2Fupload%2Ff_auto%2Cq_auto%3Abest%2Fv1534281070%2Flinear_vs_logistic_regression_edxw03.png&f=1&nofb=1)\n",
    "   \n",
    "\n",
    "## Implement linear equation\n",
    "\n",
    "\n",
    "Logistic Regression algorithm works by implementing a linear equation with independent or explanatory variables to predict a response value. For example, we consider the example of number of hours studied and probability of passing the exam. Here, number of hours studied is the explanatory variable and it is denoted by x1. Probability of passing the exam is the response or target variable and it is denoted by z. \n",
    "\n",
    "\n",
    "If we have one explanatory variable (x1) and one response variable (z), then the linear equation would be given mathematically with the following equation- \n",
    "\n",
    "\n",
    " \tz = β0 + β1x1\n",
    "\n",
    "\n",
    "Here, the coefficients β0 and β1 are the parameters of the model.\n",
    "\n",
    "\n",
    "If there are multiple explanatory variables, then the above equation can be extended to \n",
    "\n",
    "\n",
    "\tz = β0 + β1x1+ β2x2+……..+ βnxn\n",
    "\n",
    "\n",
    "Here, the coefficients β0, β1, β2 and βn are the parameters of the model.\n",
    "\n",
    "\n",
    "So, the predicted response value is given by the above equations and is denoted by z.\n",
    "\n",
    " \n",
    "# Sigmoid Function\n",
    "\n",
    "\n",
    "This predicted response value, denoted by z is then converted into a probability value that lie between 0 and 1. We use the **sigmoid function** in order to map predicted values to probability values. This sigmoid function then maps any real value into a probability value between 0 and 1. \n",
    "\n",
    "\n",
    "In machine learning, sigmoid function is used to map predictions to probabilities. The sigmoid function has an `S` shaped curve. It is also called **sigmoid curve**.  \n",
    "\n",
    "\n",
    "A `Sigmoid function` is a special case of the `Logistic function`. It is given by the following mathematical formula. \n",
    "\n",
    "The logisitc also called as logit is denoted by σ is a sigmoid function and it outputs a number between 0 and 1.\n",
    "\n",
    "![](https://imgur.com/DNpFtRM.png)\n",
    "\n",
    "*source* : https://www.oreilly.com/library/view/hands-on-machine-learning/9781491962282/\n",
    "\n",
    "\n",
    "* Positive values are predictive of class 1\n",
    "* Negative values are predictive of class 0\n",
    "\n",
    "# Types of Logistic Regression\n",
    "\n",
    "\n",
    "Logistic Regression model can be classified into three groups based on the target variable categories. These three groups are described below:-\n",
    "\n",
    "\n",
    "1.\t**Binary Logistic Regression**\n",
    "\n",
    "\n",
    "In **Binary Logistic Regression**, the target variable has two possible categories. The common examples of categories are `yes or no`, `good or bad`, `true or false`, `spam or no spam` and `pass or fail`.\n",
    "\n",
    "\n",
    "2.\t**Multinomial Logistic Regression**\n",
    "\n",
    "\n",
    "In **Multinomial Logistic Regression**, the target variable has three or more categories which are not in any particular order. So, there are three or more nominal categories. The examples include the type of categories of fruits - `apple`, `mango`, `orange` and `banana`.\n",
    "\n",
    "\n",
    "3.\t**Ordinal Logistic Regression**\n",
    "\n",
    "\n",
    "In **Ordinal Logistic Regression**, the target variable has three or more ordinal categories. So, there is intrinsic order involved with the categories. For example, the student performance can be categorized as `poor`, `average`, `good` and `excellent`.\n",
    "\n",
    "\n",
    "# Decision boundary\n",
    "\n",
    "\n",
    "The sigmoid function returns a probability value between 0 and 1. This probability value is then mapped to a discrete class which is either “0” or “1”. In order to map this probability value to a discrete class (pass/fail, yes/no, true/false), we select a threshold value. This threshold value is called **Decision boundary**. Above this threshold value, we will map the probability values into class 1 and below which we will map values into class 0.\n",
    "\n",
    "\n",
    "Mathematically, it can be expressed as follows:-\n",
    "\n",
    "\n",
    "\tp ≥ 0.5 => class = 1\n",
    "\t\n",
    "\t\n",
    "\tp < 0.5 => class = 0 \n",
    "\t\n",
    "\n",
    "Generally, the decision boundary is set to 0.5. So, if the probability value is 0.8 (> 0.5), we will map this observation to class 1.  Similarly, if the probability value is 0.2 (< 0.5), we will map this observation to class 0.\n",
    "\n",
    "\n",
    "![Decision boundary](https://external-content.duckduckgo.com/iu/?u=http%3A%2F%2Fwww.holehouse.org%2Fmlclass%2F06_Logistic_Regression_files%2FImage%2520%5B5%5D.png&f=1&nofb=1)\n",
    "\n",
    "\n",
    "# Making predictions\n",
    "\n",
    "\n",
    "Now, we know about `sigmoid function` and `decision boundary` in logistic regression. We can use our knowledge of `sigmoid function` \n",
    "and `decision boundary` to write a prediction function. A prediction function in logistic regression returns the probability of the observation being positive, `Yes` or `True`. We call this as `class 1` and it is denoted by `P(class = 1)`. If the probability inches closer to one, then we will be more confident about our model that the observation is in class 1.\n",
    "\n",
    "\n",
    "In the previous example, suppose the sigmoid function returns the probability value of 0.4. It means that there is only 40% chance of passing the exam. If the decision boundary is 0.5, then we predict this observation as `fail`.\n",
    "\n",
    "\n",
    "\n",
    "\n",
    "\n"
   ]
  },
  {
   "cell_type": "markdown",
   "metadata": {
    "colab_type": "text",
    "id": "uhvfhOqG8vGg"
   },
   "source": [
    "Logistic Regression an extension of Linear regression where the dependent variable is categorical and not continuous. It predicts the probability of the outcome variable.\n"
   ]
  },
  {
   "cell_type": "markdown",
   "metadata": {
    "colab_type": "text",
    "id": "9HGsIMgV80Eb"
   },
   "source": [
    "# Representation of Logistic regression\n",
    "\n",
    "Just like a linear regression model, a logistic regression model also computes a weighted sum of input features(and adds a bias term to it). However, unlike linear regression, it calculates the logistic of the results so that the output is always between o and 1.\n",
    "\n",
    "\n",
    "\n",
    "The output of a Logistic regression model is a probability. We can select a threshold value. If the probability is greater than this threshold value, the event is predicted to happen otherwise it is predicted not to happen.\n",
    "\n",
    "Once the mpdel estimates the probabilities(p hat), it can then easily make the predictions as follows:\n",
    "\n",
    "![](https://imgur.com/cm53tL8.png)"
   ]
  },
  {
   "cell_type": "markdown",
   "metadata": {
    "_cell_guid": "a6a3a722-08a7-48c0-96fa-0144c9013a48",
    "_uuid": "1a9aa9a7484a8a1e402041f3dda067e5e5dbebce",
    "colab_type": "text",
    "id": "tniNy9nYrwyv"
   },
   "source": [
    "### Splitting data to train and test split"
   ]
  },
  {
   "cell_type": "code",
   "execution_count": 12,
   "metadata": {
    "_cell_guid": "1f21df9a-2ede-495c-a485-a992727663af",
    "_uuid": "8ff55a6b66ba18a19f84efd73104b8d3836247d4",
    "colab": {},
    "colab_type": "code",
    "id": "KxCqRfG8rwyw"
   },
   "outputs": [],
   "source": [
    "import sklearn\n",
    "new_features=heart_df[['age','Gender_male','cigsPerDay','totChol','sysBP','glucose','TenYearCHD']]\n",
    "x=new_features.iloc[:,:-1]\n",
    "y=new_features.iloc[:,-1]\n",
    "from sklearn.model_selection import train_test_split\n",
    "x_train,x_test,y_train,y_test=train_test_split(x,y,test_size=.20,random_state=5)"
   ]
  },
  {
   "cell_type": "code",
   "execution_count": 13,
   "metadata": {
    "_cell_guid": "6c5e51fd-3e41-4ca6-ba5e-71f36434dcf0",
    "_uuid": "2b9b52e6c72728b4bfff82e6c483f3430d88f6c9",
    "colab": {
     "base_uri": "https://localhost:8080/",
     "height": 153
    },
    "colab_type": "code",
    "id": "cA-PX9qJrwyz",
    "outputId": "04dd810f-ee96-437e-de77-cc48094d0496"
   },
   "outputs": [
    {
     "name": "stderr",
     "output_type": "stream",
     "text": [
      "C:\\Users\\sumai\\anaconda3\\lib\\site-packages\\sklearn\\linear_model\\_logistic.py:940: ConvergenceWarning: lbfgs failed to converge (status=1):\n",
      "STOP: TOTAL NO. of ITERATIONS REACHED LIMIT.\n",
      "\n",
      "Increase the number of iterations (max_iter) or scale the data as shown in:\n",
      "    https://scikit-learn.org/stable/modules/preprocessing.html\n",
      "Please also refer to the documentation for alternative solver options:\n",
      "    https://scikit-learn.org/stable/modules/linear_model.html#logistic-regression\n",
      "  extra_warning_msg=_LOGISTIC_SOLVER_CONVERGENCE_MSG)\n"
     ]
    }
   ],
   "source": [
    "from sklearn.linear_model import LogisticRegression\n",
    "logreg=LogisticRegression()\n",
    "logreg.fit(x_train,y_train)\n",
    "y_pred=logreg.predict(x_test)"
   ]
  },
  {
   "cell_type": "markdown",
   "metadata": {
    "_cell_guid": "ffc0c6b7-4be0-46bd-8984-eb982eba7e79",
    "_uuid": "c8f5c46cf02412b0f6b6ce0d5fdab68f75f8c4ba",
    "colab_type": "text",
    "id": "cTA8Jnbirwy3"
   },
   "source": [
    "## Model Evaluation\n",
    "\n",
    "### Model accuracy"
   ]
  },
  {
   "cell_type": "code",
   "execution_count": 14,
   "metadata": {
    "_cell_guid": "ef135c4f-33c4-41a9-809d-6b352dc0397c",
    "_uuid": "b5deedf9531410f34bb01e717ab90d883233c6e3",
    "colab": {
     "base_uri": "https://localhost:8080/",
     "height": 34
    },
    "colab_type": "code",
    "id": "EryuwI5Crwy3",
    "outputId": "8b52dc2b-5473-4be0-c52c-9b598138da08"
   },
   "outputs": [
    {
     "data": {
      "text/plain": [
       "0.8748335552596538"
      ]
     },
     "execution_count": 14,
     "metadata": {},
     "output_type": "execute_result"
    }
   ],
   "source": [
    "sklearn.metrics.accuracy_score(y_test,y_pred)"
   ]
  },
  {
   "cell_type": "markdown",
   "metadata": {
    "_cell_guid": "170ecc2a-080f-4d54-8a91-357f2167f83b",
    "_uuid": "7db798cfbb6b481419ad1086bcbcdb20c8465640",
    "colab_type": "text",
    "id": "NbKAbxIlrwy7"
   },
   "source": [
    "####  Accuracy of the model is 0.88"
   ]
  },
  {
   "cell_type": "markdown",
   "metadata": {
    "colab_type": "text",
    "id": "4dzoB2lh9BNz"
   },
   "source": [
    "# Describing the Performance of a Logistic model\n",
    "\n",
    "![](https://media.licdn.com/dms/image/C5112AQHRd51OS1-Oaw/article-cover_image-shrink_720_1280/0?e=1575504000&v=beta&t=kzm0mOJoLPQeShqeFN6jgAQwblDum8S1Nc5I2FiPTBk)\n",
    "\n",
    "[source](https://medium.com/google-design/human-centered-machine-learning-a770d10562cd)\n",
    "\n",
    "A **confusion matrix** is a table that is often used to describe the performance of a classification model (or “classifier”) on a set of test data for which the true values are known.Let us look at some of the important terms of confusion matrix.\n",
    "\n",
    "   ![](https://miro.medium.com/max/386/1*GMlSubndVt3g7FmeQjpeMA.png)\n",
    "\n",
    "  confusion matrix whether employees will leave a company or not\n",
    "\n",
    "### The Confusion Matrix tells us the following:\n",
    "\n",
    "* There are two possible predicted classes: “yes” and “no”. If we were predicting that employees would leave an organisation, for example, “yes” would mean they will, and “no” would mean they won’t leave the organisation.\n",
    "* The classifier made a total of 165 predictions (e.g., 165 employees were being studied).\n",
    "* Out of those 165 cases, the classifier predicted “yes” 110 times, and “no” 55 times.\n",
    "* In reality, 105 employees in the sample leave the organisation, and 60 do not.\n",
    "\n",
    "\n",
    "### Basic terms related to Confusion matrix:\n",
    "\n",
    "* **True positives (TP)**: These are cases in which we predicted yes (employees will leave the organisation), and employees actually leave i.e 100\n",
    "* **True negatives (TN)**: We predicted no(employees will not leave the organisation) and they don’t leave i.e 50\n",
    "* **False positives (FP)**: We predicted yes they will leave, but they don’t leave. (Also known as a “Type I error.”) i.e 10\n",
    "* **False negatives (FN)**: We predicted no they will not leave, but they actually leave (Also known as a “Type II error.”) i.e 5\n",
    "\n",
    "### Evaluating a Classification Model\n",
    "\n",
    "* **Accuracy** : (TP+TN)/Total . Describes overall, how often the classifier correct. i.e 100+50/165\n",
    "Measures of Accuracy\n",
    "\n",
    "Sensitivity and specificity are statistical measures of the performance of a binary classification test:\n",
    "\n",
    "* **Sensitivity/Recall** = TP/(TP + FN). When it’s actually yes, how often does it predict yes? i.e 100/(100+5)\n",
    "\n",
    "* **Specificity** = TN/(TN + FP).When it’s actually no, how often does it predict no?? i.e 50/(50+10)\n",
    "* **Precision** = TP/predicted yes. When it predicts yes, how often is it correct?100/(10+100)\n",
    "\n",
    "### Evaluation metrics for a Classification model’s performance.\n",
    "\n",
    "**ROC curve**\n",
    "\n",
    "A **ROC(Receiver Operator Characteristic Curve)** can help in deciding the best threshold value. It is generated by plotting the True Positive Rate (y-axis) against the False Positive Rate (x-axis) as you vary the threshold for assigning observations to a given class.ROC curve will always end at (1,1). The threshold at this point will be 0. This means that we will always classify these observations falling into the class 1(Specificity will be 0. False positive rate is 1).\n",
    "\n",
    "One should select the best threshold for the trade off you want to make. According to the criticality of the business, we need to compare the cost of failing to detect positives vs cost of raising false alarms.\n",
    "\n",
    "![](https://miro.medium.com/max/469/1*Y65IEOXvxLRKKqWxlQovsg.png)\n",
    "\n",
    "An animation to demonstrate how an ROC curve relates to sensitivity and specificity for all possible cutoffs.\n",
    "\n",
    "![Alt Text](https://github.com/dariyasydykova/open_projects/blob/master/ROC_animation/animations/ROC.gif?raw=true)\n",
    "\n",
    "[Source](https://github.com/dariyasydykova/open_projects/blob/master/ROC_animation/animations/ROC.gif)\n",
    "\n",
    "**High Threshold:**\n",
    "* High specificity\n",
    "* Low sensitivity\n",
    "\n",
    "\n",
    "**Low Threshold**\n",
    "* Low specificity\n",
    "* High sensitivity\n",
    "\n",
    "The area under ROC is called *Area Under the Curve(AUC)*. AUC gives the rate of successful classification by the logistic model. To get a more in-depth idea of what a ROC-AUC curve is and how is it calculated, here is a link to the [article](https://towardsdatascience.com/understanding-the-roc-and-auc-curves-a05b68550b69) I wrote on the same topic."
   ]
  },
  {
   "cell_type": "markdown",
   "metadata": {
    "_cell_guid": "3c44a90d-cbfb-4787-acee-56da3f180f86",
    "_uuid": "7b6090270c785e1b60309025e966cc44c2724dcc",
    "colab_type": "text",
    "id": "D-pCykvKrwy8"
   },
   "source": [
    "### Confusion matrix"
   ]
  },
  {
   "cell_type": "code",
   "execution_count": 15,
   "metadata": {
    "_cell_guid": "3b57df93-e9b9-4d32-8fe8-8a1afe1d28d9",
    "_uuid": "6dadfc64d1a62b14d472972cd3b5b3595711a5e8",
    "colab": {
     "base_uri": "https://localhost:8080/",
     "height": 337
    },
    "colab_type": "code",
    "id": "v1_nAdADrwy9",
    "outputId": "297f6c04-108b-4b83-8b7f-c84341b8ef2f"
   },
   "outputs": [
    {
     "data": {
      "text/plain": [
       "<matplotlib.axes._subplots.AxesSubplot at 0x207f01849c8>"
      ]
     },
     "execution_count": 15,
     "metadata": {},
     "output_type": "execute_result"
    },
    {
     "data": {
      "image/png": "[encoded data removed]",
      "text/plain": [
       "<Figure size 576x360 with 2 Axes>"
      ]
     },
     "metadata": {
      "needs_background": "light"
     },
     "output_type": "display_data"
    }
   ],
   "source": [
    "from sklearn.metrics import confusion_matrix\n",
    "cm=confusion_matrix(y_test,y_pred)\n",
    "conf_matrix=pd.DataFrame(data=cm,columns=['Predicted:0','Predicted:1'],index=['Actual:0','Actual:1'])\n",
    "plt.figure(figsize = (8,5))\n",
    "sn.heatmap(conf_matrix, annot=True,fmt='d',cmap=\"YlGnBu\")"
   ]
  },
  {
   "cell_type": "markdown",
   "metadata": {
    "_cell_guid": "abfa561a-b375-4edd-b493-d69c3ff3ee61",
    "_uuid": "6819f4ddb5cc364ae41bce422812137afbee4186",
    "colab_type": "text",
    "id": "_mXVP5-XrwzA"
   },
   "source": [
    "The confusion matrix shows 658+4 = 662 correct predictions and 88+1= 89 incorrect ones.\n",
    "\n",
    "- True Positives:  4\n",
    "\n",
    "- True Negatives:  658\n",
    "- False Positives: 1 (*Type I error*)\n",
    "- False Negatives: 88 ( *Type II error*)"
   ]
  },
  {
   "cell_type": "code",
   "execution_count": 16,
   "metadata": {
    "_cell_guid": "838dd1cc-78df-452d-8306-e06e8baa0e6d",
    "_uuid": "7679a3bd16a92619001cf7e349920e39938c4dc0",
    "colab": {},
    "colab_type": "code",
    "id": "iTO0hqWurwzB"
   },
   "outputs": [],
   "source": [
    "TN=cm[0,0]\n",
    "TP=cm[1,1]\n",
    "FN=cm[1,0]\n",
    "FP=cm[0,1]\n",
    "sensitivity=TP/float(TP+FN)\n",
    "specificity=TN/float(TN+FP)"
   ]
  },
  {
   "cell_type": "markdown",
   "metadata": {
    "_cell_guid": "32fd2aba-f6ed-41cc-b6e2-676a626411d8",
    "_uuid": "6ad4604c589dd46bb03dba2157dc97f5abf80bc0",
    "colab_type": "text",
    "id": "m2lUba9wrwzG"
   },
   "source": [
    "### Model Evaluation - Statistics"
   ]
  },
  {
   "cell_type": "code",
   "execution_count": 18,
   "metadata": {
    "_cell_guid": "4b314554-2e62-4b78-8fd2-8a6bbcdc5fd9",
    "_uuid": "7448c4155697b69d089237d133be1c4df4376723",
    "colab": {
     "base_uri": "https://localhost:8080/",
     "height": 153
    },
    "colab_type": "code",
    "id": "jdYsG6HTrwzH",
    "outputId": "4177c03c-ad47-47a5-ab91-45a7875e8952"
   },
   "outputs": [
    {
     "name": "stdout",
     "output_type": "stream",
     "text": [
      "The acuuracy of the model = TP+TN/(TP+TN+FP+FN) =  0.8748335552596538 \n",
      " The Missclassification = 1-Accuracy =  0.12516644474034622 \n",
      " Sensitivity or True Positive Rate = TP/(TP+FN) =  0.05434782608695652 \n",
      " Specificity or True Negative Rate = TN/(TN+FP) =  0.9893778452200304 \n",
      " Positive Predictive value = TP/(TP+FP) =  0.4166666666666667 \n",
      " Negative predictive Value = TN/(TN+FN) =  0.8822733423545331 \n",
      " Positive Likelihood Ratio = Sensitivity/(1-Specificity) =  5.116459627329198 \n",
      " Negative likelihood Ratio = (1-Sensitivity)/Specificity =  0.9558048813016804\n"
     ]
    }
   ],
   "source": [
    "print('The acuuracy of the model = TP+TN/(TP+TN+FP+FN) = ',(TP+TN)/float(TP+TN+FP+FN),'\\n',\n",
    "\n",
    "'The Missclassification = 1-Accuracy = ',1-((TP+TN)/float(TP+TN+FP+FN)),'\\n',\n",
    "\n",
    "'Sensitivity or True Positive Rate = TP/(TP+FN) = ',TP/float(TP+FN),'\\n',\n",
    "\n",
    "'Specificity or True Negative Rate = TN/(TN+FP) = ',TN/float(TN+FP),'\\n',\n",
    "\n",
    "'Positive Predictive value = TP/(TP+FP) = ',TP/float(TP+FP),'\\n',\n",
    "\n",
    "'Negative predictive Value = TN/(TN+FN) = ',TN/float(TN+FN),'\\n',\n",
    "\n",
    "'Positive Likelihood Ratio = Sensitivity/(1-Specificity) = ',sensitivity/(1-specificity),'\\n',\n",
    "\n",
    "'Negative likelihood Ratio = (1-Sensitivity)/Specificity = ',(1-sensitivity)/specificity)"
   ]
  },
  {
   "cell_type": "markdown",
   "metadata": {
    "_cell_guid": "161e6ad5-13bb-46ca-9a59-ce88a2572d72",
    "_uuid": "1a21c02ad27ae1f35d8b2c1a7470f1fe3ad99a7c",
    "colab_type": "text",
    "id": "cdgTJ47WrwzL"
   },
   "source": [
    "**From the above statistics it is clear that the model is highly specific than sensitive. The negative values are predicted more accurately than the positives.**"
   ]
  },
  {
   "cell_type": "markdown",
   "metadata": {
    "_cell_guid": "a14bc45c-f000-4803-983e-934f331ae0f6",
    "_uuid": "2f936ed959075964b25fcb753548ea00f3fe0af2",
    "colab_type": "text",
    "id": "Dzvsk3IlrwzZ"
   },
   "source": [
    "A common way to visualize the trade-offs of different thresholds is by using an ROC curve, a plot of the true positive rate (# true positives/ total # positives) versus the false positive rate (# false positives /\n",
    "total # negatives) for all possible choices of thresholds. A model with good classification accuracy should have significantly more true positives than false positives at all thresholds. \n",
    "\n",
    "The optimum position for roc curve is towards the top left corner where the specificity and sensitivity are at optimum levels"
   ]
  },
  {
   "cell_type": "markdown",
   "metadata": {
    "colab_type": "text",
    "id": "WVbM6JfkHpLW"
   },
   "source": [
    "### Predicted probabilities of  0 (No Coronary Heart Disease) and 1 ( Coronary Heart Disease: Yes)  for the test data with a default classification threshold of 0.5"
   ]
  },
  {
   "cell_type": "code",
   "execution_count": 19,
   "metadata": {
    "colab": {
     "base_uri": "https://localhost:8080/",
     "height": 204
    },
    "colab_type": "code",
    "id": "Q0Momj1dHros",
    "outputId": "996f9fdd-0b89-40a1-8012-8d400fe2b35f"
   },
   "outputs": [
    {
     "data": {
      "text/html": [
       "<div>\n",
       "<style scoped>\n",
       "    .dataframe tbody tr th:only-of-type {\n",
       "        vertical-align: middle;\n",
       "    }\n",
       "\n",
       "    .dataframe tbody tr th {\n",
       "        vertical-align: top;\n",
       "    }\n",
       "\n",
       "    .dataframe thead th {\n",
       "        text-align: right;\n",
       "    }\n",
       "</style>\n",
       "<table border=\"1\" class=\"dataframe\">\n",
       "  <thead>\n",
       "    <tr style=\"text-align: right;\">\n",
       "      <th></th>\n",
       "      <th>Prob of no heart disease (0)</th>\n",
       "      <th>Prob of Heart Disease (1)</th>\n",
       "    </tr>\n",
       "  </thead>\n",
       "  <tbody>\n",
       "    <tr>\n",
       "      <th>0</th>\n",
       "      <td>0.875041</td>\n",
       "      <td>0.124959</td>\n",
       "    </tr>\n",
       "    <tr>\n",
       "      <th>1</th>\n",
       "      <td>0.956189</td>\n",
       "      <td>0.043811</td>\n",
       "    </tr>\n",
       "    <tr>\n",
       "      <th>2</th>\n",
       "      <td>0.783455</td>\n",
       "      <td>0.216545</td>\n",
       "    </tr>\n",
       "    <tr>\n",
       "      <th>3</th>\n",
       "      <td>0.806562</td>\n",
       "      <td>0.193438</td>\n",
       "    </tr>\n",
       "    <tr>\n",
       "      <th>4</th>\n",
       "      <td>0.892896</td>\n",
       "      <td>0.107104</td>\n",
       "    </tr>\n",
       "  </tbody>\n",
       "</table>\n",
       "</div>"
      ],
      "text/plain": [
       "   Prob of no heart disease (0)  Prob of Heart Disease (1)\n",
       "0                      0.875041                   0.124959\n",
       "1                      0.956189                   0.043811\n",
       "2                      0.783455                   0.216545\n",
       "3                      0.806562                   0.193438\n",
       "4                      0.892896                   0.107104"
      ]
     },
     "execution_count": 19,
     "metadata": {},
     "output_type": "execute_result"
    }
   ],
   "source": [
    "y_pred_prob=logreg.predict_proba(x_test)[:,:]\n",
    "y_pred_prob_df=pd.DataFrame(data=y_pred_prob, columns=['Prob of no heart disease (0)','Prob of Heart Disease (1)'])\n",
    "y_pred_prob_df.head()"
   ]
  },
  {
   "cell_type": "markdown",
   "metadata": {
    "colab_type": "text",
    "id": "bP9GSW6VHtn8"
   },
   "source": [
    "### Lower the threshold"
   ]
  },
  {
   "cell_type": "markdown",
   "metadata": {
    "colab_type": "text",
    "id": "EdoHWobuHwUC"
   },
   "source": [
    "Since the model is predicting Heart disease too many type II errors is not advisable. A False Negative ( ignoring the probability of disease when there actualy is one) is more dangerous than a False Positive in this case. Hence inorder to increase the sensitivity,  threshold can be lowered."
   ]
  },
  {
   "cell_type": "code",
   "execution_count": 20,
   "metadata": {
    "colab": {
     "base_uri": "https://localhost:8080/",
     "height": 629
    },
    "colab_type": "code",
    "id": "fGgXqCLoHyUJ",
    "outputId": "4733ce27-677d-4b74-e56f-375d75d5d8e3"
   },
   "outputs": [
    {
     "name": "stdout",
     "output_type": "stream",
     "text": [
      "With 0.1 threshold the Confusion Matrix is  \n",
      " [[311 348]\n",
      " [ 12  80]] \n",
      " with 391 correct predictions and 12 Type II errors( False Negatives) \n",
      "\n",
      " Sensitivity:  0.8695652173913043 Specificity:  0.47192716236722304 \n",
      "\n",
      "\n",
      "\n",
      "With 0.2 threshold the Confusion Matrix is  \n",
      " [[518 141]\n",
      " [ 43  49]] \n",
      " with 567 correct predictions and 43 Type II errors( False Negatives) \n",
      "\n",
      " Sensitivity:  0.532608695652174 Specificity:  0.7860394537177542 \n",
      "\n",
      "\n",
      "\n",
      "With 0.3 threshold the Confusion Matrix is  \n",
      " [[600  59]\n",
      " [ 64  28]] \n",
      " with 628 correct predictions and 64 Type II errors( False Negatives) \n",
      "\n",
      " Sensitivity:  0.30434782608695654 Specificity:  0.9104704097116844 \n",
      "\n",
      "\n",
      "\n",
      "With 0.4 threshold the Confusion Matrix is  \n",
      " [[640  19]\n",
      " [ 80  12]] \n",
      " with 652 correct predictions and 80 Type II errors( False Negatives) \n",
      "\n",
      " Sensitivity:  0.13043478260869565 Specificity:  0.9711684370257967 \n",
      "\n",
      "\n",
      "\n"
     ]
    }
   ],
   "source": [
    "from sklearn.preprocessing import binarize\n",
    "for i in range(1,5):\n",
    "    cm2=0\n",
    "    y_pred_prob_yes=logreg.predict_proba(x_test)\n",
    "    y_pred2=binarize(y_pred_prob_yes,i/10)[:,1]\n",
    "    cm2=confusion_matrix(y_test,y_pred2)\n",
    "    print ('With',i/10,'threshold the Confusion Matrix is ','\\n',cm2,'\\n',\n",
    "            'with',cm2[0,0]+cm2[1,1],'correct predictions and',cm2[1,0],'Type II errors( False Negatives)','\\n\\n',\n",
    "          'Sensitivity: ',cm2[1,1]/(float(cm2[1,1]+cm2[1,0])),'Specificity: ',cm2[0,0]/(float(cm2[0,0]+cm2[0,1])),'\\n\\n\\n')\n",
    "    "
   ]
  },
  {
   "cell_type": "markdown",
   "metadata": {
    "colab_type": "text",
    "id": "hTURCvuXH2MF"
   },
   "source": [
    "### ROC curve<font>"
   ]
  },
  {
   "cell_type": "code",
   "execution_count": 21,
   "metadata": {
    "colab": {
     "base_uri": "https://localhost:8080/",
     "height": 295
    },
    "colab_type": "code",
    "id": "7SES9eXXH38L",
    "outputId": "6c2bd71e-9da0-4f2d-bc5c-ea5af3bfa681"
   },
   "outputs": [
    {
     "data": {
      "image/png": "[encoded data removed]",
      "text/plain": [
       "<Figure size 432x288 with 1 Axes>"
      ]
     },
     "metadata": {
      "needs_background": "light"
     },
     "output_type": "display_data"
    }
   ],
   "source": [
    "from sklearn.metrics import roc_curve\n",
    "fpr, tpr, thresholds = roc_curve(y_test, y_pred_prob_yes[:,1])\n",
    "plt.plot(fpr,tpr)\n",
    "plt.xlim([0.0, 1.0])\n",
    "plt.ylim([0.0, 1.0])\n",
    "plt.title('ROC curve for Heart disease classifier')\n",
    "plt.xlabel('False positive rate (1-Specificity)')\n",
    "plt.ylabel('True positive rate (Sensitivity)')\n",
    "plt.grid(True)"
   ]
  },
  {
   "cell_type": "markdown",
   "metadata": {
    "colab_type": "text",
    "id": "yPilqnDnH7v3"
   },
   "source": [
    "A common way to visualize the trade-offs of different thresholds is by using an ROC curve, a plot of the true positive rate (# true positives/ total # positives) versus the false positive rate (# false positives /\n",
    "total # negatives) for all possible choices of thresholds. A model with good classification accuracy should have significantly more true positives than false positives at all thresholds. \n",
    "\n",
    "The optimum position for roc curve is towards the top left corner where the specificity and sensitivity are at optimum levels"
   ]
  },
  {
   "cell_type": "markdown",
   "metadata": {
    "_cell_guid": "8b48402f-20b5-4408-ae09-79576c61bc85",
    "_uuid": "25342d42365c10d4b8c397324c09bfd658776462",
    "colab_type": "text",
    "id": "WN8FK_EIrwza"
   },
   "source": [
    "### Area Under The Curve (AUC)\n",
    "\n",
    "The area under the ROC curve quantifies model classification accuracy; the higher the area, the greater the disparity between true and false positives, and the stronger the model in classifying members of the training dataset. An area of 0.5 corresponds to a model that performs no better than random classification and a good classifier stays as far away from that  as possible. An area of 1 is ideal. The closer the AUC to 1 the better."
   ]
  },
  {
   "cell_type": "code",
   "execution_count": 22,
   "metadata": {
    "_cell_guid": "719c8a37-8cf1-44ed-b312-d4d7ef6414ff",
    "_uuid": "62755c5a95c67810df506bf3972ecf319a86bf98",
    "colab": {
     "base_uri": "https://localhost:8080/",
     "height": 34
    },
    "colab_type": "code",
    "id": "xWIA9LrYrwza",
    "outputId": "06a020c5-e829-4017-abad-8cf497c6df8f"
   },
   "outputs": [
    {
     "data": {
      "text/plain": [
       "0.7386026258494425"
      ]
     },
     "execution_count": 22,
     "metadata": {},
     "output_type": "execute_result"
    }
   ],
   "source": [
    "sklearn.metrics.roc_auc_score(y_test,y_pred_prob_yes[:,1])"
   ]
  },
  {
   "cell_type": "markdown",
   "metadata": {
    "_cell_guid": "bda76cab-79ca-4f3f-a864-19443787a3e4",
    "_uuid": "c2e31f1f363af6d137ebf7df90d62b9cfae6f136",
    "colab_type": "text",
    "id": "daPma_JCrwzd"
   },
   "source": [
    "\n",
    "## Conclusions:\n",
    "\n",
    "\n",
    "\n",
    "\n",
    " - All attributes selected after the elimination process show Pvalues lower than 5% and thereby suggesting significant role in the Heart disease prediction. \n",
    "\n",
    " - Men seem to be more susceptible to heart disease than women.Increase in Age,number of cigarettes smoked per day and systolic Blood Pressure also show increasing odds of having heart disease.\n",
    "\n",
    " - Total cholesterol shows no significant change in the odds of CHD. This could be due to the presence of 'good cholesterol(HDL) in the total cholesterol reading.Glucose too causes a very negligible change in odds (0.2%)\n",
    "\n",
    " - The model predicted with 0.88 accuracy. The model is more specific than sensitive.\n",
    "\n",
    " - The Area under the ROC curve is 73.5 which is somewhat satisfactory.\n",
    "\n",
    " - Overall model could be improved with more data."
   ]
  },
  {
   "cell_type": "markdown",
   "metadata": {
    "_cell_guid": "a3e3d46a-61a6-4b14-a518-cefa27b44b5a",
    "_uuid": "5e0b2ae2206ad6758fc87492ea41999afb4887d0",
    "colab_type": "text",
    "id": "2q8maGOWrwze"
   },
   "source": [
    "## Resource Credits\n",
    "\n",
    "http://www.who.int/mediacentre/factsheets/fs317/en/\n",
    "\n",
    "https://www.kaggle.com/parulpandey/deep-dive-into-logistic-regression-for-beginners\n",
    "\n",
    "\n",
    "https://www.kaggle.com/amanajmera1/framingham-heart-study-dataset/data\n",
    "\n",
    "https://www.kaggle.com/neisha/heart-disease-prediction-using-logistic-regression"
   ]
  }
 ],
 "metadata": {
  "colab": {
   "collapsed_sections": [],
   "name": "Logistic Regression",
   "provenance": []
  },
  "kernelspec": {
   "display_name": "Python 3",
   "language": "python",
   "name": "python3"
  },
  "language_info": {
   "codemirror_mode": {
    "name": "ipython",
    "version": 3
   },
   "file_extension": ".py",
   "mimetype": "text/x-python",
   "name": "python",
   "nbconvert_exporter": "python",
   "pygments_lexer": "ipython3",
   "version": "3.7.6"
  }
 },
 "nbformat": 4,
 "nbformat_minor": 4
}
