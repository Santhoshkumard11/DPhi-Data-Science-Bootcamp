{
 "cells": [
  {
   "cell_type": "markdown",
   "metadata": {},
   "source": [
    "Problem 1\n",
    "\n",
    "Write a function addition() such that it can accept two variables and calculate the sum of it. \n",
    "\n",
    "def addition(a, b): \n",
    "You should write your function here \n",
    "addition(5, 6) \n",
    "\n",
    "this result should print 11 \n"
   ]
  },
  {
   "cell_type": "code",
   "execution_count": 11,
   "metadata": {},
   "outputs": [
    {
     "name": "stdout",
     "output_type": "stream",
     "text": [
      "11\n"
     ]
    }
   ],
   "source": [
    "def addition(a, b):\n",
    "    result = (a + b)\n",
    "    print (result)\n",
    "\n",
    "addition(5, 6)"
   ]
  },
  {
   "cell_type": "markdown",
   "metadata": {},
   "source": [
    "Problem 2: \n",
    "\n",
    "Write a function display( ) such that it can accept two variables - a string s and a number n and display the string n number of times. "
   ]
  },
  {
   "cell_type": "code",
   "execution_count": 4,
   "metadata": {},
   "outputs": [
    {
     "name": "stdout",
     "output_type": "stream",
     "text": [
      "Sumaia\n",
      "Sumaia\n",
      "Sumaia\n",
      "Sumaia\n",
      "Sumaia\n"
     ]
    }
   ],
   "source": [
    "def display(s, n):\n",
    "    for i in range(n):\n",
    "        print (s)\n",
    "        \n",
    "display('Sumaia', 5)"
   ]
  },
  {
   "cell_type": "markdown",
   "metadata": {},
   "source": [
    "Problem 3: Write a Python function to sum all the numbers in a list. \n",
    "\n",
    "Sample List : [8, 2, 3, 0, 7] \n",
    "\n",
    "Expected Output : 20 \n",
    "\n",
    "Hint: There is a built-in method for this purpose "
   ]
  },
  {
   "cell_type": "code",
   "execution_count": 6,
   "metadata": {},
   "outputs": [
    {
     "name": "stdout",
     "output_type": "stream",
     "text": [
      "20\n"
     ]
    }
   ],
   "source": [
    "list1 = [8, 2, 3, 0, 7]\n",
    "\n",
    "def addition(lst = []):\n",
    "    \n",
    "    tot = 0\n",
    "    for item in list1:\n",
    "        tot = tot + item \n",
    "\n",
    "    print (tot)\n",
    "    \n",
    "addition(list1)    "
   ]
  },
  {
   "cell_type": "code",
   "execution_count": 7,
   "metadata": {},
   "outputs": [
    {
     "data": {
      "text/plain": [
       "20"
      ]
     },
     "execution_count": 7,
     "metadata": {},
     "output_type": "execute_result"
    }
   ],
   "source": [
    "list1 = [8, 2, 3, 0, 7]\n",
    "\n",
    "tot = sum(list1)\n",
    "tot"
   ]
  }
 ],
 "metadata": {
  "kernelspec": {
   "display_name": "Python 3",
   "language": "python",
   "name": "python3"
  },
  "language_info": {
   "codemirror_mode": {
    "name": "ipython",
    "version": 3
   },
   "file_extension": ".py",
   "mimetype": "text/x-python",
   "name": "python",
   "nbconvert_exporter": "python",
   "pygments_lexer": "ipython3",
   "version": "3.7.6"
  }
 },
 "nbformat": 4,
 "nbformat_minor": 4
}
