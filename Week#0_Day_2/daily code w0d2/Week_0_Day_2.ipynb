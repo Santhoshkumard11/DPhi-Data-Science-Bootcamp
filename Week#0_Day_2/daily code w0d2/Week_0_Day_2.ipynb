{
  "nbformat": 4,
  "nbformat_minor": 0,
  "metadata": {
    "colab": {
      "name": "Week_0_Day_2.ipynb",
      "provenance": []
    },
    "kernelspec": {
      "name": "python3",
      "display_name": "Python 3"
    }
  },
  "cells": [
    {
      "cell_type": "markdown",
      "metadata": {
        "id": "G_ESqzq_oY0P",
        "colab_type": "text"
      },
      "source": [
        "1. Print First 10 natural numbers using while loop."
      ]
    },
    {
      "cell_type": "code",
      "metadata": {
        "id": "4qauVgGgofmk",
        "colab_type": "code",
        "colab": {
          "base_uri": "https://localhost:8080/",
          "height": 204
        },
        "outputId": "a1a6f9ff-9b93-4599-b177-da1d6cd636ee"
      },
      "source": [
        "x = list(range(11))\n",
        "i = 0\n",
        "\n",
        "while i < len(x) and x[i] in range(0, 11):\n",
        "  print (x[i])\n",
        "  i = i + 1"
      ],
      "execution_count": 1,
      "outputs": [
        {
          "output_type": "stream",
          "text": [
            "0\n",
            "1\n",
            "2\n",
            "3\n",
            "4\n",
            "5\n",
            "6\n",
            "7\n",
            "8\n",
            "9\n",
            "10\n"
          ],
          "name": "stdout"
        }
      ]
    },
    {
      "cell_type": "markdown",
      "metadata": {
        "id": "OVrq9sUGosbe",
        "colab_type": "text"
      },
      "source": [
        "2. Iterate over the following list and print the elements:\n",
        "\n",
        "  list1 = [12, 15, 32, 42, 55, 75, 122, 132, 150, 180, 200]"
      ]
    },
    {
      "cell_type": "code",
      "metadata": {
        "id": "08LxTAYjhMva",
        "colab_type": "code",
        "colab": {
          "base_uri": "https://localhost:8080/",
          "height": 204
        },
        "outputId": "3817b3f4-139e-430c-b91f-598a72dc941e"
      },
      "source": [
        "list1 = [12, 15, 32, 42, 55, 75, 122, 132, 150, 180, 200]\n",
        "\n",
        "for item in list1:\n",
        "  print (item)"
      ],
      "execution_count": 2,
      "outputs": [
        {
          "output_type": "stream",
          "text": [
            "12\n",
            "15\n",
            "32\n",
            "42\n",
            "55\n",
            "75\n",
            "122\n",
            "132\n",
            "150\n",
            "180\n",
            "200\n"
          ],
          "name": "stdout"
        }
      ]
    },
    {
      "cell_type": "markdown",
      "metadata": {
        "id": "954xndWxo1pk",
        "colab_type": "text"
      },
      "source": [
        "3. Accept a number n from user and print its multiplication table."
      ]
    },
    {
      "cell_type": "code",
      "metadata": {
        "id": "O6ghZWQumRVp",
        "colab_type": "code",
        "colab": {
          "base_uri": "https://localhost:8080/",
          "height": 34
        },
        "outputId": "631996aa-f696-4e21-cf0b-e9331ff72fdc"
      },
      "source": [
        "n = int(input(\"Number = \"))"
      ],
      "execution_count": 3,
      "outputs": [
        {
          "output_type": "stream",
          "text": [
            "Number = 13\n"
          ],
          "name": "stdout"
        }
      ]
    },
    {
      "cell_type": "code",
      "metadata": {
        "id": "VVaVLxXhmYwa",
        "colab_type": "code",
        "colab": {
          "base_uri": "https://localhost:8080/",
          "height": 238
        },
        "outputId": "9ca149fb-0605-463f-bde7-7fc86626641c"
      },
      "source": [
        "list3 = list(range(1, n + 1))\n",
        "\n",
        "for item in list3:\n",
        "  print (n, \"times\", item, \"=\", n*item)"
      ],
      "execution_count": 4,
      "outputs": [
        {
          "output_type": "stream",
          "text": [
            "13 times 1 = 13\n",
            "13 times 2 = 26\n",
            "13 times 3 = 39\n",
            "13 times 4 = 52\n",
            "13 times 5 = 65\n",
            "13 times 6 = 78\n",
            "13 times 7 = 91\n",
            "13 times 8 = 104\n",
            "13 times 9 = 117\n",
            "13 times 10 = 130\n",
            "13 times 11 = 143\n",
            "13 times 12 = 156\n",
            "13 times 13 = 169\n"
          ],
          "name": "stdout"
        }
      ]
    },
    {
      "cell_type": "markdown",
      "metadata": {
        "id": "5VR3evB4nPRS",
        "colab_type": "text"
      },
      "source": [
        "4. Use the enumerate function to print the elements of this list along\n",
        "with the indices:\n",
        "  grocery = ['bread', 'milk', 'butter']"
      ]
    },
    {
      "cell_type": "code",
      "metadata": {
        "id": "DY52JmByh6Ht",
        "colab_type": "code",
        "colab": {
          "base_uri": "https://localhost:8080/",
          "height": 68
        },
        "outputId": "b9c74715-9843-421a-c63d-40ab3bf6a6c4"
      },
      "source": [
        "grocery = ['bread', 'milk', 'butter']\n",
        "\n",
        "for i, item in enumerate(grocery):\n",
        "  print (\"item at index \", i, \":\", item)"
      ],
      "execution_count": 5,
      "outputs": [
        {
          "output_type": "stream",
          "text": [
            "item at index  0 : bread\n",
            "item at index  1 : milk\n",
            "item at index  2 : butter\n"
          ],
          "name": "stdout"
        }
      ]
    },
    {
      "cell_type": "markdown",
      "metadata": {
        "id": "dMxgHyxypKjZ",
        "colab_type": "text"
      },
      "source": [
        "5. Write a program to input number from user and find sum of all numbers\n",
        "between 1 to n."
      ]
    },
    {
      "cell_type": "code",
      "metadata": {
        "id": "3R4QZMucif1X",
        "colab_type": "code",
        "colab": {
          "base_uri": "https://localhost:8080/",
          "height": 34
        },
        "outputId": "6176d371-492a-4cd1-d4d4-1b24c6576af2"
      },
      "source": [
        "n = int(input(\"A number= \"))"
      ],
      "execution_count": 6,
      "outputs": [
        {
          "output_type": "stream",
          "text": [
            "A number= 13\n"
          ],
          "name": "stdout"
        }
      ]
    },
    {
      "cell_type": "code",
      "metadata": {
        "id": "P-2C-h2AizyX",
        "colab_type": "code",
        "colab": {
          "base_uri": "https://localhost:8080/",
          "height": 34
        },
        "outputId": "c1927c58-9506-4901-f543-d52241cf1af4"
      },
      "source": [
        "total  = 0\n",
        "\n",
        "for i in range(1, n):\n",
        "  total = total + i\n",
        "\n",
        "print (total)"
      ],
      "execution_count": 7,
      "outputs": [
        {
          "output_type": "stream",
          "text": [
            "78\n"
          ],
          "name": "stdout"
        }
      ]
    },
    {
      "cell_type": "markdown",
      "metadata": {
        "id": "pGdn-_o7pbQE",
        "colab_type": "text"
      },
      "source": [
        "6. Create a sequence of numbers from 3 to 5, and print each item in the\n",
        "sequence."
      ]
    },
    {
      "cell_type": "code",
      "metadata": {
        "id": "WMIa9ntHjKUY",
        "colab_type": "code",
        "colab": {
          "base_uri": "https://localhost:8080/",
          "height": 68
        },
        "outputId": "78e8a265-e37a-4fd9-f840-919e298c950b"
      },
      "source": [
        "u = list(range(3, 6))\n",
        "\n",
        "for item in u:\n",
        "  print (item)"
      ],
      "execution_count": 8,
      "outputs": [
        {
          "output_type": "stream",
          "text": [
            "3\n",
            "4\n",
            "5\n"
          ],
          "name": "stdout"
        }
      ]
    },
    {
      "cell_type": "markdown",
      "metadata": {
        "id": "FM2qyByPpfYM",
        "colab_type": "text"
      },
      "source": [
        "7. Create a sequence of numbers from 3 to 5, and print each item in the\n",
        "sequence."
      ]
    },
    {
      "cell_type": "code",
      "metadata": {
        "id": "vPYBN1Wsjzyb",
        "colab_type": "code",
        "colab": {
          "base_uri": "https://localhost:8080/",
          "height": 34
        },
        "outputId": "719dda6b-4b7e-4a7e-a6d8-a1ba4197d932"
      },
      "source": [
        "v = list(range(3, 20))\n",
        "\n",
        "newlist  = []\n",
        "i = 0\n",
        "\n",
        "while i in range(len(v)):\n",
        "  newlist.append(v[i])\n",
        "  i = i + 2\n",
        "  \n",
        "\n",
        "print (newlist)\n"
      ],
      "execution_count": 9,
      "outputs": [
        {
          "output_type": "stream",
          "text": [
            "[3, 5, 7, 9, 11, 13, 15, 17, 19]\n"
          ],
          "name": "stdout"
        }
      ]
    },
    {
      "cell_type": "markdown",
      "metadata": {
        "id": "vfmlp_jppnSD",
        "colab_type": "text"
      },
      "source": [
        "8. Print the letters of the string “Python” in the same line:\n",
        "\n",
        "  a. Using a simple for loop\n",
        "  b. Using the range function"
      ]
    },
    {
      "cell_type": "code",
      "metadata": {
        "id": "yrEhMSuElN73",
        "colab_type": "code",
        "colab": {
          "base_uri": "https://localhost:8080/",
          "height": 34
        },
        "outputId": "ea4396bc-8e63-4d78-a820-85b15cf08b73"
      },
      "source": [
        "string  = \"Python\"\n",
        "\n",
        "# a\n",
        "for item in string:\n",
        "  print (item, end= '')"
      ],
      "execution_count": 10,
      "outputs": [
        {
          "output_type": "stream",
          "text": [
            "Python"
          ],
          "name": "stdout"
        }
      ]
    },
    {
      "cell_type": "code",
      "metadata": {
        "id": "oHVcpOgoqAPs",
        "colab_type": "code",
        "colab": {
          "base_uri": "https://localhost:8080/",
          "height": 34
        },
        "outputId": "57e50874-e122-4471-b203-20470f421d24"
      },
      "source": [
        "# b\n",
        "newlist  = []\n",
        "i = 0\n",
        "\n",
        "while i in range(len(string)):\n",
        "  newlist.append(string[i])\n",
        "  i = i + 1\n",
        "  \n",
        "print (newlist)"
      ],
      "execution_count": 11,
      "outputs": [
        {
          "output_type": "stream",
          "text": [
            "['P', 'y', 't', 'h', 'o', 'n']\n"
          ],
          "name": "stdout"
        }
      ]
    }
  ]
}