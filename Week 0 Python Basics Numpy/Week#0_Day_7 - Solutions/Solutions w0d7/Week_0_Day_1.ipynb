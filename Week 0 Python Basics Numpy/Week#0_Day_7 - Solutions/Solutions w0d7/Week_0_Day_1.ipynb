{
  "nbformat": 4,
  "nbformat_minor": 0,
  "metadata": {
    "kernelspec": {
      "display_name": "Python 3",
      "language": "python",
      "name": "python3"
    },
    "language_info": {
      "codemirror_mode": {
        "name": "ipython",
        "version": 3
      },
      "file_extension": ".py",
      "mimetype": "text/x-python",
      "name": "python",
      "nbconvert_exporter": "python",
      "pygments_lexer": "ipython3",
      "version": "3.7.3"
    },
    "colab": {
      "name": "Week#0_Day#1.ipynb",
      "provenance": []
    }
  },
  "cells": [
    {
      "cell_type": "markdown",
      "metadata": {
        "id": "AW9PKKP2fn_C",
        "colab_type": "text"
      },
      "source": [
        "## Solutions of Week 0 Day 1 Practice Questions \n",
        "##### We thank our coaches for coming up with this. \n",
        "##### **Contributors:** Sanyam Dhawan, Utkarsh, Aishwarya Yadav, Avi Tomar, Julian Marinda, Manish KC, Gunnika Batra"
      ]
    },
    {
      "cell_type": "markdown",
      "metadata": {
        "id": "TxjE5nC6hmZ5",
        "colab_type": "text"
      },
      "source": [
        "1. Write a program to store the names of your following members of family : <br><br>john, chan, yuen, matt.\n",
        "   Put them in a list names list1."
      ]
    },
    {
      "cell_type": "code",
      "metadata": {
        "id": "gnq_UBVAfn_D",
        "colab_type": "code",
        "colab": {}
      },
      "source": [
        "# creating the list\n",
        "list1 = ['john', 'chan', 'yuen', 'matt']"
      ],
      "execution_count": 0,
      "outputs": []
    },
    {
      "cell_type": "markdown",
      "metadata": {
        "id": "bcw6aV4Lfn_J",
        "colab_type": "text"
      },
      "source": [
        "2. Print the list"
      ]
    },
    {
      "cell_type": "code",
      "metadata": {
        "id": "VeaZrPT0fn_K",
        "colab_type": "code",
        "outputId": "1b4670f3-e227-4106-d4c0-82e09f8fb742",
        "colab": {
          "base_uri": "https://localhost:8080/",
          "height": 34
        }
      },
      "source": [
        "# using print() function to print the list\n",
        "print(list1)"
      ],
      "execution_count": 2,
      "outputs": [
        {
          "output_type": "stream",
          "text": [
            "['john', 'chan', 'yuen', 'matt']\n"
          ],
          "name": "stdout"
        }
      ]
    },
    {
      "cell_type": "markdown",
      "metadata": {
        "id": "5JEkUTCcfn_Q",
        "colab_type": "text"
      },
      "source": [
        "3. Grab the second element of the list and print it."
      ]
    },
    {
      "cell_type": "code",
      "metadata": {
        "id": "yTTJJx29fn_R",
        "colab_type": "code",
        "outputId": "419f475d-4517-470e-88a8-185dc4fe5d3f",
        "colab": {
          "base_uri": "https://localhost:8080/",
          "height": 34
        }
      },
      "source": [
        "# since the indexing starts from 0, the second element is at index 1\n",
        "second_element = list1[1]\n",
        "\n",
        "# printing the second element\n",
        "print(second_element)"
      ],
      "execution_count": 3,
      "outputs": [
        {
          "output_type": "stream",
          "text": [
            "chan\n"
          ],
          "name": "stdout"
        }
      ]
    },
    {
      "cell_type": "markdown",
      "metadata": {
        "id": "DdIlZxD4fn_W",
        "colab_type": "text"
      },
      "source": [
        "4. Change the second element to the name of your friend and print the list again"
      ]
    },
    {
      "cell_type": "code",
      "metadata": {
        "id": "KflKmZb6fn_X",
        "colab_type": "code",
        "outputId": "28783ad0-e767-4368-8934-6da6467d13e8",
        "colab": {
          "base_uri": "https://localhost:8080/",
          "height": 34
        }
      },
      "source": [
        "# changing the name at index 1 (i.e. second element)\n",
        "list1[1] = 'your_friends_name'\n",
        "\n",
        "print(list1)"
      ],
      "execution_count": 4,
      "outputs": [
        {
          "output_type": "stream",
          "text": [
            "['john', 'your_friends_name', 'yuen', 'matt']\n"
          ],
          "name": "stdout"
        }
      ]
    },
    {
      "cell_type": "markdown",
      "metadata": {
        "id": "3LSKN2I5fn_c",
        "colab_type": "text"
      },
      "source": [
        "5. Now try to create a list of list named list2 with each element as [name, age] of the family members"
      ]
    },
    {
      "cell_type": "code",
      "metadata": {
        "id": "W8hIYMWsfn_c",
        "colab_type": "code",
        "outputId": "91302696-cd12-4ca2-c152-a45afecc1a7c",
        "colab": {
          "base_uri": "https://localhost:8080/",
          "height": 34
        }
      },
      "source": [
        "# creating a list of list with names and age (randomly assigned) of the family members\n",
        "list2 = [['john', 20], ['chan', 25], ['yuen', 30], ['matt', 35]]\n",
        "\n",
        "print(list2)"
      ],
      "execution_count": 5,
      "outputs": [
        {
          "output_type": "stream",
          "text": [
            "[['john', 20], ['chan', 25], ['yuen', 30], ['matt', 35]]\n"
          ],
          "name": "stdout"
        }
      ]
    },
    {
      "cell_type": "markdown",
      "metadata": {
        "id": "GtcC9zM-fn_g",
        "colab_type": "text"
      },
      "source": [
        "6. Add item 7000 after 6000 in the following Python list <br> <br>\n",
        "   list1 = [10, 20, [300, 400, [5000, 6000], 500], 30, 40]"
      ]
    },
    {
      "cell_type": "code",
      "metadata": {
        "id": "hJXamKfifn_h",
        "colab_type": "code",
        "outputId": "0c7d53f4-cd10-4b03-c2ca-5bfa18e9d21c",
        "colab": {
          "base_uri": "https://localhost:8080/",
          "height": 51
        }
      },
      "source": [
        "list1 = [10, 20, [300, 400, [5000, 6000], 500], 30, 40]\n",
        "\n",
        "# 2nd index (i.e. third element in list1) is [300, 400, [5000, 6000], 500]\n",
        "# 2nd index within this inner list is [5000, 6000] where we desire to add 7000\n",
        "# we use append function of python lists to add 7000 after 6000 in list1\n",
        "# Append : Adds its argument as a single element to the end of a list. The length of the list increases by one.\n",
        "\n",
        "list1[2][2].append(7000)\n",
        "print('Updated list1 :\\n', list1)"
      ],
      "execution_count": 6,
      "outputs": [
        {
          "output_type": "stream",
          "text": [
            "Updated list1 :\n",
            " [10, 20, [300, 400, [5000, 6000, 7000], 500], 30, 40]\n"
          ],
          "name": "stdout"
        }
      ]
    },
    {
      "cell_type": "markdown",
      "metadata": {
        "id": "kzt8_ExRfn_l",
        "colab_type": "text"
      },
      "source": [
        "7. Given a python list, find value 20 in it and if present, replace it with 200. Only update the first occurrence of the value. <br>\n",
        "list1 = [5, 10, 15, 20, 25, 50, 20]"
      ]
    },
    {
      "cell_type": "code",
      "metadata": {
        "id": "w9Yf1tuZfn_m",
        "colab_type": "code",
        "outputId": "99a1ec03-4824-4c8f-e0d0-e7c5777848fe",
        "colab": {
          "base_uri": "https://localhost:8080/",
          "height": 68
        }
      },
      "source": [
        "### METHOD 1 (The Hard Way)\n",
        "\n",
        "list1 = [5, 10, 15, 20, 25, 50, 20]\n",
        "\n",
        "# We can use a for loop over the elements in the list1 to find the index of 20, and break when we get the index\n",
        "\n",
        "idx = -1  # define the start index value as -1\n",
        "for i in range(len(list1)):\n",
        "    if list1[i] == 20:\n",
        "        # if the current number is 20, we set the index and break\n",
        "        idx = i\n",
        "        break\n",
        "        \n",
        "# we check if initial value of idx was not changed after the for loop, in this case 20 was not present in the list1\n",
        "if idx == -1:\n",
        "    print('20 was not present in the list1.')\n",
        "else:\n",
        "    print('20 is present in list1 at index', idx)\n",
        "\n",
        "    # now set the value at this index to 200\n",
        "    list1[idx] = 200\n",
        "        \n",
        "print('Updated list1: \\n', list1)"
      ],
      "execution_count": 7,
      "outputs": [
        {
          "output_type": "stream",
          "text": [
            "20 is present in list1 at index 3\n",
            "Updated list1: \n",
            " [5, 10, 15, 200, 25, 50, 20]\n"
          ],
          "name": "stdout"
        }
      ]
    },
    {
      "cell_type": "code",
      "metadata": {
        "scrolled": true,
        "id": "JjybLwf9fn_q",
        "colab_type": "code",
        "outputId": "762fc768-e3b8-4fbe-d3c0-5115639c5193",
        "colab": {
          "base_uri": "https://localhost:8080/",
          "height": 68
        }
      },
      "source": [
        "# METHOD 2 ( USING THE INDEX( ) FUNCTION)\n",
        "\n",
        "# A better way to do this is to use index() function of python\n",
        "# index() is an inbuilt function in Python\n",
        "# It searches for given element from start of the list and returns the lowest index (i.e. first occurrence) \n",
        "# where the element appears.\n",
        "\n",
        "# Caution : index() would give you error if the element is not present in the list\n",
        "\n",
        "list1 = [5, 10, 15, 20, 25, 50, 20]\n",
        "index = list1.index(20)\n",
        "\n",
        "print('20 is present in list1 at index', idx)\n",
        "\n",
        "# now set the value at this index to 200\n",
        "list1[index] = 200\n",
        "\n",
        "print('Updated list1: \\n', list1)"
      ],
      "execution_count": 8,
      "outputs": [
        {
          "output_type": "stream",
          "text": [
            "20 is present in list1 at index 3\n",
            "Updated list1: \n",
            " [5, 10, 15, 200, 25, 50, 20]\n"
          ],
          "name": "stdout"
        }
      ]
    },
    {
      "cell_type": "markdown",
      "metadata": {
        "id": "1htyfEv2fn_t",
        "colab_type": "text"
      },
      "source": [
        "8. Create a tuple of 5 colors"
      ]
    },
    {
      "cell_type": "code",
      "metadata": {
        "id": "HybxlY2tfn_t",
        "colab_type": "code",
        "outputId": "0c4bbca3-a3f7-4d35-af79-26a7ee1069ea",
        "colab": {
          "base_uri": "https://localhost:8080/",
          "height": 34
        }
      },
      "source": [
        "# creating a tuple\n",
        "colors_tuple = ('red', 'green', 'blue', 'yellow', 'orange')\n",
        "\n",
        "print(colors_tuple)"
      ],
      "execution_count": 9,
      "outputs": [
        {
          "output_type": "stream",
          "text": [
            "('red', 'green', 'blue', 'yellow', 'orange')\n"
          ],
          "name": "stdout"
        }
      ]
    },
    {
      "cell_type": "markdown",
      "metadata": {
        "id": "etFEnBD9fn_w",
        "colab_type": "text"
      },
      "source": [
        "9. Unpack the following tuple into 4 values"
      ]
    },
    {
      "cell_type": "code",
      "metadata": {
        "id": "MEuZGMu1fn_y",
        "colab_type": "code",
        "outputId": "fdbc226c-e4a4-465d-ee07-9041a5555cf8",
        "colab": {
          "base_uri": "https://localhost:8080/",
          "height": 34
        }
      },
      "source": [
        "aTuple = (10, 20, 30, 40)\n",
        "\n",
        "# unpacking the tuple\n",
        "# we need to assign as many no. of variables as the number of elements in the tuple\n",
        "first_val, second_val, third_val, fourth_val = aTuple\n",
        "print(first_val, second_val, third_val, fourth_val)"
      ],
      "execution_count": 10,
      "outputs": [
        {
          "output_type": "stream",
          "text": [
            "10 20 30 40\n"
          ],
          "name": "stdout"
        }
      ]
    }
  ]
}