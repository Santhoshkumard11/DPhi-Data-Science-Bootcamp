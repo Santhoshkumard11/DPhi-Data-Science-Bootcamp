{
  "nbformat": 4,
  "nbformat_minor": 0,
  "metadata": {
    "kernelspec": {
      "display_name": "Python 3",
      "language": "python",
      "name": "python3"
    },
    "language_info": {
      "codemirror_mode": {
        "name": "ipython",
        "version": 3
      },
      "file_extension": ".py",
      "mimetype": "text/x-python",
      "name": "python",
      "nbconvert_exporter": "python",
      "pygments_lexer": "ipython3",
      "version": "3.7.3"
    },
    "colab": {
      "name": "Week#0_Day#4.ipynb",
      "provenance": []
    }
  },
  "cells": [
    {
      "cell_type": "markdown",
      "metadata": {
        "id": "ZjWLsZiuf0Ga",
        "colab_type": "text"
      },
      "source": [
        "## Solutions of Week 0 Day 4 Practice Questions \n",
        "##### We thank our coaches for coming up with this. \n",
        "##### **Contributors:** Sanyam Dhawan, Utkarsh, Aishwarya Yadav, Avi Tomar, Julian Marinda, Manish KC, Gunnika Batra"
      ]
    },
    {
      "cell_type": "markdown",
      "metadata": {
        "id": "Pj9mS5C8i2rc",
        "colab_type": "text"
      },
      "source": [
        "1. Write a function addition such that it accepts two variables and calculate the sum of it"
      ]
    },
    {
      "cell_type": "code",
      "metadata": {
        "id": "7o2vYPs7f0Gd",
        "colab_type": "code",
        "outputId": "481b99a8-9124-4e00-ed4d-1c804946a48b",
        "colab": {
          "base_uri": "https://localhost:8080/",
          "height": 34
        }
      },
      "source": [
        "# define the function using def keyword\n",
        "\n",
        "def addition(a, b):\n",
        "    # compute the sum\n",
        "    sum = a + b\n",
        "    #return the sum\n",
        "    return sum\n",
        "\n",
        "# Call the function \n",
        "required_sum = addition(5, 6)\n",
        "\n",
        "print(required_sum)"
      ],
      "execution_count": 5,
      "outputs": [
        {
          "output_type": "stream",
          "text": [
            "11\n"
          ],
          "name": "stdout"
        }
      ]
    },
    {
      "cell_type": "markdown",
      "metadata": {
        "id": "9l0rKXfVf0Gi",
        "colab_type": "text"
      },
      "source": [
        "#### Remember, we can also pass the arguments of type float and our function would still work "
      ]
    },
    {
      "cell_type": "code",
      "metadata": {
        "id": "bjQjk1nQf0Gi",
        "colab_type": "code",
        "outputId": "21ef1e6a-5715-472c-e7b0-a1b561c254e6",
        "colab": {
          "base_uri": "https://localhost:8080/",
          "height": 231
        }
      },
      "source": [
        "# Let us see an example for the same\n",
        "sum_float = addition(2.5, 6.2)\n",
        "\n",
        "print(sum_float)"
      ],
      "execution_count": 6,
      "outputs": [
        {
          "output_type": "error",
          "ename": "NameError",
          "evalue": "ignored",
          "traceback": [
            "\u001b[0;31m---------------------------------------------------------------------------\u001b[0m",
            "\u001b[0;31mNameError\u001b[0m                                 Traceback (most recent call last)",
            "\u001b[0;32m<ipython-input-1-c6c335a4e109>\u001b[0m in \u001b[0;36m<module>\u001b[0;34m()\u001b[0m\n\u001b[1;32m      1\u001b[0m \u001b[0;31m# Let us see an example for the same\u001b[0m\u001b[0;34m\u001b[0m\u001b[0;34m\u001b[0m\u001b[0;34m\u001b[0m\u001b[0m\n\u001b[0;32m----> 2\u001b[0;31m \u001b[0msum_float\u001b[0m \u001b[0;34m=\u001b[0m \u001b[0maddition\u001b[0m\u001b[0;34m(\u001b[0m\u001b[0;36m2.5\u001b[0m\u001b[0;34m,\u001b[0m \u001b[0;36m6.2\u001b[0m\u001b[0;34m)\u001b[0m\u001b[0;34m\u001b[0m\u001b[0;34m\u001b[0m\u001b[0m\n\u001b[0m\u001b[1;32m      3\u001b[0m \u001b[0;34m\u001b[0m\u001b[0m\n\u001b[1;32m      4\u001b[0m \u001b[0mprint\u001b[0m\u001b[0;34m(\u001b[0m\u001b[0msum_float\u001b[0m\u001b[0;34m)\u001b[0m\u001b[0;34m\u001b[0m\u001b[0;34m\u001b[0m\u001b[0m\n",
            "\u001b[0;31mNameError\u001b[0m: name 'addition' is not defined"
          ]
        },
        {
          "output_type": "stream",
          "text": [
            "8.7\n"
          ],
          "name": "stdout"
        }
      ]
    },
    {
      "cell_type": "markdown",
      "metadata": {
        "id": "Zejx22g9f0Gn",
        "colab_type": "text"
      },
      "source": [
        "2. Write a function display() such that it accepts 2 variables - a string s and a number n and display the string n number of times "
      ]
    },
    {
      "cell_type": "code",
      "metadata": {
        "id": "J5UArUh7f0Go",
        "colab_type": "code",
        "outputId": "afda57c2-9dfc-43c6-d871-13aebbdcfe2a",
        "colab": {
          "base_uri": "https://localhost:8080/",
          "height": 187
        }
      },
      "source": [
        "# define the function display()\n",
        "# arguments -> s (string), n (integer)\n",
        "\n",
        "def display(s, n):\n",
        "    # we have to print string s, n number of times\n",
        "    # to accomplish this, we can use a for loop which runs n times\n",
        "    # so, we use range(n), this will iterate our looping variable from 0 to n-1\n",
        "    \n",
        "    for i in range(n):\n",
        "        # print the string and let us also keep the check on the iteration\n",
        "        # here we type cast i+1 to a string to avoid the error of adding str and int (mismatch datatypes)\n",
        "        \n",
        "        print('Iteration ' + str(i + 1) + ': ' + s) #Not necessary to print the no. of iterations\n",
        "\n",
        "# Call the function\n",
        "display('Data Science', 5)"
      ],
      "execution_count": 7,
      "outputs": [
        {
          "output_type": "stream",
          "text": [
            "Iteration 1: Data Science\n",
            "Iteration 2: Data Science\n",
            "Iteration 3: Data Science\n",
            "Iteration 4: Data Science\n",
            "Iteration 5: Data Science\n",
            "Iteration 1: Data Science\n",
            "Iteration 2: Data Science\n",
            "Iteration 3: Data Science\n",
            "Iteration 4: Data Science\n",
            "Iteration 5: Data Science\n"
          ],
          "name": "stdout"
        }
      ]
    },
    {
      "cell_type": "markdown",
      "metadata": {
        "id": "YmrfbRrYf0Gq",
        "colab_type": "text"
      },
      "source": [
        "3. Write a Python function to sum all the numbers in a list"
      ]
    },
    {
      "cell_type": "code",
      "metadata": {
        "id": "Q2taX_-Bf0Gr",
        "colab_type": "code",
        "outputId": "55d1f441-2e8c-47fb-9e19-e75447f0cb26",
        "colab": {
          "base_uri": "https://localhost:8080/",
          "height": 51
        }
      },
      "source": [
        "# Approach 1\n",
        "# We use a simple for loop, let's define the function first\n",
        "# Arguments -> li, a list of numbers whose sum we need to find\n",
        "\n",
        "def sum_list(li):\n",
        "    # we initalize a variable list_sum = 0 and will add the elements of the list one by one to it\n",
        "    list_sum = 0\n",
        "    # now we loop over the list elements\n",
        "    for num in li:\n",
        "        # add the number to list_sum variable we created\n",
        "        list_sum += num\n",
        "        \n",
        "    # after the for loop, we return the final sum\n",
        "    return list_sum\n",
        "\n",
        "# let us now declare a list\n",
        "li = [8, 2, 3, 0, 7]\n",
        "# call the funtion\n",
        "desired_sum = sum_list(li)\n",
        "\n",
        "# print the result\n",
        "print(desired_sum)"
      ],
      "execution_count": 8,
      "outputs": [
        {
          "output_type": "stream",
          "text": [
            "20\n",
            "20\n"
          ],
          "name": "stdout"
        }
      ]
    },
    {
      "cell_type": "markdown",
      "metadata": {
        "id": "juSaiej-f0Gu",
        "colab_type": "text"
      },
      "source": [
        "#### Hurray! We got the desired result. But in python we do not have to write that much code for finding the sum of numbers in a list, we can use the inbuilt functions for doing that. "
      ]
    },
    {
      "cell_type": "code",
      "metadata": {
        "id": "oBQUj5EIf0Gu",
        "colab_type": "code",
        "outputId": "9b51e68a-19c8-4371-f9d3-d2341f6eaba0",
        "colab": {
          "base_uri": "https://localhost:8080/",
          "height": 51
        }
      },
      "source": [
        "# Approach 2\n",
        "# Let us use the inbuilt sum() function on our list\n",
        "\n",
        "def sum_list_2(li):\n",
        "    list_sum = sum(li)\n",
        "    return list_sum\n",
        "\n",
        "# let us now declare a list\n",
        "li = [8, 2, 3, 0, 7]\n",
        "# call the funtion\n",
        "desired_sum_2 = sum_list_2(li)\n",
        "\n",
        "# print the result\n",
        "print(desired_sum_2)"
      ],
      "execution_count": 9,
      "outputs": [
        {
          "output_type": "stream",
          "text": [
            "20\n",
            "20\n"
          ],
          "name": "stdout"
        }
      ]
    }
  ]
}