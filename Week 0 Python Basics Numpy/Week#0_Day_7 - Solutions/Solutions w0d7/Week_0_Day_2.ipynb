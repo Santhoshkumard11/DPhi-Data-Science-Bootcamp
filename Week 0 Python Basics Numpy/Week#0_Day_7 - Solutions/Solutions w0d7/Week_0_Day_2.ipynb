{
  "nbformat": 4,
  "nbformat_minor": 0,
  "metadata": {
    "colab": {
      "name": "Week#0_Day#2.ipynb",
      "provenance": []
    },
    "kernelspec": {
      "display_name": "Python 3",
      "language": "python",
      "name": "python3"
    },
    "language_info": {
      "codemirror_mode": {
        "name": "ipython",
        "version": 3
      },
      "file_extension": ".py",
      "mimetype": "text/x-python",
      "name": "python",
      "nbconvert_exporter": "python",
      "pygments_lexer": "ipython3",
      "version": "3.7.3"
    }
  },
  "cells": [
    {
      "cell_type": "markdown",
      "metadata": {
        "colab_type": "text",
        "id": "loAl6d_oCEvp"
      },
      "source": [
        "## Solutions of Week 0 Day 2 Practice Questions \n",
        "##### We thank our coaches for coming up with this. \n",
        "##### **Contributors:** Sanyam Dhawan, Utkarsh, Aishwarya Yadav, Avi Tomar, Julian Marinda, Manish KC, Gunnika Batra\n",
        "\n",
        "\n"
      ]
    },
    {
      "cell_type": "markdown",
      "metadata": {
        "id": "MSapU-0WhWP6",
        "colab_type": "text"
      },
      "source": [
        "1. Print First 10 natural numbers using while loop."
      ]
    },
    {
      "cell_type": "code",
      "metadata": {
        "colab_type": "code",
        "id": "znbBQ5K_CEvs",
        "outputId": "b7f12659-2b5c-4a62-944e-64ac21c92b14",
        "colab": {
          "base_uri": "https://localhost:8080/",
          "height": 187
        }
      },
      "source": [
        "# Remember that the natural numbers start from 1. So the 10th natural number will be 10.\n",
        "i = 1\n",
        "while(i<=10):  #while loop will run until i takes the value of 10\n",
        "    print(\"Natural Number \" + str(i)) #We use str() to convert i which is an int to string\n",
        "    i+=1  #increasing the value of i in every step"
      ],
      "execution_count": 1,
      "outputs": [
        {
          "output_type": "stream",
          "text": [
            "Natural Number 1\n",
            "Natural Number 2\n",
            "Natural Number 3\n",
            "Natural Number 4\n",
            "Natural Number 5\n",
            "Natural Number 6\n",
            "Natural Number 7\n",
            "Natural Number 8\n",
            "Natural Number 9\n",
            "Natural Number 10\n"
          ],
          "name": "stdout"
        }
      ]
    },
    {
      "cell_type": "markdown",
      "metadata": {
        "colab_type": "text",
        "id": "ukXWuLXXCEvy"
      },
      "source": [
        "2. Iterate over the following list and print the elements:\n",
        "list1 = [12, 15, 32, 42, 55, 75, 122, 132, 150, 180, 200]\n"
      ]
    },
    {
      "cell_type": "code",
      "metadata": {
        "colab_type": "code",
        "id": "tlH0w94vCEvz",
        "outputId": "df3b00d7-e0c4-409b-970f-b9b3d4c9cb0f",
        "colab": {
          "base_uri": "https://localhost:8080/",
          "height": 204
        }
      },
      "source": [
        "list1 = [12, 15, 32, 42, 55, 75, 122, 132, 150, 180, 200]\n",
        "for i in list1:    #Here, i holds every element of the list. \n",
        "    print(i)"
      ],
      "execution_count": 2,
      "outputs": [
        {
          "output_type": "stream",
          "text": [
            "12\n",
            "15\n",
            "32\n",
            "42\n",
            "55\n",
            "75\n",
            "122\n",
            "132\n",
            "150\n",
            "180\n",
            "200\n"
          ],
          "name": "stdout"
        }
      ]
    },
    {
      "cell_type": "markdown",
      "metadata": {
        "colab_type": "text",
        "id": "X0fIKw_rCEv3"
      },
      "source": [
        "3.     Accept a number n from user and print its multiplication table"
      ]
    },
    {
      "cell_type": "code",
      "metadata": {
        "colab_type": "code",
        "id": "au0tBvKMCEv4",
        "outputId": "b817921c-f2d9-41d4-afc7-f9048bb80185",
        "colab": {
          "base_uri": "https://localhost:8080/",
          "height": 391
        }
      },
      "source": [
        "# A standard multiplication table is till the 10th multiple. \n",
        "# Here, we show a way to display the multiplication table until any multiple that the user wants.\n",
        "\n",
        "# We convert input into int so that we can perform integer operations\n",
        "# Otherwise, all the inputs are by default string.\n",
        "table_int = int(input(\"Enter a number: \"))\n",
        "table_range = int(input(\"Enter the last desired mutiple for the table: \"))\n",
        "\n",
        "#added 1 because we want the 15th multiple to be printed which was otherwise exclusive\n",
        "for i in range(1,(table_range +1)): \n",
        "    #converted all the ints to strings before printing\n",
        "    print(str(table_int) + \" x \" + str(i) + \" = \" + str(table_int*i))  \n",
        "   "
      ],
      "execution_count": 3,
      "outputs": [
        {
          "output_type": "stream",
          "text": [
            "Enter a number: 20\n",
            "Enter the last desired mutiple for the table: 20\n",
            "20 x 1 = 20\n",
            "20 x 2 = 40\n",
            "20 x 3 = 60\n",
            "20 x 4 = 80\n",
            "20 x 5 = 100\n",
            "20 x 6 = 120\n",
            "20 x 7 = 140\n",
            "20 x 8 = 160\n",
            "20 x 9 = 180\n",
            "20 x 10 = 200\n",
            "20 x 11 = 220\n",
            "20 x 12 = 240\n",
            "20 x 13 = 260\n",
            "20 x 14 = 280\n",
            "20 x 15 = 300\n",
            "20 x 16 = 320\n",
            "20 x 17 = 340\n",
            "20 x 18 = 360\n",
            "20 x 19 = 380\n",
            "20 x 20 = 400\n"
          ],
          "name": "stdout"
        }
      ]
    },
    {
      "cell_type": "markdown",
      "metadata": {
        "colab_type": "text",
        "id": "YnqCIeYCCEv9"
      },
      "source": [
        "4.    Use the enumerate function to print the elements of this list along\n",
        "with the indices:\n",
        "        grocery = ['bread', 'milk', 'butter']"
      ]
    },
    {
      "cell_type": "code",
      "metadata": {
        "colab_type": "code",
        "id": "aBLkaDu6CEv-",
        "outputId": "98c04a9e-a648-46a1-d778-f685b2322934",
        "colab": {
          "base_uri": "https://localhost:8080/",
          "height": 68
        }
      },
      "source": [
        "grocery = ['bread', 'milk', 'butter']\n",
        "\n",
        "for index, item in enumerate(grocery):  #enumerate returns 2 values which are being stored in index and item\n",
        "    print(\"Index \" + str(index) + \" element is \" + item)"
      ],
      "execution_count": 4,
      "outputs": [
        {
          "output_type": "stream",
          "text": [
            "Index 0 element is bread\n",
            "Index 1 element is milk\n",
            "Index 2 element is butter\n"
          ],
          "name": "stdout"
        }
      ]
    },
    {
      "cell_type": "markdown",
      "metadata": {
        "colab_type": "text",
        "id": "XKNHaGo4CEwB"
      },
      "source": [
        "5. Write a program to input number from user and find sum of all numbers \n",
        "between 1 to n. \n"
      ]
    },
    {
      "cell_type": "code",
      "metadata": {
        "colab_type": "code",
        "id": "d6jXFyKYCEwB",
        "outputId": "8ce6666d-7ef5-4ec2-9ca1-8b58d34ade6c",
        "colab": {
          "base_uri": "https://localhost:8080/",
          "height": 51
        }
      },
      "source": [
        "num = int(input(\"Enter a number: \")) \n",
        "sum = 0  # we need to intialise the sum with 0 first\n",
        "for i in range(1,(num+1)):\n",
        "    sum+=i\n",
        "print(\"The sum is \" + str(sum))"
      ],
      "execution_count": 5,
      "outputs": [
        {
          "output_type": "stream",
          "text": [
            "Enter a number: 5\n",
            "The sum is 15\n"
          ],
          "name": "stdout"
        }
      ]
    },
    {
      "cell_type": "markdown",
      "metadata": {
        "colab_type": "text",
        "id": "93x-D5TwCEwG"
      },
      "source": [
        "6. Create a sequence of numbers from 3 to 5, and print each item in the \n",
        "sequence.\n"
      ]
    },
    {
      "cell_type": "code",
      "metadata": {
        "colab_type": "code",
        "id": "wCzFC_uaCEwG",
        "outputId": "5b124951-3031-4a6f-ef46-e8ae44d97181",
        "colab": {
          "base_uri": "https://localhost:8080/",
          "height": 187
        }
      },
      "source": [
        "#Creating a sequence using hard-code\n",
        "print(\"Method 1\")\n",
        "seq = [3,4,5]\n",
        "print( 'The sequence is ')\n",
        "for num in seq:\n",
        "     print(num)\n",
        "    \n",
        "#Creating sequence using for loop\n",
        "print(\"Method 2\")\n",
        "print(\"The sequence is \")\n",
        "for i in range(3,6): #By default, range increments by 1\n",
        "    print(i)"
      ],
      "execution_count": 6,
      "outputs": [
        {
          "output_type": "stream",
          "text": [
            "Method 1\n",
            "The sequence is \n",
            "3\n",
            "4\n",
            "5\n",
            "Method 2\n",
            "The sequence is \n",
            "3\n",
            "4\n",
            "5\n"
          ],
          "name": "stdout"
        }
      ]
    },
    {
      "cell_type": "markdown",
      "metadata": {
        "colab_type": "text",
        "id": "RswBVNxcCEwL"
      },
      "source": [
        "7. Create a sequence of numbers from 3 to 19, but increment by 2 \n",
        "instead of 1.\n"
      ]
    },
    {
      "cell_type": "code",
      "metadata": {
        "colab_type": "code",
        "id": "6-II1opOCEwM",
        "outputId": "b2c9f696-4f36-4591-f589-98abc919b2b3",
        "colab": {
          "base_uri": "https://localhost:8080/",
          "height": 187
        }
      },
      "source": [
        "print(\"The sequence is \")\n",
        "for i in range(3,20,2): #If we want to increment range by 2, we can specify the last argument as 2\n",
        "    print(i)"
      ],
      "execution_count": 7,
      "outputs": [
        {
          "output_type": "stream",
          "text": [
            "The sequence is \n",
            "3\n",
            "5\n",
            "7\n",
            "9\n",
            "11\n",
            "13\n",
            "15\n",
            "17\n",
            "19\n"
          ],
          "name": "stdout"
        }
      ]
    },
    {
      "cell_type": "markdown",
      "metadata": {
        "colab_type": "text",
        "id": "FjKbA7BbCEwQ"
      },
      "source": [
        "8.     Print the letters of the string “Python” in the same line:<br>\n",
        "Using a simple for loop <br>\n",
        "Using the range function\n"
      ]
    },
    {
      "cell_type": "code",
      "metadata": {
        "colab_type": "code",
        "id": "XIBwxGxvCEwR",
        "outputId": "32699608-61c7-4ec9-fabf-593b62550b52",
        "colab": {
          "base_uri": "https://localhost:8080/",
          "height": 51
        }
      },
      "source": [
        "#Using a simple for loop\n",
        "print('Using a simple for loop')\n",
        "for i in \"Python\":\n",
        "    print(i,end=',')"
      ],
      "execution_count": 8,
      "outputs": [
        {
          "output_type": "stream",
          "text": [
            "Using a simple for loop\n",
            "P,y,t,h,o,n,"
          ],
          "name": "stdout"
        }
      ]
    },
    {
      "cell_type": "code",
      "metadata": {
        "colab_type": "code",
        "id": "nqX8OIoICEwV",
        "outputId": "4b368ecd-f4cd-446c-e1cf-40e91e88512e",
        "colab": {
          "base_uri": "https://localhost:8080/",
          "height": 51
        }
      },
      "source": [
        "#Using the range function\n",
        "print('Using the range function')\n",
        "string = \"Python\"\n",
        "for i in range(len(string)):\n",
        "    print(string[i],end=',')"
      ],
      "execution_count": 9,
      "outputs": [
        {
          "output_type": "stream",
          "text": [
            "Using the range function\n",
            "P,y,t,h,o,n,"
          ],
          "name": "stdout"
        }
      ]
    }
  ]
}