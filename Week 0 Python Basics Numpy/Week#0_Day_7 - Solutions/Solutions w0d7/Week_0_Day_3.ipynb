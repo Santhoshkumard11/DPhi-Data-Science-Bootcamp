{
  "nbformat": 4,
  "nbformat_minor": 0,
  "metadata": {
    "kernelspec": {
      "display_name": "Python 3",
      "language": "python",
      "name": "python3"
    },
    "language_info": {
      "codemirror_mode": {
        "name": "ipython",
        "version": 3
      },
      "file_extension": ".py",
      "mimetype": "text/x-python",
      "name": "python",
      "nbconvert_exporter": "python",
      "pygments_lexer": "ipython3",
      "version": "3.7.3"
    },
    "colab": {
      "name": "Week#0_Day#3.ipynb",
      "provenance": []
    }
  },
  "cells": [
    {
      "cell_type": "markdown",
      "metadata": {
        "id": "Jx5P-0bZvMWf",
        "colab_type": "text"
      },
      "source": [
        "## Solutions of Week 0 Day 3 Practice Questions\n",
        "##### We thank our coaches for coming up with this. \n",
        "##### **Contributors:** Sanyam Dhawan, Utkarsh, Aishwarya Yadav, Avi Tomar, Julian Marinda, Manish KC, Gunnika Batra\n",
        "\n",
        "\n"
      ]
    },
    {
      "cell_type": "markdown",
      "metadata": {
        "id": "bDpnogBWiPbi",
        "colab_type": "text"
      },
      "source": [
        "1 : Take values of length and breadth of a rectangle from user and check if it is square or not."
      ]
    },
    {
      "cell_type": "code",
      "metadata": {
        "id": "bDkx7I8AvMWi",
        "colab_type": "code",
        "outputId": "05ab6c39-6a25-4b2f-854c-b35330e35126",
        "colab": {
          "base_uri": "https://localhost:8080/",
          "height": 68
        }
      },
      "source": [
        "length=int(input(\"Enter the length: \"))\n",
        "breadth=int(input(\"Enter the breadth: \"))\n",
        "\n",
        "if length==breadth:   # Check if length and breadth are equal\n",
        "    print(\"It is a square.\")\n",
        "else:\n",
        "    print(\"It is not a square.\")"
      ],
      "execution_count": 1,
      "outputs": [
        {
          "output_type": "stream",
          "text": [
            "Enter the length: 3\n",
            "Enter the breadth: 4\n",
            "It is not a square.\n"
          ],
          "name": "stdout"
        }
      ]
    },
    {
      "cell_type": "markdown",
      "metadata": {
        "id": "QlzbENFQvMWs",
        "colab_type": "text"
      },
      "source": [
        "2. Take two int values from user and print greatest among them"
      ]
    },
    {
      "cell_type": "code",
      "metadata": {
        "id": "aMoA5lStvMWt",
        "colab_type": "code",
        "outputId": "f56fa803-476b-464e-f592-03c0b27f7e2a",
        "colab": {
          "base_uri": "https://localhost:8080/",
          "height": 68
        }
      },
      "source": [
        "number1=int(input(\"Enter the first number: \"))\n",
        "number2=int(input(\"Enter the second number: \"))\n",
        "\n",
        "if number1>number2:  # Find the larger number using > operator\n",
        "    print(\"Greater number is \",number1)\n",
        "else:\n",
        "    print(\"Greater number is \",number2)"
      ],
      "execution_count": 2,
      "outputs": [
        {
          "output_type": "stream",
          "text": [
            "Enter the first number: 12\n",
            "Enter the second number: 10\n",
            "Greater number is  12\n"
          ],
          "name": "stdout"
        }
      ]
    },
    {
      "cell_type": "markdown",
      "metadata": {
        "id": "nIWwdD6svMWx",
        "colab_type": "text"
      },
      "source": [
        "3. Write a program to read the age of a candidate and determine whether it is eligible for casting his/her own vote."
      ]
    },
    {
      "cell_type": "code",
      "metadata": {
        "id": "jPqkh3cevMWy",
        "colab_type": "code",
        "outputId": "94d0f20e-393a-47f7-955c-8ac03c2e593f",
        "colab": {
          "base_uri": "https://localhost:8080/",
          "height": 51
        }
      },
      "source": [
        "age=int(input(\"Enter your age: \"))\n",
        "if age>=18:   # Candidates with age 18 and above are eligible to vote in India\n",
        "    print(\"Eligible to vote\")\n",
        "else:\n",
        "    print(\"Not eligible to vote\")"
      ],
      "execution_count": 3,
      "outputs": [
        {
          "output_type": "stream",
          "text": [
            "Enter your age: 29\n",
            "Eligible to vote\n"
          ],
          "name": "stdout"
        }
      ]
    },
    {
      "cell_type": "markdown",
      "metadata": {
        "id": "DghfFh6dvMW3",
        "colab_type": "text"
      },
      "source": [
        "4. Write a Python program to add a key to a dictionary. \n",
        "Sample Dictionary : {0: 10, 1: 20}\n",
        "Expected Result : {0: 10, 1: 20, 2: 30}\n"
      ]
    },
    {
      "cell_type": "code",
      "metadata": {
        "id": "K3iRO98MvMW4",
        "colab_type": "code",
        "outputId": "da5c8bf1-1a5d-45d3-de5b-70dfbe701fb0",
        "colab": {
          "base_uri": "https://localhost:8080/",
          "height": 51
        }
      },
      "source": [
        "sample_dictionary={0:10,\n",
        "                   1:20}\n",
        "\n",
        "print(\"Sample dictionary\",sample_dictionary)\n",
        "\n",
        "sample_dictionary[2]=30  #Setting the key 2 with value 30\n",
        "print(\"Sample dictionary after adding new key pair\",sample_dictionary)"
      ],
      "execution_count": 4,
      "outputs": [
        {
          "output_type": "stream",
          "text": [
            "Sample dictionary {0: 10, 1: 20}\n",
            "Sample dictionary after adding new key pair {0: 10, 1: 20, 2: 30}\n"
          ],
          "name": "stdout"
        }
      ]
    },
    {
      "cell_type": "markdown",
      "metadata": {
        "id": "j8XAAWE3vMW9",
        "colab_type": "text"
      },
      "source": [
        "5. Below are the two lists, convert it into a dictionary.\n",
        "\n",
        "keys = ['Ten', 'Twenty', 'Thirty']\n",
        "\n",
        "values = [10, 20, 30]\n",
        "\n",
        "Expected output:\n",
        "{'Ten': 10, 'Twenty': 20, 'Thirty': 30}\n"
      ]
    },
    {
      "cell_type": "code",
      "metadata": {
        "id": "00YPjDahvMW_",
        "colab_type": "code",
        "outputId": "3a5c3103-45d9-43e0-d7ee-8a2442b3e1be",
        "colab": {
          "base_uri": "https://localhost:8080/",
          "height": 34
        }
      },
      "source": [
        "keys = ['Ten', 'Twenty', 'Thirty'] \n",
        "values = [10, 20, 30]\n",
        "dict_=dict(zip(keys,values)) #use zip function to combine the two lists into one. \n",
        "                             #Finally, convert the zipped object into dictionary\n",
        "print(dict_)"
      ],
      "execution_count": 5,
      "outputs": [
        {
          "output_type": "stream",
          "text": [
            "{'Ten': 10, 'Twenty': 20, 'Thirty': 30}\n"
          ],
          "name": "stdout"
        }
      ]
    },
    {
      "cell_type": "markdown",
      "metadata": {
        "id": "y1ioJnKdvMXE",
        "colab_type": "text"
      },
      "source": [
        "6. Access the value of key ‘history’\n",
        "\n",
        "sampleDict = { \n",
        "\n",
        "\"class\":{ \n",
        "      \"student\":{ \n",
        "         \"name\":\"Mike\",\n",
        "         \"marks\":{ \n",
        "            \"physics\":70,\n",
        "            \"history\":80\n",
        "         }\n",
        "      }\n",
        "   }\n",
        "}\n",
        "\n",
        "Expected output:\n",
        "80\n"
      ]
    },
    {
      "cell_type": "code",
      "metadata": {
        "id": "5FxcgktNvMXF",
        "colab_type": "code",
        "outputId": "b9cdb31e-640a-4bb5-dabc-431eb44f02e4",
        "colab": {
          "base_uri": "https://localhost:8080/",
          "height": 34
        }
      },
      "source": [
        "sampleDict = { \n",
        "    \"class\":{ \n",
        "      \"student\":{ \n",
        "         \"name\":\"Mike\",\n",
        "         \"marks\":{ \n",
        "            \"physics\":70,\n",
        "            \"history\":80\n",
        "         }\n",
        "      }\n",
        "   }\n",
        "}\n",
        "print(sampleDict['class']['student']['marks']['history']) #going into the layers of the dictionary one by one.\n",
        "# First, sampleDict contains only one key - class. \n",
        "# We'll access the value of the class key by sampleDict['class']\n",
        "\n",
        "# The value of class key is itself a dictionary with only student as the key. \n",
        "# We'll access value of student key by sampleDict['class']['student']\n",
        "\n",
        "# Again, the value of student key is itself a dictionary with name and marks as the key. \n",
        "# Since history is a key inside the marks dictionary, we'll access it by sampleDict['class']['student']['marks']\n",
        "\n",
        "# Finally, to get the value of the history key, we'll do sampleDict['class']['student']['marks']['history'] \n",
        "# and print the required output"
      ],
      "execution_count": 6,
      "outputs": [
        {
          "output_type": "stream",
          "text": [
            "80\n"
          ],
          "name": "stdout"
        }
      ]
    },
    {
      "cell_type": "markdown",
      "metadata": {
        "id": "HbogZ2UMvMXL",
        "colab_type": "text"
      },
      "source": [
        "7. Given the following dictionary:\n",
        "\n",
        "inventory = {\n",
        "  \t'gold' : 500,\n",
        "   \t'pouch' : ['flint', 'twine', 'gemstone'],\n",
        "   \t'backpack' : ['xylophone','dagger', 'bedroll','bread loaf']\n",
        "}\n",
        "\n",
        "\n",
        "Try to do the following:\n",
        "\n",
        "1. Add a key to inventory called 'pocket'.\n",
        "\n",
        "2. Set the value of 'pocket' to be a list consisting of the strings 'seashell', 'strange berry', and 'lint'. \n",
        "\n",
        "3. .sort()the items in the list stored under the 'backpack' key.\n",
        "\n",
        "4. Then .remove('dagger') from the list of items stored under the 'backpack' key.\n",
        "\n",
        "5. Add 50 to the number stored under the 'gold' key.\n"
      ]
    },
    {
      "cell_type": "code",
      "metadata": {
        "id": "f85RRgEsvMXL",
        "colab_type": "code",
        "outputId": "2ad38499-9187-421f-f530-c12d44671d9f",
        "colab": {
          "base_uri": "https://localhost:8080/",
          "height": 85
        }
      },
      "source": [
        "inventory = {\n",
        "    'gold' : 500,\n",
        "    'pouch' : ['flint', 'twine', 'gemstone'],\n",
        "    'backpack' : ['xylophone','dagger', 'bedroll','bread loaf']\n",
        "}\n",
        "\n",
        "#Task 1 and 2\n",
        "inventory['pocket']=[ 'seashell', 'strange berry','lint']  \n",
        "# added a new key to the dictionary and assigned its value as a list\n",
        "\n",
        "inventory"
      ],
      "execution_count": 7,
      "outputs": [
        {
          "output_type": "execute_result",
          "data": {
            "text/plain": [
              "{'backpack': ['xylophone', 'dagger', 'bedroll', 'bread loaf'],\n",
              " 'gold': 500,\n",
              " 'pocket': ['seashell', 'strange berry', 'lint'],\n",
              " 'pouch': ['flint', 'twine', 'gemstone']}"
            ]
          },
          "metadata": {
            "tags": []
          },
          "execution_count": 7
        }
      ]
    },
    {
      "cell_type": "code",
      "metadata": {
        "id": "t-wUQSzAvMXO",
        "colab_type": "code",
        "outputId": "283728dc-f887-4c70-f587-fbefb843af8a",
        "colab": {
          "base_uri": "https://localhost:8080/",
          "height": 85
        }
      },
      "source": [
        "#Task 3\n",
        "inventory['backpack'].sort()  #using sort function to sort the values in ascending order\n",
        "\n",
        "inventory"
      ],
      "execution_count": 8,
      "outputs": [
        {
          "output_type": "execute_result",
          "data": {
            "text/plain": [
              "{'backpack': ['bedroll', 'bread loaf', 'dagger', 'xylophone'],\n",
              " 'gold': 500,\n",
              " 'pocket': ['seashell', 'strange berry', 'lint'],\n",
              " 'pouch': ['flint', 'twine', 'gemstone']}"
            ]
          },
          "metadata": {
            "tags": []
          },
          "execution_count": 8
        }
      ]
    },
    {
      "cell_type": "code",
      "metadata": {
        "id": "emnpwRCKvMXQ",
        "colab_type": "code",
        "outputId": "57428e8c-2496-4bd0-bdf5-6d7d4a726435",
        "colab": {
          "base_uri": "https://localhost:8080/",
          "height": 85
        }
      },
      "source": [
        "#Task 4\n",
        "inventory['backpack'].remove('dagger')  #first, accessed the value of the backpack key which is a list.\n",
        "# using the remove function, removed the value dagger from the list\n",
        "\n",
        "inventory"
      ],
      "execution_count": 9,
      "outputs": [
        {
          "output_type": "execute_result",
          "data": {
            "text/plain": [
              "{'backpack': ['bedroll', 'bread loaf', 'xylophone'],\n",
              " 'gold': 500,\n",
              " 'pocket': ['seashell', 'strange berry', 'lint'],\n",
              " 'pouch': ['flint', 'twine', 'gemstone']}"
            ]
          },
          "metadata": {
            "tags": []
          },
          "execution_count": 9
        }
      ]
    },
    {
      "cell_type": "code",
      "metadata": {
        "id": "b4FYFhSCvMXT",
        "colab_type": "code",
        "outputId": "ee88461e-776d-4ce1-8d3f-14b871e4bbdb",
        "colab": {
          "base_uri": "https://localhost:8080/",
          "height": 85
        }
      },
      "source": [
        "#Task 5\n",
        "inventory['gold']=inventory['gold']+50  #accessed the value of gold key, added 50 to it \n",
        "# and stored it back into the same key\n",
        "\n",
        "inventory"
      ],
      "execution_count": 10,
      "outputs": [
        {
          "output_type": "execute_result",
          "data": {
            "text/plain": [
              "{'backpack': ['bedroll', 'bread loaf', 'xylophone'],\n",
              " 'gold': 550,\n",
              " 'pocket': ['seashell', 'strange berry', 'lint'],\n",
              " 'pouch': ['flint', 'twine', 'gemstone']}"
            ]
          },
          "metadata": {
            "tags": []
          },
          "execution_count": 10
        }
      ]
    },
    {
      "cell_type": "code",
      "metadata": {
        "id": "uxzVST2bvMXW",
        "colab_type": "code",
        "colab": {}
      },
      "source": [
        ""
      ],
      "execution_count": 0,
      "outputs": []
    }
  ]
}