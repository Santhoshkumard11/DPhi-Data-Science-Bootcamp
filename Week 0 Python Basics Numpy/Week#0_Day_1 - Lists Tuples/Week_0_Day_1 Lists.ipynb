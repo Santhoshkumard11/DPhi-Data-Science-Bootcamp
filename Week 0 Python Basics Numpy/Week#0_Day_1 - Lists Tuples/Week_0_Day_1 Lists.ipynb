{
  "nbformat": 4,
  "nbformat_minor": 0,
  "metadata": {
    "colab": {
      "name": "Week#0_Day_1.ipynb",
      "provenance": []
    },
    "kernelspec": {
      "name": "python3",
      "display_name": "Python 3"
    }
  },
  "cells": [
    {
      "cell_type": "markdown",
      "metadata": {
        "id": "lZ2QoYxr2ywi",
        "colab_type": "text"
      },
      "source": [
        "1. Write a program to store the names of your following members of\n",
        "family: john, chan, yuen, matt."
      ]
    },
    {
      "cell_type": "code",
      "metadata": {
        "id": "-OJOdHTD22Kl",
        "colab_type": "code",
        "colab": {}
      },
      "source": [
        "list1 = [ 'john', 'chan', 'yuen', 'matt']"
      ],
      "execution_count": 0,
      "outputs": []
    },
    {
      "cell_type": "markdown",
      "metadata": {
        "id": "dXBNV6j33DKN",
        "colab_type": "text"
      },
      "source": [
        "2. Print the list."
      ]
    },
    {
      "cell_type": "code",
      "metadata": {
        "id": "dbB3RZBX3Gbs",
        "colab_type": "code",
        "colab": {
          "base_uri": "https://localhost:8080/",
          "height": 34
        },
        "outputId": "9afef365-f668-4563-9b89-6bc51fd6ac8b"
      },
      "source": [
        "print (list1)"
      ],
      "execution_count": 2,
      "outputs": [
        {
          "output_type": "stream",
          "text": [
            "['john', 'chan', 'yuen', 'matt']\n"
          ],
          "name": "stdout"
        }
      ]
    },
    {
      "cell_type": "markdown",
      "metadata": {
        "id": "ErY76jnA3JGl",
        "colab_type": "text"
      },
      "source": [
        "3. Grab the 2nd element of the list and print it. ( Remember that the\n",
        "indexing starts from 0)."
      ]
    },
    {
      "cell_type": "code",
      "metadata": {
        "id": "stdcvYmJ3N_k",
        "colab_type": "code",
        "colab": {
          "base_uri": "https://localhost:8080/",
          "height": 34
        },
        "outputId": "752513fa-dd68-463c-87f4-35097f0e1715"
      },
      "source": [
        "print (list1[1])"
      ],
      "execution_count": 3,
      "outputs": [
        {
          "output_type": "stream",
          "text": [
            "chan\n"
          ],
          "name": "stdout"
        }
      ]
    },
    {
      "cell_type": "markdown",
      "metadata": {
        "id": "ZT5mqoki3UII",
        "colab_type": "text"
      },
      "source": [
        "4. Change the 2nd element to the name of your friend and print the list\n",
        "again."
      ]
    },
    {
      "cell_type": "code",
      "metadata": {
        "id": "-kA65sI83aDs",
        "colab_type": "code",
        "colab": {
          "base_uri": "https://localhost:8080/",
          "height": 34
        },
        "outputId": "e11033e6-36b8-4907-a9cc-75144c690ddf"
      },
      "source": [
        "list1[1] = 'stacey'\n",
        "print (list1)"
      ],
      "execution_count": 4,
      "outputs": [
        {
          "output_type": "stream",
          "text": [
            "['john', 'stacey', 'yuen', 'matt']\n"
          ],
          "name": "stdout"
        }
      ]
    },
    {
      "cell_type": "markdown",
      "metadata": {
        "id": "nGmkJAGl3tFb",
        "colab_type": "text"
      },
      "source": [
        "5. Now, try to create a list of list named list2 with each element as\n",
        "[name, age] of the family members."
      ]
    },
    {
      "cell_type": "code",
      "metadata": {
        "id": "3hg4ZouT3vmR",
        "colab_type": "code",
        "colab": {
          "base_uri": "https://localhost:8080/",
          "height": 34
        },
        "outputId": "8c3800ae-4245-4e06-823f-9bcb1373dd35"
      },
      "source": [
        "age = [34, 24, 33, 22]\n",
        "list2 = zip(list1, age)\n",
        "\n",
        "print(list(list2))"
      ],
      "execution_count": 5,
      "outputs": [
        {
          "output_type": "stream",
          "text": [
            "[('john', 34), ('stacey', 24), ('yuen', 33), ('matt', 22)]\n"
          ],
          "name": "stdout"
        }
      ]
    },
    {
      "cell_type": "markdown",
      "metadata": {
        "id": "GLAe7FC94Roo",
        "colab_type": "text"
      },
      "source": [
        "6. Add item 7000 after 6000 in the following Python List.\n",
        "\n",
        "  list1 = [10, 20, [300, 400, [5000, 6000], 500], 30, 40].\n",
        "\n",
        "  Final output should look like this:\n",
        "  list1 = [10, 20, [300, 400, [5000, 6000, 7000], 500], 30, 40]"
      ]
    },
    {
      "cell_type": "code",
      "metadata": {
        "id": "BI9A93EZ4dab",
        "colab_type": "code",
        "colab": {
          "base_uri": "https://localhost:8080/",
          "height": 34
        },
        "outputId": "4483faeb-1cdc-4070-88f4-0da0e27f9b99"
      },
      "source": [
        "list1 = [10, 20, [300, 400, [5000, 6000], 500], 30, 40]\n",
        "list1[2][2].append(7000)\n",
        "\n",
        "list1"
      ],
      "execution_count": 6,
      "outputs": [
        {
          "output_type": "execute_result",
          "data": {
            "text/plain": [
              "[10, 20, [300, 400, [5000, 6000, 7000], 500], 30, 40]"
            ]
          },
          "metadata": {
            "tags": []
          },
          "execution_count": 6
        }
      ]
    },
    {
      "cell_type": "markdown",
      "metadata": {
        "id": "7frOub1N6EzH",
        "colab_type": "text"
      },
      "source": [
        "8. Given a Python list, find value 20 in the list, and if it is present, replace it with 200. Only update the first occurrence of a value.\n",
        "\n",
        "  list1 = [5, 10, 15, 20, 25, 50, 20]\n",
        "\n",
        "  Expected output:\n",
        "  list1 = [5, 10, 15, 200, 25, 50, 20]"
      ]
    },
    {
      "cell_type": "code",
      "metadata": {
        "id": "p4Ut3hKx6KyY",
        "colab_type": "code",
        "colab": {
          "base_uri": "https://localhost:8080/",
          "height": 34
        },
        "outputId": "b6b5ebb1-d1fd-4de1-a84f-8ebe2be2ec48"
      },
      "source": [
        "list1 = [5, 10, 15, 20, 25, 50, 20]\n",
        "\n",
        "if 20 in list1:\n",
        "  id = list1.index(20)\n",
        "  list1[id] = 200\n",
        "\n",
        "print (list1)"
      ],
      "execution_count": 7,
      "outputs": [
        {
          "output_type": "stream",
          "text": [
            "[5, 10, 15, 200, 25, 50, 20]\n"
          ],
          "name": "stdout"
        }
      ]
    },
    {
      "cell_type": "markdown",
      "metadata": {
        "id": "dKCv5S26K_xa",
        "colab_type": "text"
      },
      "source": [
        "9. Create a tuple of 5 colours."
      ]
    },
    {
      "cell_type": "code",
      "metadata": {
        "id": "UABe5yEx6nqX",
        "colab_type": "code",
        "colab": {
          "base_uri": "https://localhost:8080/",
          "height": 34
        },
        "outputId": "b7c27d4f-1cbb-4fa9-860f-7e02f00c62fd"
      },
      "source": [
        "tup = ('blue', 'violet', 'yellow', 'gray', 'black')\n",
        "tup"
      ],
      "execution_count": 8,
      "outputs": [
        {
          "output_type": "execute_result",
          "data": {
            "text/plain": [
              "('blue', 'violet', 'yellow', 'gray', 'black')"
            ]
          },
          "metadata": {
            "tags": []
          },
          "execution_count": 8
        }
      ]
    },
    {
      "cell_type": "markdown",
      "metadata": {
        "id": "eGxwuflJLgvI",
        "colab_type": "text"
      },
      "source": [
        "10. Unpack the following tuple into 4 variables-- aTuple = (10, 20, 30, 40)"
      ]
    },
    {
      "cell_type": "code",
      "metadata": {
        "id": "Mm9-vhoxL_2E",
        "colab_type": "code",
        "colab": {
          "base_uri": "https://localhost:8080/",
          "height": 85
        },
        "outputId": "ac95c1da-98b6-4471-a2ee-85a5ae4f75b9"
      },
      "source": [
        "a, b, c, d = (10, 20, 30, 40)\n",
        "\n",
        "print (a)\n",
        "print (b)\n",
        "print (c)\n",
        "print (d)"
      ],
      "execution_count": 9,
      "outputs": [
        {
          "output_type": "stream",
          "text": [
            "10\n",
            "20\n",
            "30\n",
            "40\n"
          ],
          "name": "stdout"
        }
      ]
    }
  ]
}