{
 "cells": [
  {
   "cell_type": "markdown",
   "metadata": {},
   "source": [
    "1. Take values of length and breadth of a rectangle from user and check if it is\n",
    "square or not."
   ]
  },
  {
   "cell_type": "code",
   "execution_count": 1,
   "metadata": {},
   "outputs": [
    {
     "name": "stdin",
     "output_type": "stream",
     "text": [
      "Enter length:  5\n",
      "Enter width:  6\n"
     ]
    },
    {
     "name": "stdout",
     "output_type": "stream",
     "text": [
      "Not a square.\n"
     ]
    }
   ],
   "source": [
    "length = int(input(\"Enter length: \"))\n",
    "width = int(input(\"Enter width: \"))\n",
    "\n",
    "if length == width:\n",
    "    print (\"It's a square!\")\n",
    "else:\n",
    "    print(\"Not a square.\")"
   ]
  },
  {
   "cell_type": "markdown",
   "metadata": {},
   "source": [
    "2. Take two int values from user and print greatest among them."
   ]
  },
  {
   "cell_type": "code",
   "execution_count": 2,
   "metadata": {},
   "outputs": [
    {
     "name": "stdin",
     "output_type": "stream",
     "text": [
      "Enter an integer:  5\n",
      "Enter another please:  8\n"
     ]
    },
    {
     "name": "stdout",
     "output_type": "stream",
     "text": [
      "The large one is: 8\n"
     ]
    }
   ],
   "source": [
    "number_1 = int(input(\"Enter an integer: \"))\n",
    "number_2 = int(input(\"Enter another please: \"))\n",
    "\n",
    "if number_1 > number_2:\n",
    "    print (\"The large one is:\" , number_1)\n",
    "else:\n",
    "    print (\"The large one is:\" , number_2)"
   ]
  },
  {
   "cell_type": "markdown",
   "metadata": {},
   "source": [
    "3. Write a program to read the age of a candidate and determine whether it is\n",
    "eligible for casting his/her own vote."
   ]
  },
  {
   "cell_type": "code",
   "execution_count": 3,
   "metadata": {},
   "outputs": [
    {
     "name": "stdin",
     "output_type": "stream",
     "text": [
      "Enter your age:  9\n"
     ]
    },
    {
     "name": "stdout",
     "output_type": "stream",
     "text": [
      "You're not eligible to vote yet, sorry!.\n"
     ]
    }
   ],
   "source": [
    "age = int(input(\"Enter your age: \"))\n",
    "\n",
    "if age >= 18:\n",
    "    print (\"Yeah! You can vote.\")\n",
    "else:\n",
    "    print (\"You're not eligible to vote yet, sorry!.\")\n"
   ]
  },
  {
   "cell_type": "markdown",
   "metadata": {},
   "source": [
    "4. Write a Python program to add a key to a dictionary.\n",
    "\n",
    "Sample Dictionary : {0: 10, 1: 20}\n",
    "\n",
    "Expected Result : {0: 10, 1: 20, 2: 30}"
   ]
  },
  {
   "cell_type": "code",
   "execution_count": 4,
   "metadata": {},
   "outputs": [
    {
     "name": "stdout",
     "output_type": "stream",
     "text": [
      "{0: 10, 1: 20, 2: 30}\n"
     ]
    }
   ],
   "source": [
    "dict = {0: 10, 1: 20}\n",
    "dict[2] = 30\n",
    "\n",
    "print (dict)"
   ]
  },
  {
   "cell_type": "markdown",
   "metadata": {},
   "source": [
    "5. Below are the two lists, convert it into a dictionary.\n",
    "\n",
    "<code>keys = ['Ten', 'Twenty', 'Thirty']\n",
    "values = [10, 20, 30]</code>\n",
    "    \n",
    "Expected output:\n",
    "{'Ten': 10, 'Twenty': 20, 'Thirty': 30}"
   ]
  },
  {
   "cell_type": "code",
   "execution_count": 5,
   "metadata": {},
   "outputs": [
    {
     "name": "stdout",
     "output_type": "stream",
     "text": [
      "The list version is:  [('Ten', 10), ('Twenty', 20), ('Thirty', 30)]\n",
      "The dictionary would be:  {'Ten': 10, 'Twenty': 20, 'Thirty': 30}\n"
     ]
    }
   ],
   "source": [
    "keys = ['Ten', 'Twenty', 'Thirty'] \n",
    "values = [10, 20, 30]\n",
    "\n",
    "dict2 = zip(keys, values)\n",
    "a = list(dict2)\n",
    "print (\"The list version is: \", a)\n",
    "\n",
    "b = {x[0]:x[1] for x in a}\n",
    "print(\"The dictionary would be: \", b)"
   ]
  },
  {
   "cell_type": "markdown",
   "metadata": {},
   "source": [
    "6. \n",
    "\n",
    "<code> \n",
    "Access the value of key ‘history’\n",
    "sampleDict = {\n",
    "\"class\":{\n",
    "\"student\":{\n",
    "\"name\":\"Mike\",\n",
    "\"marks\":{\n",
    "\"physics\":70,\n",
    "\"history\":80\n",
    "}\n",
    "}\n",
    "}\n",
    "}\n",
    "</code>\n",
    "\n",
    "Expected output:\n",
    "80"
   ]
  },
  {
   "cell_type": "code",
   "execution_count": 6,
   "metadata": {},
   "outputs": [
    {
     "data": {
      "text/plain": [
       "80"
      ]
     },
     "execution_count": 6,
     "metadata": {},
     "output_type": "execute_result"
    }
   ],
   "source": [
    "sampleDict = {\"class\":\n",
    "                {\"student\":\n",
    "                 {\"name\":\"Mike\",\n",
    "                  \"marks\":{\"physics\":70,\"history\":80\n",
    "}\n",
    "}\n",
    "}\n",
    "}\n",
    "\n",
    "sampleDict['class']['student']['marks']['history']"
   ]
  },
  {
   "cell_type": "markdown",
   "metadata": {},
   "source": [
    "7. Given the following dictionary:\n",
    "    <code>\n",
    "inventory = {\n",
    "'gold' : 500,\n",
    "'pouch' : ['flint', 'twine', 'gemstone'],\n",
    "'backpack' : ['xylophone','dagger', 'bedroll','bread loaf']\n",
    "} </code>\n",
    "\n",
    "Try to do the following:\n",
    "\n",
    " ● Add a key to inventory called 'pocket'.\n",
    " \n",
    " ● Set the value of 'pocket' to be a list consisting of the strings 'seashell','strange berry', and 'lint'."
   ]
  },
  {
   "cell_type": "code",
   "execution_count": 7,
   "metadata": {},
   "outputs": [],
   "source": [
    "inventory = {\n",
    "'gold' : 500,\n",
    "'pouch' : ['flint', 'twine', 'gemstone'],\n",
    "'backpack' : ['xylophone','dagger', 'bedroll','bread loaf']\n",
    "} "
   ]
  },
  {
   "cell_type": "code",
   "execution_count": 8,
   "metadata": {},
   "outputs": [
    {
     "data": {
      "text/plain": [
       "{'gold': 500,\n",
       " 'pouch': ['flint', 'twine', 'gemstone'],\n",
       " 'backpack': ['xylophone', 'dagger', 'bedroll', 'bread loaf'],\n",
       " 'pocket': ['seashell', 'strange berry', 'lint']}"
      ]
     },
     "execution_count": 8,
     "metadata": {},
     "output_type": "execute_result"
    }
   ],
   "source": [
    "inventory['pocket'] = ['seashell','strange berry','lint']\n",
    "inventory"
   ]
  },
  {
   "cell_type": "markdown",
   "metadata": {},
   "source": [
    " ● .sort()the items in the list stored under the 'backpack' key."
   ]
  },
  {
   "cell_type": "code",
   "execution_count": 9,
   "metadata": {},
   "outputs": [],
   "source": [
    "a = ['xylophone', 'dagger', 'bedroll', 'bread loaf']\n",
    "a.sort()"
   ]
  },
  {
   "cell_type": "code",
   "execution_count": 10,
   "metadata": {},
   "outputs": [
    {
     "data": {
      "text/plain": [
       "{'gold': 500,\n",
       " 'pouch': ['flint', 'twine', 'gemstone'],\n",
       " 'backpack': ['bedroll', 'bread loaf', 'dagger', 'xylophone'],\n",
       " 'pocket': ['seashell', 'strange berry', 'lint']}"
      ]
     },
     "execution_count": 10,
     "metadata": {},
     "output_type": "execute_result"
    }
   ],
   "source": [
    "inventory['backpack'] = a\n",
    "inventory"
   ]
  },
  {
   "cell_type": "markdown",
   "metadata": {},
   "source": [
    " ● Then .remove('dagger') from the list of items stored under the 'backpack'\n",
    "key."
   ]
  },
  {
   "cell_type": "code",
   "execution_count": 11,
   "metadata": {},
   "outputs": [
    {
     "data": {
      "text/plain": [
       "{'gold': 500,\n",
       " 'pouch': ['flint', 'twine', 'gemstone'],\n",
       " 'backpack': ['bedroll', 'bread loaf', 'xylophone'],\n",
       " 'pocket': ['seashell', 'strange berry', 'lint']}"
      ]
     },
     "execution_count": 11,
     "metadata": {},
     "output_type": "execute_result"
    }
   ],
   "source": [
    "a.remove('dagger')\n",
    "\n",
    "inventory"
   ]
  },
  {
   "cell_type": "markdown",
   "metadata": {},
   "source": [
    " ● Add 50 to the number stored under the 'gold' key."
   ]
  },
  {
   "cell_type": "code",
   "execution_count": 12,
   "metadata": {},
   "outputs": [
    {
     "data": {
      "text/plain": [
       "{'gold': [500, 50],\n",
       " 'pouch': ['flint', 'twine', 'gemstone'],\n",
       " 'backpack': ['bedroll', 'bread loaf', 'xylophone'],\n",
       " 'pocket': ['seashell', 'strange berry', 'lint']}"
      ]
     },
     "execution_count": 12,
     "metadata": {},
     "output_type": "execute_result"
    }
   ],
   "source": [
    "inventory['gold'] = [500, 50]\n",
    "inventory"
   ]
  }
 ],
 "metadata": {
  "kernelspec": {
   "display_name": "Python 3",
   "language": "python",
   "name": "python3"
  },
  "language_info": {
   "codemirror_mode": {
    "name": "ipython",
    "version": 3
   },
   "file_extension": ".py",
   "mimetype": "text/x-python",
   "name": "python",
   "nbconvert_exporter": "python",
   "pygments_lexer": "ipython3",
   "version": "3.7.6"
  }
 },
 "nbformat": 4,
 "nbformat_minor": 4
}
