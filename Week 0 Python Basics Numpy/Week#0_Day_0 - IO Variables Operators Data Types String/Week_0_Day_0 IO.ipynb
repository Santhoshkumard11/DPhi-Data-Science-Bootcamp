{
  "nbformat": 4,
  "nbformat_minor": 0,
  "metadata": {
    "colab": {
      "name": "Week#0_Day_0.ipynb",
      "provenance": []
    },
    "kernelspec": {
      "name": "python3",
      "display_name": "Python 3"
    }
  },
  "cells": [
    {
      "cell_type": "markdown",
      "metadata": {
        "id": "OwOlmFq6pw4S",
        "colab_type": "text"
      },
      "source": [
        "1. Write a program to take a number from the user using a prompt “Enter a number : “"
      ]
    },
    {
      "cell_type": "code",
      "metadata": {
        "id": "jFCoxtDMp5U6",
        "colab_type": "code",
        "colab": {
          "base_uri": "https://localhost:8080/",
          "height": 34
        },
        "outputId": "aa02a0ac-67e1-4433-af64-38ceea191424"
      },
      "source": [
        "x = float(input(\"Enter a number:\"))"
      ],
      "execution_count": 1,
      "outputs": [
        {
          "output_type": "stream",
          "text": [
            "Enter a number:5\n"
          ],
          "name": "stdout"
        }
      ]
    },
    {
      "cell_type": "markdown",
      "metadata": {
        "id": "4p-zH7joqFA7",
        "colab_type": "text"
      },
      "source": [
        "2. Print the number taken by the user in the previous question.\n",
        "Hint: assign your program to a variable in question 1."
      ]
    },
    {
      "cell_type": "code",
      "metadata": {
        "id": "K0C-acghpiFy",
        "colab_type": "code",
        "colab": {
          "base_uri": "https://localhost:8080/",
          "height": 34
        },
        "outputId": "bb9fe94c-5419-406f-8322-f3be6de55b02"
      },
      "source": [
        "print (x)"
      ],
      "execution_count": 2,
      "outputs": [
        {
          "output_type": "stream",
          "text": [
            "5.0\n"
          ],
          "name": "stdout"
        }
      ]
    },
    {
      "cell_type": "markdown",
      "metadata": {
        "id": "zOpHCs8oqPfV",
        "colab_type": "text"
      },
      "source": [
        "3. Print the square of that number."
      ]
    },
    {
      "cell_type": "code",
      "metadata": {
        "id": "hTfeaoUIqUzV",
        "colab_type": "code",
        "colab": {
          "base_uri": "https://localhost:8080/",
          "height": 34
        },
        "outputId": "502717c4-32b8-4e32-bd9c-36d6a955688c"
      },
      "source": [
        "y = x**2\n",
        "print (y)"
      ],
      "execution_count": 3,
      "outputs": [
        {
          "output_type": "stream",
          "text": [
            "25.0\n"
          ],
          "name": "stdout"
        }
      ]
    },
    {
      "cell_type": "markdown",
      "metadata": {
        "id": "aXLoP5eQsa56",
        "colab_type": "text"
      },
      "source": [
        "4. Create a string with value “Program” and print ‘o’ from it.\n",
        "Hint: recall indexing."
      ]
    },
    {
      "cell_type": "code",
      "metadata": {
        "id": "dTR0TxZBssED",
        "colab_type": "code",
        "colab": {
          "base_uri": "https://localhost:8080/",
          "height": 34
        },
        "outputId": "cf09e372-bd7d-496e-bc8f-0466f5729943"
      },
      "source": [
        "string1 = \"Program\"\n",
        "print (string1[2])"
      ],
      "execution_count": 4,
      "outputs": [
        {
          "output_type": "stream",
          "text": [
            "o\n"
          ],
          "name": "stdout"
        }
      ]
    },
    {
      "cell_type": "markdown",
      "metadata": {
        "id": "sioJO10hs6gI",
        "colab_type": "text"
      },
      "source": [
        "5. Print the last 4 characters of the above string."
      ]
    },
    {
      "cell_type": "code",
      "metadata": {
        "id": "D67Fds5Ms-SM",
        "colab_type": "code",
        "colab": {
          "base_uri": "https://localhost:8080/",
          "height": 34
        },
        "outputId": "f80076f2-5196-49fd-d25f-753d17fa2f6c"
      },
      "source": [
        "print (string1[3:])"
      ],
      "execution_count": 5,
      "outputs": [
        {
          "output_type": "stream",
          "text": [
            "gram\n"
          ],
          "name": "stdout"
        }
      ]
    },
    {
      "cell_type": "markdown",
      "metadata": {
        "id": "yWoEYn7ntMK1",
        "colab_type": "text"
      },
      "source": [
        "6. Check if the string contains all lowercase letters."
      ]
    },
    {
      "cell_type": "code",
      "metadata": {
        "id": "nShXKj-vtZFU",
        "colab_type": "code",
        "colab": {
          "base_uri": "https://localhost:8080/",
          "height": 34
        },
        "outputId": "db23f5db-3e85-44c2-aec9-6048f37e4352"
      },
      "source": [
        "string1.islower()"
      ],
      "execution_count": 6,
      "outputs": [
        {
          "output_type": "execute_result",
          "data": {
            "text/plain": [
              "False"
            ]
          },
          "metadata": {
            "tags": []
          },
          "execution_count": 6
        }
      ]
    },
    {
      "cell_type": "markdown",
      "metadata": {
        "id": "VGeEyVIUt8i-",
        "colab_type": "text"
      },
      "source": [
        "7. Print the type of the string."
      ]
    },
    {
      "cell_type": "code",
      "metadata": {
        "id": "XokGfw9bt-zo",
        "colab_type": "code",
        "colab": {
          "base_uri": "https://localhost:8080/",
          "height": 34
        },
        "outputId": "3acdea72-6d15-4fad-c65f-af6e0eb716c2"
      },
      "source": [
        "type(string1)"
      ],
      "execution_count": 7,
      "outputs": [
        {
          "output_type": "execute_result",
          "data": {
            "text/plain": [
              "str"
            ]
          },
          "metadata": {
            "tags": []
          },
          "execution_count": 7
        }
      ]
    }
  ]
}